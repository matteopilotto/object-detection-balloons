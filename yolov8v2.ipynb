{
  "cells": [
    {
      "cell_type": "markdown",
      "metadata": {
        "id": "t6MPjfT5NrKQ"
      },
      "source": [
        "<div align=\"center\">\n",
        "\n",
        "  <a href=\"https://ultralytics.com/yolov8\" target=\"_blank\">\n",
        "    <img width=\"1024\", src=\"https://raw.githubusercontent.com/ultralytics/assets/main/yolov8/banner-yolov8.png\"></a>\n",
        "\n",
        "\n",
        "<br>\n",
        "  <a href=\"https://console.paperspace.com/github/ultralytics/ultralytics\"><img src=\"https://assets.paperspace.io/img/gradient-badge.svg\" alt=\"Run on Gradient\"/></a>\n",
        "  <a href=\"https://colab.research.google.com/github/ultralytics/ultralytics/blob/main/examples/tutorial.ipynb\"><img src=\"https://colab.research.google.com/assets/colab-badge.svg\" alt=\"Open In Colab\"></a>\n",
        "  <a href=\"https://www.kaggle.com/ultralytics/yolov8\"><img src=\"https://kaggle.com/static/images/open-in-kaggle.svg\" alt=\"Open In Kaggle\"></a>\n",
        "<br>\n",
        "\n",
        "Welcome to the Ultralytics YOLOv8 🚀 notebook! <a href=\"https://github.com/ultralytics/ultralytics\">YOLOv8</a> is the latest version of the YOLO (You Only Look Once) AI models developed by <a href=\"https://ultralytics.com\">Ultralytics</a>. This notebook serves as the starting point for exploring the various resources available to help you get started with YOLOv8 and understand its features and capabilities.\n",
        "\n",
        "YOLOv8 models are fast, accurate, and easy to use, making them ideal for various object detection and image segmentation tasks. They can be trained on large datasets and run on diverse hardware platforms, from CPUs to GPUs.\n",
        "\n",
        "We hope that the resources in this notebook will help you get the most out of YOLOv8. Please browse the YOLOv8 <a href=\"https://docs.ultralytics.com/\">Docs</a> for details, raise an issue on <a href=\"https://github.com/ultralytics/ultralytics\">GitHub</a> for support, and join our <a href=\"https://ultralytics.com/discord\">Discord</a> community for questions and discussions!\n",
        "\n",
        "</div>"
      ]
    },
    {
      "cell_type": "markdown",
      "metadata": {
        "id": "7mGmQbAO5pQb"
      },
      "source": [
        "# Setup\n",
        "\n",
        "Pip install `ultralytics` and [dependencies](https://github.com/ultralytics/ultralytics/blob/main/requirements.txt) and check software and hardware."
      ]
    },
    {
      "cell_type": "code",
      "execution_count": 1,
      "metadata": {
        "colab": {
          "base_uri": "https://localhost:8080/"
        },
        "id": "wbvMlHd_QwMG",
        "outputId": "27ca383c-0a97-4679-f1c5-ba843f033de7"
      },
      "outputs": [
        {
          "name": "stderr",
          "output_type": "stream",
          "text": [
            "Ultralytics YOLOv8.0.163 🚀 Python-3.10.6 torch-2.0.1+cu118 CUDA:0 (NVIDIA GeForce RTX 3090, 24260MiB)\n",
            "Setup complete ✅ (48 CPUs, 125.7 GB RAM, 1.1/20.0 GB disk)\n"
          ]
        }
      ],
      "source": [
        "# %pip install ultralytics\n",
        "\n",
        "import ultralytics\n",
        "ultralytics.checks()"
      ]
    },
    {
      "cell_type": "markdown",
      "metadata": {
        "id": "4JnkELT0cIJg"
      },
      "source": [
        "# 1. Predict\n",
        "\n",
        "YOLOv8 may be used directly in the Command Line Interface (CLI) with a `yolo` command for a variety of tasks and modes and accepts additional arguments, i.e. `imgsz=640`. See a full list of available `yolo` [arguments](https://docs.ultralytics.com/usage/cfg/) and other details in the [YOLOv8 Predict Docs](https://docs.ultralytics.com/modes/train/).\n"
      ]
    },
    {
      "cell_type": "code",
      "execution_count": 3,
      "metadata": {
        "colab": {
          "base_uri": "https://localhost:8080/"
        },
        "id": "zR9ZbuQCH7FX",
        "outputId": "64489d1f-e71a-44b5-92f6-2088781ca096"
      },
      "outputs": [
        {
          "name": "stdout",
          "output_type": "stream",
          "text": [
            "Ultralytics YOLOv8.0.163 🚀 Python-3.10.6 torch-2.0.1+cu118 CUDA:0 (NVIDIA GeForce RTX 3090, 24260MiB)\n",
            "YOLOv8n summary (fused): 168 layers, 3151904 parameters, 0 gradients\n",
            "\n",
            "Found https://ultralytics.com/images/zidane.jpg locally at zidane.jpg\n",
            "image 1/1 /workspace/ultralytics/examples/zidane.jpg: 384x640 2 persons, 1 tie, 104.4ms\n",
            "Speed: 2.3ms preprocess, 104.4ms inference, 62.3ms postprocess per image at shape (1, 3, 384, 640)\n",
            "Results saved to \u001b[1mruns/detect/predict4\u001b[0m\n"
          ]
        }
      ],
      "source": [
        "# Run inference on an image with YOLOv8n\n",
        "!yolo predict model=yolov8n.pt source='https://ultralytics.com/images/zidane.jpg'"
      ]
    },
    {
      "cell_type": "markdown",
      "metadata": {
        "id": "hkAzDWJ7cWTr"
      },
      "source": [
        "&nbsp;&nbsp;&nbsp;&nbsp;&nbsp;&nbsp;&nbsp;&nbsp;\n",
        "<img align=\"left\" src=\"https://user-images.githubusercontent.com/26833433/212889447-69e5bdf1-5800-4e29-835e-2ed2336dede2.jpg\" width=\"600\">"
      ]
    },
    {
      "cell_type": "markdown",
      "metadata": {
        "id": "0eq1SMWl6Sfn"
      },
      "source": [
        "# 2. Val\n",
        "Validate a model's accuracy on the [COCO](https://docs.ultralytics.com/datasets/detect/coco/) dataset's `val` or `test` splits. The latest YOLOv8 [models](https://github.com/ultralytics/ultralytics#models) are downloaded automatically the first time they are used. See [YOLOv8 Val Docs](https://docs.ultralytics.com/modes/val/) for more information."
      ]
    },
    {
      "cell_type": "code",
      "execution_count": 4,
      "metadata": {
        "id": "WQPtK1QYVaD_"
      },
      "outputs": [
        {
          "name": "stdout",
          "output_type": "stream",
          "text": [
            "/bin/bash: line 1: unzip: command not found\n"
          ]
        }
      ],
      "source": [
        "# Download COCO val\n",
        "\n",
        "import torch\n",
        "# torch.hub.download_url_to_file('https://ultralytics.com/assets/coco2017val.zip', 'tmp.zip')  # download (780M - 5000 images)\n",
        "!unzip -q tmp.zip -d datasets && rm tmp.zip  # unzip"
      ]
    },
    {
      "cell_type": "code",
      "execution_count": 5,
      "metadata": {
        "colab": {
          "base_uri": "https://localhost:8080/"
        },
        "id": "X58w8JLpMnjH",
        "outputId": "e3aacd98-ceca-49b7-e112-a0c25979ad6c"
      },
      "outputs": [
        {
          "name": "stdout",
          "output_type": "stream",
          "text": [
            "Ultralytics YOLOv8.0.163 🚀 Python-3.10.6 torch-2.0.1+cu118 CUDA:0 (NVIDIA GeForce RTX 3090, 24260MiB)\n",
            "YOLOv8n summary (fused): 168 layers, 3151904 parameters, 0 gradients\n",
            "Downloading https://ultralytics.com/assets/Arial.ttf to '/root/.config/Ultralytics/Arial.ttf'...\n",
            "100%|████████████████████████████████████████| 755k/755k [00:08<00:00, 90.1kB/s]\n",
            "\u001b[34m\u001b[1mval: \u001b[0mScanning /workspace/ultralytics/examples/datasets/coco8/labels/val.cache...\u001b[0m\n",
            "                 Class     Images  Instances      Box(P          R      mAP50  m\n",
            "                   all          4         17      0.622      0.833      0.888       0.63\n",
            "                person          4         10      0.722        0.5      0.519      0.269\n",
            "                   dog          4          1      0.371          1      0.995      0.597\n",
            "                 horse          4          2      0.752          1      0.995      0.631\n",
            "              elephant          4          2      0.506        0.5      0.828      0.394\n",
            "              umbrella          4          1      0.565          1      0.995      0.995\n",
            "          potted plant          4          1      0.815          1      0.995      0.895\n",
            "Speed: 0.4ms preprocess, 26.0ms inference, 0.0ms loss, 13.0ms postprocess per image\n",
            "Results saved to \u001b[1mruns/detect/val5\u001b[0m\n"
          ]
        }
      ],
      "source": [
        "# Validate YOLOv8n on COCO8 val\n",
        "\n",
        "!yolo val model=yolov8n.pt data=coco8.yaml"
      ]
    },
    {
      "cell_type": "markdown",
      "metadata": {
        "id": "ZY2VXXXu74w5"
      },
      "source": [
        "# 3. Train\n",
        "\n",
        "<p align=\"\"><a href=\"https://bit.ly/ultralytics_hub\"><img width=\"1000\" src=\"https://github.com/ultralytics/assets/raw/main/yolov8/banner-integrations.png\"/></a></p>\n",
        "\n",
        "Train YOLOv8 on [Detect](https://docs.ultralytics.com/tasks/detect/), [Segment](https://docs.ultralytics.com/tasks/segment/), [Classify](https://docs.ultralytics.com/tasks/classify/) and [Pose](https://docs.ultralytics.com/tasks/pose/) datasets. See [YOLOv8 Train Docs](https://docs.ultralytics.com/modes/train/) for more information."
      ]
    },
    {
      "cell_type": "code",
      "execution_count": null,
      "metadata": {
        "id": "ktegpM42AooT"
      },
      "outputs": [],
      "source": [
        "#@title Select YOLOv8 🚀 logger {run: 'auto'}\n",
        "logger = 'Comet' #@param ['Comet', 'TensorBoard']\n",
        "\n",
        "if logger == 'Comet':\n",
        "  %pip install -q comet_ml\n",
        "  import comet_ml; comet_ml.init()\n",
        "elif logger == 'TensorBoard':\n",
        "  %load_ext tensorboard\n",
        "  %tensorboard --logdir ."
      ]
    },
    {
      "cell_type": "code",
      "execution_count": 6,
      "metadata": {
        "colab": {
          "base_uri": "https://localhost:8080/"
        },
        "id": "1NcFxRcFdJ_O",
        "outputId": "b750f2fe-c4d9-4764-b8d5-ed7bd920697b"
      },
      "outputs": [
        {
          "name": "stdout",
          "output_type": "stream",
          "text": [
            "Ultralytics YOLOv8.0.163 🚀 Python-3.10.6 torch-2.0.1+cu118 CUDA:0 (NVIDIA GeForce RTX 3090, 24260MiB)\n",
            "\u001b[34m\u001b[1mengine/trainer: \u001b[0mtask=detect, mode=train, model=yolov8n.pt, data=coco8.yaml, epochs=3, patience=50, batch=16, imgsz=640, save=True, save_period=-1, cache=False, device=None, workers=8, project=None, name=None, exist_ok=False, pretrained=True, optimizer=auto, verbose=True, seed=0, deterministic=True, single_cls=False, rect=False, cos_lr=False, close_mosaic=10, resume=False, amp=True, fraction=1.0, profile=False, freeze=None, overlap_mask=True, mask_ratio=4, dropout=0.0, val=True, split=val, save_json=False, save_hybrid=False, conf=None, iou=0.7, max_det=300, half=False, dnn=False, plots=True, source=None, show=False, save_txt=False, save_conf=False, save_crop=False, show_labels=True, show_conf=True, vid_stride=1, line_width=None, visualize=False, augment=False, agnostic_nms=False, classes=None, retina_masks=False, boxes=True, format=torchscript, keras=False, optimize=False, int8=False, dynamic=False, simplify=False, opset=None, workspace=4, nms=False, lr0=0.01, lrf=0.01, momentum=0.937, weight_decay=0.0005, warmup_epochs=3.0, warmup_momentum=0.8, warmup_bias_lr=0.1, box=7.5, cls=0.5, dfl=1.5, pose=12.0, kobj=1.0, label_smoothing=0.0, nbs=64, hsv_h=0.015, hsv_s=0.7, hsv_v=0.4, degrees=0.0, translate=0.1, scale=0.5, shear=0.0, perspective=0.0, flipud=0.0, fliplr=0.5, mosaic=1.0, mixup=0.0, copy_paste=0.0, cfg=None, tracker=botsort.yaml, save_dir=runs/detect/train\n",
            "\n",
            "                   from  n    params  module                                       arguments                     \n",
            "  0                  -1  1       464  ultralytics.nn.modules.conv.Conv             [3, 16, 3, 2]                 \n",
            "  1                  -1  1      4672  ultralytics.nn.modules.conv.Conv             [16, 32, 3, 2]                \n",
            "  2                  -1  1      7360  ultralytics.nn.modules.block.C2f             [32, 32, 1, True]             \n",
            "  3                  -1  1     18560  ultralytics.nn.modules.conv.Conv             [32, 64, 3, 2]                \n",
            "  4                  -1  2     49664  ultralytics.nn.modules.block.C2f             [64, 64, 2, True]             \n",
            "  5                  -1  1     73984  ultralytics.nn.modules.conv.Conv             [64, 128, 3, 2]               \n",
            "  6                  -1  2    197632  ultralytics.nn.modules.block.C2f             [128, 128, 2, True]           \n",
            "  7                  -1  1    295424  ultralytics.nn.modules.conv.Conv             [128, 256, 3, 2]              \n",
            "  8                  -1  1    460288  ultralytics.nn.modules.block.C2f             [256, 256, 1, True]           \n",
            "  9                  -1  1    164608  ultralytics.nn.modules.block.SPPF            [256, 256, 5]                 \n",
            " 10                  -1  1         0  torch.nn.modules.upsampling.Upsample         [None, 2, 'nearest']          \n",
            " 11             [-1, 6]  1         0  ultralytics.nn.modules.conv.Concat           [1]                           \n",
            " 12                  -1  1    148224  ultralytics.nn.modules.block.C2f             [384, 128, 1]                 \n",
            " 13                  -1  1         0  torch.nn.modules.upsampling.Upsample         [None, 2, 'nearest']          \n",
            " 14             [-1, 4]  1         0  ultralytics.nn.modules.conv.Concat           [1]                           \n",
            " 15                  -1  1     37248  ultralytics.nn.modules.block.C2f             [192, 64, 1]                  \n",
            " 16                  -1  1     36992  ultralytics.nn.modules.conv.Conv             [64, 64, 3, 2]                \n",
            " 17            [-1, 12]  1         0  ultralytics.nn.modules.conv.Concat           [1]                           \n",
            " 18                  -1  1    123648  ultralytics.nn.modules.block.C2f             [192, 128, 1]                 \n",
            " 19                  -1  1    147712  ultralytics.nn.modules.conv.Conv             [128, 128, 3, 2]              \n",
            " 20             [-1, 9]  1         0  ultralytics.nn.modules.conv.Concat           [1]                           \n",
            " 21                  -1  1    493056  ultralytics.nn.modules.block.C2f             [384, 256, 1]                 \n",
            " 22        [15, 18, 21]  1    897664  ultralytics.nn.modules.head.Detect           [80, [64, 128, 256]]          \n",
            "Model summary: 225 layers, 3157200 parameters, 3157184 gradients\n",
            "\n",
            "Transferred 355/355 items from pretrained weights\n",
            "Freezing layer 'model.22.dfl.conv.weight'\n",
            "\u001b[34m\u001b[1mAMP: \u001b[0mrunning Automatic Mixed Precision (AMP) checks with YOLOv8n...\n",
            "\u001b[34m\u001b[1mAMP: \u001b[0mchecks passed ✅\n",
            "\u001b[34m\u001b[1mtrain: \u001b[0mScanning /workspace/ultralytics/examples/datasets/coco8/labels/train... 4\u001b[0m\n",
            "\u001b[34m\u001b[1mtrain: \u001b[0mNew cache created: /workspace/ultralytics/examples/datasets/coco8/labels/train.cache\n",
            "\u001b[34m\u001b[1mval: \u001b[0mScanning /workspace/ultralytics/examples/datasets/coco8/labels/val.cache...\u001b[0m\n",
            "Plotting labels to runs/detect/train/labels.jpg... \n",
            "\u001b[34m\u001b[1moptimizer:\u001b[0m AdamW(lr=0.000119, momentum=0.9) with parameter groups 57 weight(decay=0.0), 64 weight(decay=0.0005), 63 bias(decay=0.0)\n",
            "Image sizes 640 train, 640 val\n",
            "Using 4 dataloader workers\n",
            "Logging results to \u001b[1mruns/detect/train\u001b[0m\n",
            "Starting training for 3 epochs...\n",
            "\n",
            "      Epoch    GPU_mem   box_loss   cls_loss   dfl_loss  Instances       Size\n",
            "        1/3     0.843G     0.7584      3.037      1.186         22        640: 1\n",
            "                 Class     Images  Instances      Box(P          R      mAP50  m\n",
            "                   all          4         17      0.613       0.87      0.888      0.615\n",
            "\n",
            "      Epoch    GPU_mem   box_loss   cls_loss   dfl_loss  Instances       Size\n",
            "        2/3     0.839G      1.115      2.598      1.368         43        640: 1\n",
            "                 Class     Images  Instances      Box(P          R      mAP50  m\n",
            "                   all          4         17      0.589      0.894      0.888      0.615\n",
            "\n",
            "      Epoch    GPU_mem   box_loss   cls_loss   dfl_loss  Instances       Size\n",
            "        3/3     0.839G       1.18      2.566      1.367         29        640: 1\n",
            "                 Class     Images  Instances      Box(P          R      mAP50  m\n",
            "                   all          4         17      0.556       0.87      0.874      0.608\n",
            "\n",
            "3 epochs completed in 0.002 hours.\n",
            "Optimizer stripped from runs/detect/train/weights/last.pt, 6.5MB\n",
            "Optimizer stripped from runs/detect/train/weights/best.pt, 6.5MB\n",
            "\n",
            "Validating runs/detect/train/weights/best.pt...\n",
            "Ultralytics YOLOv8.0.163 🚀 Python-3.10.6 torch-2.0.1+cu118 CUDA:0 (NVIDIA GeForce RTX 3090, 24260MiB)\n",
            "Model summary (fused): 168 layers, 3151904 parameters, 0 gradients\n",
            "                 Class     Images  Instances      Box(P          R      mAP50  m\n",
            "                   all          4         17      0.587      0.892      0.886      0.614\n",
            "                person          4         10      0.636        0.5      0.507      0.281\n",
            "                   dog          4          1      0.262          1      0.995      0.597\n",
            "                 horse          4          2      0.699          1      0.995      0.598\n",
            "              elephant          4          2      0.618      0.854      0.828      0.319\n",
            "              umbrella          4          1      0.538          1      0.995      0.995\n",
            "          potted plant          4          1      0.768          1      0.995      0.895\n",
            "Speed: 0.1ms preprocess, 1.3ms inference, 0.0ms loss, 0.5ms postprocess per image\n",
            "Results saved to \u001b[1mruns/detect/train\u001b[0m\n"
          ]
        }
      ],
      "source": [
        "# Train YOLOv8n on COCO8 for 3 epochs\n",
        "\n",
        "!yolo train model=yolov8n.pt data=coco8.yaml epochs=3 imgsz=640"
      ]
    },
    {
      "cell_type": "markdown",
      "metadata": {
        "id": "nPZZeNrLCQG6"
      },
      "source": [
        "# 4. Export\n",
        "\n",
        "Export a YOLOv8 model to any supported format below with the `format` argument, i.e. `format=onnx`. See [YOLOv8 Export Docs](https://docs.ultralytics.com/modes/export/) for more information.\n",
        "\n",
        "- 💡 ProTip: Export to [ONNX](https://onnx.ai/) or [OpenVINO](https://docs.openvino.ai/latest/index.html) for up to 3x CPU speedup.  \n",
        "- 💡 ProTip: Export to [TensorRT](https://developer.nvidia.com/tensorrt) for up to 5x GPU speedup.\n",
        "\n",
        "\n",
        "| Format                                                             | `format` Argument | Model                     | Metadata | Arguments                                           |\n",
        "|--------------------------------------------------------------------|-------------------|---------------------------|----------|-----------------------------------------------------|\n",
        "| [PyTorch](https://pytorch.org/)                                    | -                 | `yolov8n.pt`              | ✅        | -                                                   |\n",
        "| [TorchScript](https://pytorch.org/docs/stable/jit.html)            | `torchscript`     | `yolov8n.torchscript`     | ✅        | `imgsz`, `optimize`                                 |\n",
        "| [ONNX](https://onnx.ai/)                                           | `onnx`            | `yolov8n.onnx`            | ✅        | `imgsz`, `half`, `dynamic`, `simplify`, `opset`     |\n",
        "| [OpenVINO](https://docs.openvino.ai/latest/index.html)             | `openvino`        | `yolov8n_openvino_model/` | ✅        | `imgsz`, `half`                                     |\n",
        "| [TensorRT](https://developer.nvidia.com/tensorrt)                  | `engine`          | `yolov8n.engine`          | ✅        | `imgsz`, `half`, `dynamic`, `simplify`, `workspace` |\n",
        "| [CoreML](https://github.com/apple/coremltools)                     | `coreml`          | `yolov8n.mlpackage`       | ✅        | `imgsz`, `half`, `int8`, `nms`                      |\n",
        "| [TF SavedModel](https://www.tensorflow.org/guide/saved_model)      | `saved_model`     | `yolov8n_saved_model/`    | ✅        | `imgsz`, `keras`                                    |\n",
        "| [TF GraphDef](https://www.tensorflow.org/api_docs/python/tf/Graph) | `pb`              | `yolov8n.pb`              | ❌        | `imgsz`                                             |\n",
        "| [TF Lite](https://www.tensorflow.org/lite)                         | `tflite`          | `yolov8n.tflite`          | ✅        | `imgsz`, `half`, `int8`                             |\n",
        "| [TF Edge TPU](https://coral.ai/docs/edgetpu/models-intro/)         | `edgetpu`         | `yolov8n_edgetpu.tflite`  | ✅        | `imgsz`                                             |\n",
        "| [TF.js](https://www.tensorflow.org/js)                             | `tfjs`            | `yolov8n_web_model/`      | ✅        | `imgsz`                                             |\n",
        "| [PaddlePaddle](https://github.com/PaddlePaddle)                    | `paddle`          | `yolov8n_paddle_model/`   | ✅        | `imgsz`                                             |\n",
        "| [ncnn](https://github.com/Tencent/ncnn)                            | `ncnn`            | `yolov8n_ncnn_model/`     | ✅        | `imgsz`, `half`                                     |\n"
      ]
    },
    {
      "cell_type": "code",
      "execution_count": 7,
      "metadata": {
        "colab": {
          "base_uri": "https://localhost:8080/"
        },
        "id": "CYIjW4igCjqD",
        "outputId": "2b65e381-717b-4a6f-d6f5-5254c867f3a4"
      },
      "outputs": [
        {
          "name": "stdout",
          "output_type": "stream",
          "text": [
            "Ultralytics YOLOv8.0.163 🚀 Python-3.10.6 torch-2.0.1+cu118 CPU (AMD EPYC 7413 24-Core Processor)\n",
            "YOLOv8n summary (fused): 168 layers, 3151904 parameters, 0 gradients\n",
            "\n",
            "\u001b[34m\u001b[1mPyTorch:\u001b[0m starting from 'yolov8n.pt' with input shape (1, 3, 640, 640) BCHW and output shape(s) (1, 84, 8400) (6.2 MB)\n",
            "\n",
            "\u001b[34m\u001b[1mTorchScript:\u001b[0m starting export with torch 2.0.1+cu118...\n",
            "\u001b[34m\u001b[1mTorchScript:\u001b[0m export success ✅ 1.2s, saved as 'yolov8n.torchscript' (12.4 MB)\n",
            "\n",
            "Export complete (3.0s)\n",
            "Results saved to \u001b[1m/workspace/ultralytics/examples\u001b[0m\n",
            "Predict:         yolo predict task=detect model=yolov8n.torchscript imgsz=640 \n",
            "Validate:        yolo val task=detect model=yolov8n.torchscript imgsz=640 data=coco.yaml \n",
            "Visualize:       https://netron.app\n"
          ]
        }
      ],
      "source": [
        "!yolo export model=yolov8n.pt format=torchscript"
      ]
    },
    {
      "cell_type": "markdown",
      "metadata": {
        "id": "kUMOQ0OeDBJG"
      },
      "source": [
        "# 5. Python Usage\n",
        "\n",
        "YOLOv8 was reimagined using Python-first principles for the most seamless Python YOLO experience yet. YOLOv8 models can be loaded from a trained checkpoint or created from scratch. Then methods are used to train, val, predict, and export the model. See detailed Python usage examples in the [YOLOv8 Python Docs](https://docs.ultralytics.com/usage/python/)."
      ]
    },
    {
      "cell_type": "code",
      "execution_count": 2,
      "metadata": {
        "id": "bpF9-vS_DAaf"
      },
      "outputs": [
        {
          "name": "stderr",
          "output_type": "stream",
          "text": [
            "Ultralytics YOLOv8.0.163 🚀 Python-3.10.6 torch-2.0.1+cu118 CUDA:0 (NVIDIA GeForce RTX 3090, 24260MiB)\n",
            "\u001b[34m\u001b[1mengine/trainer: \u001b[0mtask=detect, mode=train, model=yolov8n.pt, data=coco128.yaml, epochs=3, patience=50, batch=16, imgsz=640, save=True, save_period=-1, cache=False, device=None, workers=8, project=None, name=None, exist_ok=False, pretrained=True, optimizer=auto, verbose=True, seed=0, deterministic=True, single_cls=False, rect=False, cos_lr=False, close_mosaic=10, resume=False, amp=True, fraction=1.0, profile=False, freeze=None, overlap_mask=True, mask_ratio=4, dropout=0.0, val=True, split=val, save_json=False, save_hybrid=False, conf=None, iou=0.7, max_det=300, half=False, dnn=False, plots=True, source=None, show=False, save_txt=False, save_conf=False, save_crop=False, show_labels=True, show_conf=True, vid_stride=1, line_width=None, visualize=False, augment=False, agnostic_nms=False, classes=None, retina_masks=False, boxes=True, format=torchscript, keras=False, optimize=False, int8=False, dynamic=False, simplify=False, opset=None, workspace=4, nms=False, lr0=0.01, lrf=0.01, momentum=0.937, weight_decay=0.0005, warmup_epochs=3.0, warmup_momentum=0.8, warmup_bias_lr=0.1, box=7.5, cls=0.5, dfl=1.5, pose=12.0, kobj=1.0, label_smoothing=0.0, nbs=64, hsv_h=0.015, hsv_s=0.7, hsv_v=0.4, degrees=0.0, translate=0.1, scale=0.5, shear=0.0, perspective=0.0, flipud=0.0, fliplr=0.5, mosaic=1.0, mixup=0.0, copy_paste=0.0, cfg=None, tracker=botsort.yaml, save_dir=runs/detect/train8\n",
            "\n",
            "                   from  n    params  module                                       arguments                     \n",
            "  0                  -1  1       464  ultralytics.nn.modules.conv.Conv             [3, 16, 3, 2]                 \n",
            "  1                  -1  1      4672  ultralytics.nn.modules.conv.Conv             [16, 32, 3, 2]                \n",
            "  2                  -1  1      7360  ultralytics.nn.modules.block.C2f             [32, 32, 1, True]             \n",
            "  3                  -1  1     18560  ultralytics.nn.modules.conv.Conv             [32, 64, 3, 2]                \n",
            "  4                  -1  2     49664  ultralytics.nn.modules.block.C2f             [64, 64, 2, True]             \n",
            "  5                  -1  1     73984  ultralytics.nn.modules.conv.Conv             [64, 128, 3, 2]               \n",
            "  6                  -1  2    197632  ultralytics.nn.modules.block.C2f             [128, 128, 2, True]           \n",
            "  7                  -1  1    295424  ultralytics.nn.modules.conv.Conv             [128, 256, 3, 2]              \n",
            "  8                  -1  1    460288  ultralytics.nn.modules.block.C2f             [256, 256, 1, True]           \n",
            "  9                  -1  1    164608  ultralytics.nn.modules.block.SPPF            [256, 256, 5]                 \n",
            " 10                  -1  1         0  torch.nn.modules.upsampling.Upsample         [None, 2, 'nearest']          \n",
            " 11             [-1, 6]  1         0  ultralytics.nn.modules.conv.Concat           [1]                           \n",
            " 12                  -1  1    148224  ultralytics.nn.modules.block.C2f             [384, 128, 1]                 \n",
            " 13                  -1  1         0  torch.nn.modules.upsampling.Upsample         [None, 2, 'nearest']          \n",
            " 14             [-1, 4]  1         0  ultralytics.nn.modules.conv.Concat           [1]                           \n",
            " 15                  -1  1     37248  ultralytics.nn.modules.block.C2f             [192, 64, 1]                  \n",
            " 16                  -1  1     36992  ultralytics.nn.modules.conv.Conv             [64, 64, 3, 2]                \n",
            " 17            [-1, 12]  1         0  ultralytics.nn.modules.conv.Concat           [1]                           \n",
            " 18                  -1  1    123648  ultralytics.nn.modules.block.C2f             [192, 128, 1]                 \n",
            " 19                  -1  1    147712  ultralytics.nn.modules.conv.Conv             [128, 128, 3, 2]              \n",
            " 20             [-1, 9]  1         0  ultralytics.nn.modules.conv.Concat           [1]                           \n",
            " 21                  -1  1    493056  ultralytics.nn.modules.block.C2f             [384, 256, 1]                 \n",
            " 22        [15, 18, 21]  1    897664  ultralytics.nn.modules.head.Detect           [80, [64, 128, 256]]          \n",
            "Model summary: 225 layers, 3157200 parameters, 3157184 gradients\n",
            "\n",
            "Transferred 355/355 items from pretrained weights\n"
          ]
        },
        {
          "name": "stderr",
          "output_type": "stream",
          "text": [
            "Freezing layer 'model.22.dfl.conv.weight'\n",
            "\u001b[34m\u001b[1mAMP: \u001b[0mrunning Automatic Mixed Precision (AMP) checks with YOLOv8n...\n",
            "\u001b[34m\u001b[1mAMP: \u001b[0mchecks passed ✅\n",
            "\u001b[34m\u001b[1mtrain: \u001b[0mScanning /workspace/ultralytics/examples/datasets/coco128/labels/train2017.cache... 126 images, 2 backgrounds, 0 corrupt: 100%|██████████| 128/128 [00:00<?, ?it/s]\n",
            "\u001b[34m\u001b[1mval: \u001b[0mScanning /workspace/ultralytics/examples/datasets/coco128/labels/train2017.cache... 126 images, 2 backgrounds, 0 corrupt: 100%|██████████| 128/128 [00:00<?, ?it/s]\n",
            "Plotting labels to runs/detect/train8/labels.jpg... \n",
            "\u001b[34m\u001b[1moptimizer:\u001b[0m AdamW(lr=0.000119, momentum=0.9) with parameter groups 57 weight(decay=0.0), 64 weight(decay=0.0005), 63 bias(decay=0.0)\n",
            "Image sizes 640 train, 640 val\n",
            "Using 8 dataloader workers\n",
            "Logging results to \u001b[1mruns/detect/train8\u001b[0m\n",
            "Starting training for 3 epochs...\n",
            "\n",
            "      Epoch    GPU_mem   box_loss   cls_loss   dfl_loss  Instances       Size\n",
            "        1/3      2.52G      1.226      1.615      1.274        178        640: 100%|██████████| 8/8 [00:01<00:00,  6.39it/s]\n",
            "                 Class     Images  Instances      Box(P          R      mAP50  mAP50-95): 100%|██████████| 4/4 [00:01<00:00,  3.54it/s]\n",
            "                   all        128        929      0.645      0.532      0.614      0.456\n",
            "\n",
            "      Epoch    GPU_mem   box_loss   cls_loss   dfl_loss  Instances       Size\n",
            "        2/3      2.52G      1.225      1.514      1.268        231        640: 100%|██████████| 8/8 [00:00<00:00, 13.53it/s]\n",
            "                 Class     Images  Instances      Box(P          R      mAP50  mAP50-95): 100%|██████████| 4/4 [00:00<00:00,  6.58it/s]\n",
            "                   all        128        929      0.673      0.542      0.626      0.466\n",
            "\n",
            "      Epoch    GPU_mem   box_loss   cls_loss   dfl_loss  Instances       Size\n",
            "        3/3       2.7G      1.209      1.447      1.222        178        640: 100%|██████████| 8/8 [00:00<00:00, 15.39it/s]\n",
            "                 Class     Images  Instances      Box(P          R      mAP50  mAP50-95): 100%|██████████| 4/4 [00:02<00:00,  1.57it/s]\n",
            "                   all        128        929      0.671      0.549      0.632       0.47\n",
            "\n",
            "3 epochs completed in 0.004 hours.\n",
            "Optimizer stripped from runs/detect/train8/weights/last.pt, 6.5MB\n",
            "Optimizer stripped from runs/detect/train8/weights/best.pt, 6.5MB\n",
            "\n",
            "Validating runs/detect/train8/weights/best.pt...\n",
            "Ultralytics YOLOv8.0.163 🚀 Python-3.10.6 torch-2.0.1+cu118 CUDA:0 (NVIDIA GeForce RTX 3090, 24260MiB)\n",
            "Model summary (fused): 168 layers, 3151904 parameters, 0 gradients\n",
            "                 Class     Images  Instances      Box(P          R      mAP50  mAP50-95): 100%|██████████| 4/4 [00:02<00:00,  1.68it/s]\n",
            "                   all        128        929      0.673      0.549      0.633       0.47\n",
            "                person        128        254      0.801      0.669       0.77      0.541\n",
            "               bicycle        128          6      0.581      0.333      0.332      0.286\n",
            "                   car        128         46      0.848      0.217      0.285      0.177\n",
            "            motorcycle        128          5      0.687      0.884      0.938      0.721\n",
            "              airplane        128          6      0.826      0.797      0.903      0.673\n",
            "                   bus        128          7      0.745      0.714      0.736      0.648\n",
            "                 train        128          3      0.556      0.667       0.83      0.731\n",
            "                 truck        128         12          1      0.351      0.498      0.304\n",
            "                  boat        128          6      0.294      0.167      0.357      0.226\n",
            "         traffic light        128         14      0.694      0.167      0.202      0.139\n",
            "             stop sign        128          2      0.969          1      0.995      0.711\n",
            "                 bench        128          9      0.837      0.574      0.635        0.4\n",
            "                  bird        128         16      0.923      0.748      0.882      0.531\n",
            "                   cat        128          4      0.866          1      0.995      0.835\n",
            "                   dog        128          9      0.703      0.778      0.828      0.637\n",
            "                 horse        128          2      0.531          1      0.995      0.515\n",
            "              elephant        128         17      0.852      0.765      0.879      0.667\n",
            "                  bear        128          1      0.631          1      0.995      0.995\n",
            "                 zebra        128          4      0.857          1      0.995      0.965\n",
            "               giraffe        128          9      0.899      0.992      0.973      0.714\n",
            "              backpack        128          6      0.607      0.333      0.392      0.234\n",
            "              umbrella        128         18      0.715        0.5      0.662      0.453\n",
            "               handbag        128         19      0.518     0.0582       0.18     0.0948\n",
            "                   tie        128          7      0.691      0.645      0.641      0.457\n",
            "              suitcase        128          4      0.643          1      0.828      0.592\n",
            "               frisbee        128          5      0.568        0.8      0.759      0.664\n",
            "                  skis        128          1      0.472          1      0.995      0.497\n",
            "             snowboard        128          7      0.661      0.714      0.755      0.483\n",
            "           sports ball        128          6      0.703      0.406      0.503       0.29\n",
            "                  kite        128         10      0.813        0.5      0.595      0.208\n",
            "          baseball bat        128          4      0.573      0.359      0.414      0.174\n",
            "        baseball glove        128          7      0.672      0.429      0.429      0.295\n",
            "            skateboard        128          5      0.777        0.6        0.6       0.44\n",
            "         tennis racket        128          7      0.741      0.414      0.529      0.381\n",
            "                bottle        128         18       0.51      0.389      0.394       0.24\n",
            "            wine glass        128         16      0.583      0.562      0.582      0.357\n",
            "                   cup        128         36      0.632      0.287      0.399      0.279\n",
            "                  fork        128          6      0.597      0.167      0.264       0.21\n",
            "                 knife        128         16      0.644        0.5      0.612      0.353\n",
            "                 spoon        128         22      0.553      0.182      0.333      0.181\n",
            "                  bowl        128         28      0.677      0.571      0.615      0.498\n",
            "                banana        128          1          0          0      0.166     0.0481\n",
            "              sandwich        128          2      0.391        0.5      0.497      0.497\n",
            "                orange        128          4          1       0.31      0.995      0.666\n",
            "              broccoli        128         11      0.474      0.182      0.247      0.221\n",
            "                carrot        128         24      0.738      0.458      0.664      0.416\n",
            "               hot dog        128          2      0.649      0.947      0.828      0.796\n",
            "                 pizza        128          5      0.691          1      0.995       0.86\n",
            "                 donut        128         14       0.64          1      0.946      0.859\n",
            "                  cake        128          4      0.657          1      0.995       0.88\n",
            "                 chair        128         35      0.516      0.514      0.467      0.262\n",
            "                 couch        128          6      0.558        0.5      0.673        0.5\n",
            "          potted plant        128         14      0.739      0.643      0.724      0.485\n",
            "                   bed        128          3      0.768      0.667      0.806      0.636\n",
            "          dining table        128         13      0.483      0.615      0.505      0.415\n",
            "                toilet        128          2          1      0.869      0.995      0.946\n",
            "                    tv        128          2      0.386        0.5      0.695      0.656\n",
            "                laptop        128          3          1          0      0.696      0.543\n",
            "                 mouse        128          2          1          0     0.0527    0.00527\n",
            "                remote        128          8      0.851        0.5      0.583      0.504\n",
            "            cell phone        128          8          0          0     0.0695     0.0468\n",
            "             microwave        128          3      0.632      0.667      0.863      0.719\n",
            "                  oven        128          5      0.473        0.4      0.338      0.269\n",
            "                  sink        128          6      0.369      0.167      0.232      0.159\n",
            "          refrigerator        128          5      0.688        0.4      0.643      0.522\n",
            "                  book        128         29      0.621      0.115      0.331      0.188\n",
            "                 clock        128          9      0.778       0.78      0.893      0.713\n",
            "                  vase        128          2      0.421          1      0.828      0.745\n",
            "              scissors        128          1          1          0      0.249     0.0746\n",
            "            teddy bear        128         21      0.887      0.381      0.641      0.431\n",
            "            toothbrush        128          5      0.897        0.6      0.786      0.503\n",
            "Speed: 0.8ms preprocess, 0.6ms inference, 0.0ms loss, 0.5ms postprocess per image\n",
            "Results saved to \u001b[1mruns/detect/train8\u001b[0m\n"
          ]
        }
      ],
      "source": [
        "from ultralytics import YOLO\n",
        "\n",
        "# Load a model\n",
        "# model = YOLO('yolov8n.yaml')  # build a new model from scratch\n",
        "\n",
        "model = YOLO('yolov8n.pt')  # load a pretrained model (recommended for training)\n",
        "\n",
        "# Use the model\n",
        "results = model.train(data='coco128.yaml', epochs=3)  # train the model"
      ]
    },
    {
      "cell_type": "code",
      "execution_count": 13,
      "metadata": {},
      "outputs": [
        {
          "name": "stderr",
          "output_type": "stream",
          "text": [
            "Ultralytics YOLOv8.0.163 🚀 Python-3.10.6 torch-2.0.1+cu118 CUDA:0 (NVIDIA GeForce RTX 3090, 24260MiB)\n",
            "Model summary (fused): 168 layers, 3151904 parameters, 0 gradients\n",
            "\u001b[34m\u001b[1mval: \u001b[0mScanning /workspace/ultralytics/examples/datasets/coco128/labels/train2017.cache... 126 images, 2 backgrounds, 0 corrupt: 100%|██████████| 128/128 [00:00<?, ?it/s]\n",
            "                 Class     Images  Instances      Box(P          R      mAP50  mAP50-95): 100%|██████████| 8/8 [00:02<00:00,  3.49it/s]\n",
            "                   all        128        929      0.658      0.549      0.627      0.466\n",
            "                person        128        254      0.812      0.681      0.774      0.542\n",
            "               bicycle        128          6      0.568      0.333      0.327      0.283\n",
            "                   car        128         46      0.799      0.217      0.285      0.178\n",
            "            motorcycle        128          5      0.689      0.895      0.898      0.697\n",
            "              airplane        128          6      0.827      0.804      0.903      0.681\n",
            "                   bus        128          7       0.68      0.714      0.736      0.648\n",
            "                 train        128          3       0.55      0.667       0.83      0.731\n",
            "                 truck        128         12          1      0.375      0.494      0.295\n",
            "                  boat        128          6      0.262      0.167      0.325      0.155\n",
            "         traffic light        128         14      0.697      0.169      0.202      0.139\n",
            "             stop sign        128          2      0.929          1      0.995      0.711\n",
            "                 bench        128          9      0.843        0.6      0.636        0.4\n",
            "                  bird        128         16      0.852       0.75      0.866        0.5\n",
            "                   cat        128          4      0.862          1      0.995      0.835\n",
            "                   dog        128          9      0.712      0.826      0.828      0.623\n",
            "                 horse        128          2      0.525          1      0.995      0.515\n",
            "              elephant        128         17      0.849      0.765      0.879      0.667\n",
            "                  bear        128          1      0.625          1      0.995      0.995\n",
            "                 zebra        128          4      0.854          1      0.995      0.965\n",
            "               giraffe        128          9      0.813      0.971      0.951       0.74\n",
            "              backpack        128          6      0.612      0.333      0.391      0.238\n",
            "              umbrella        128         18      0.673        0.5      0.657      0.453\n",
            "               handbag        128         19      0.563     0.0724      0.172     0.0932\n",
            "                   tie        128          7        0.7      0.671      0.641      0.457\n",
            "              suitcase        128          4      0.632          1      0.828      0.596\n",
            "               frisbee        128          5      0.562        0.8      0.759      0.663\n",
            "                  skis        128          1      0.457          1      0.995      0.497\n",
            "             snowboard        128          7      0.656      0.714      0.757      0.482\n",
            "           sports ball        128          6      0.706      0.412      0.502      0.274\n",
            "                  kite        128         10      0.799        0.5      0.598      0.206\n",
            "          baseball bat        128          4      0.575       0.25      0.347      0.174\n",
            "        baseball glove        128          7      0.638      0.429      0.429      0.295\n",
            "            skateboard        128          5      0.871        0.6        0.6       0.44\n",
            "         tennis racket        128          7      0.745      0.419      0.529      0.365\n",
            "                bottle        128         18      0.465      0.389      0.391      0.246\n",
            "            wine glass        128         16      0.572      0.562      0.559      0.345\n",
            "                   cup        128         36      0.565      0.278      0.403      0.287\n",
            "                  fork        128          6       0.59      0.167      0.228      0.195\n",
            "                 knife        128         16      0.562        0.5      0.587      0.348\n",
            "                 spoon        128         22      0.631      0.182      0.332      0.185\n",
            "                  bowl        128         28      0.734      0.643      0.658      0.497\n",
            "                banana        128          1          0          0     0.0995      0.042\n",
            "              sandwich        128          2      0.166      0.249      0.497      0.497\n",
            "                orange        128          4          1      0.321      0.995      0.666\n",
            "              broccoli        128         11      0.496      0.182      0.257      0.207\n",
            "                carrot        128         24      0.728      0.559      0.652      0.416\n",
            "               hot dog        128          2      0.648      0.943      0.828      0.796\n",
            "                 pizza        128          5      0.716          1      0.995       0.86\n",
            "                 donut        128         14      0.636          1       0.94      0.854\n",
            "                  cake        128          4      0.609          1      0.945      0.845\n",
            "                 chair        128         35      0.483      0.543      0.472      0.257\n",
            "                 couch        128          6      0.612        0.5      0.746      0.571\n",
            "          potted plant        128         14      0.714      0.643      0.723      0.481\n",
            "                   bed        128          3      0.757      0.667      0.863      0.656\n",
            "          dining table        128         13      0.444      0.615      0.496      0.391\n",
            "                toilet        128          2          1      0.875      0.995      0.946\n",
            "                    tv        128          2      0.378        0.5      0.695      0.656\n",
            "                laptop        128          3          1          0      0.605      0.484\n",
            "                 mouse        128          2          1          0     0.0698    0.00698\n",
            "                remote        128          8      0.844        0.5      0.613       0.52\n",
            "            cell phone        128          8          0          0     0.0695     0.0469\n",
            "             microwave        128          3      0.616      0.667      0.863      0.733\n",
            "                  oven        128          5      0.429        0.4      0.339       0.27\n",
            "                  sink        128          6      0.377      0.167      0.178       0.13\n",
            "          refrigerator        128          5      0.681        0.4      0.647      0.505\n",
            "                  book        128         29      0.637      0.123      0.344      0.194\n",
            "                 clock        128          9       0.78      0.787      0.894      0.734\n",
            "                  vase        128          2      0.407          1      0.828      0.745\n",
            "              scissors        128          1          1          0      0.249     0.0746\n",
            "            teddy bear        128         21      0.878      0.381      0.634      0.421\n",
            "            toothbrush        128          5      0.633        0.6      0.736      0.468\n",
            "Speed: 0.6ms preprocess, 0.9ms inference, 0.0ms loss, 0.5ms postprocess per image\n",
            "Results saved to \u001b[1mruns/detect/val4\u001b[0m\n"
          ]
        }
      ],
      "source": [
        "results = model.val()  # evaluate model performance on the validation set"
      ]
    },
    {
      "cell_type": "code",
      "execution_count": 7,
      "metadata": {},
      "outputs": [
        {
          "name": "stderr",
          "output_type": "stream",
          "text": [
            "\n",
            "Found https://ultralytics.com/images/bus.jpg locally at bus.jpg\n",
            "image 1/1 /workspace/ultralytics/examples/bus.jpg: 640x480 4 persons, 1 bus, 1 stop sign, 5.2ms\n",
            "Speed: 1.4ms preprocess, 5.2ms inference, 1.2ms postprocess per image at shape (1, 3, 640, 480)\n",
            "Results saved to \u001b[1mruns/detect/predict5\u001b[0m\n"
          ]
        },
        {
          "data": {
            "text/plain": [
              "[ultralytics.engine.results.Results object with attributes:\n",
              " \n",
              " boxes: ultralytics.engine.results.Boxes object\n",
              " keypoints: None\n",
              " keys: ['boxes']\n",
              " masks: None\n",
              " names: {0: 'person', 1: 'bicycle', 2: 'car', 3: 'motorcycle', 4: 'airplane', 5: 'bus', 6: 'train', 7: 'truck', 8: 'boat', 9: 'traffic light', 10: 'fire hydrant', 11: 'stop sign', 12: 'parking meter', 13: 'bench', 14: 'bird', 15: 'cat', 16: 'dog', 17: 'horse', 18: 'sheep', 19: 'cow', 20: 'elephant', 21: 'bear', 22: 'zebra', 23: 'giraffe', 24: 'backpack', 25: 'umbrella', 26: 'handbag', 27: 'tie', 28: 'suitcase', 29: 'frisbee', 30: 'skis', 31: 'snowboard', 32: 'sports ball', 33: 'kite', 34: 'baseball bat', 35: 'baseball glove', 36: 'skateboard', 37: 'surfboard', 38: 'tennis racket', 39: 'bottle', 40: 'wine glass', 41: 'cup', 42: 'fork', 43: 'knife', 44: 'spoon', 45: 'bowl', 46: 'banana', 47: 'apple', 48: 'sandwich', 49: 'orange', 50: 'broccoli', 51: 'carrot', 52: 'hot dog', 53: 'pizza', 54: 'donut', 55: 'cake', 56: 'chair', 57: 'couch', 58: 'potted plant', 59: 'bed', 60: 'dining table', 61: 'toilet', 62: 'tv', 63: 'laptop', 64: 'mouse', 65: 'remote', 66: 'keyboard', 67: 'cell phone', 68: 'microwave', 69: 'oven', 70: 'toaster', 71: 'sink', 72: 'refrigerator', 73: 'book', 74: 'clock', 75: 'vase', 76: 'scissors', 77: 'teddy bear', 78: 'hair drier', 79: 'toothbrush'}\n",
              " orig_img: array([[[122, 148, 172],\n",
              "         [120, 146, 170],\n",
              "         [125, 153, 177],\n",
              "         ...,\n",
              "         [157, 170, 184],\n",
              "         [158, 171, 185],\n",
              "         [158, 171, 185]],\n",
              " \n",
              "        [[127, 153, 177],\n",
              "         [124, 150, 174],\n",
              "         [127, 155, 179],\n",
              "         ...,\n",
              "         [158, 171, 185],\n",
              "         [159, 172, 186],\n",
              "         [159, 172, 186]],\n",
              " \n",
              "        [[128, 154, 178],\n",
              "         [126, 152, 176],\n",
              "         [126, 154, 178],\n",
              "         ...,\n",
              "         [158, 171, 185],\n",
              "         [158, 171, 185],\n",
              "         [158, 171, 185]],\n",
              " \n",
              "        ...,\n",
              " \n",
              "        [[185, 185, 191],\n",
              "         [182, 182, 188],\n",
              "         [179, 179, 185],\n",
              "         ...,\n",
              "         [114, 107, 112],\n",
              "         [115, 105, 111],\n",
              "         [116, 106, 112]],\n",
              " \n",
              "        [[157, 157, 163],\n",
              "         [180, 180, 186],\n",
              "         [185, 186, 190],\n",
              "         ...,\n",
              "         [107,  97, 103],\n",
              "         [102,  92,  98],\n",
              "         [108,  98, 104]],\n",
              " \n",
              "        [[112, 112, 118],\n",
              "         [160, 160, 166],\n",
              "         [169, 170, 174],\n",
              "         ...,\n",
              "         [ 99,  89,  95],\n",
              "         [ 96,  86,  92],\n",
              "         [102,  92,  98]]], dtype=uint8)\n",
              " orig_shape: (1080, 810)\n",
              " path: '/workspace/ultralytics/examples/bus.jpg'\n",
              " probs: None\n",
              " save_dir: 'runs/detect/predict5'\n",
              " speed: {'preprocess': 1.3782978057861328, 'inference': 5.2471160888671875, 'postprocess': 1.1706352233886719}]"
            ]
          },
          "execution_count": 7,
          "metadata": {},
          "output_type": "execute_result"
        }
      ],
      "source": [
        "results = model('https://ultralytics.com/images/bus.jpg', save=True)  # predict on an image\n",
        "results"
      ]
    },
    {
      "cell_type": "code",
      "execution_count": null,
      "metadata": {},
      "outputs": [],
      "source": [
        "# results = model.export(format='onnx')  # export the model to ONNX format"
      ]
    },
    {
      "cell_type": "markdown",
      "metadata": {},
      "source": [
        "## Balloon"
      ]
    },
    {
      "cell_type": "code",
      "execution_count": 8,
      "metadata": {},
      "outputs": [],
      "source": [
        "import pandas as pd\n",
        "from PIL import Image"
      ]
    },
    {
      "cell_type": "code",
      "execution_count": 9,
      "metadata": {},
      "outputs": [
        {
          "name": "stdout",
          "output_type": "stream",
          "text": [
            "/workspace/ultralytics/examples\n"
          ]
        }
      ],
      "source": [
        "!pwd"
      ]
    },
    {
      "cell_type": "code",
      "execution_count": 12,
      "metadata": {},
      "outputs": [
        {
          "name": "stdout",
          "output_type": "stream",
          "text": [
            "Warning: Your Kaggle API key is readable by other users on this system! To fix this, you can run 'chmod 600 /root/.kaggle/kaggle.json'\n"
          ]
        },
        {
          "name": "stdout",
          "output_type": "stream",
          "text": [
            "Downloading v2-balloon-detection-dataset.zip to /workspace/ultralytics/examples\n",
            "100%|██████████████████████████████████████| 47.5M/47.5M [00:13<00:00, 2.58MB/s]\n",
            "100%|██████████████████████████████████████| 47.5M/47.5M [00:13<00:00, 3.79MB/s]\n"
          ]
        }
      ],
      "source": [
        "!kaggle datasets download -d vbookshelf/v2-balloon-detection-dataset"
      ]
    },
    {
      "cell_type": "code",
      "execution_count": 43,
      "metadata": {},
      "outputs": [],
      "source": [
        "# !unzip /workspace/ultralytics/examples/datasets/v2-balloon-detection-dataset.zip -d /workspace/ultralytics/examples/datasets/v2-balloon-detection-dataset"
      ]
    },
    {
      "cell_type": "code",
      "execution_count": 13,
      "metadata": {},
      "outputs": [],
      "source": [
        "csv_path = \"/workspace/ultralytics/examples/datasets/v2-balloon-detection-dataset/balloon-data.csv\"\n",
        "balloons_df = pd.read_csv(csv_path)"
      ]
    },
    {
      "cell_type": "code",
      "execution_count": 14,
      "metadata": {},
      "outputs": [
        {
          "data": {
            "text/html": [
              "<div>\n",
              "<style scoped>\n",
              "    .dataframe tbody tr th:only-of-type {\n",
              "        vertical-align: middle;\n",
              "    }\n",
              "\n",
              "    .dataframe tbody tr th {\n",
              "        vertical-align: top;\n",
              "    }\n",
              "\n",
              "    .dataframe thead th {\n",
              "        text-align: right;\n",
              "    }\n",
              "</style>\n",
              "<table border=\"1\" class=\"dataframe\">\n",
              "  <thead>\n",
              "    <tr style=\"text-align: right;\">\n",
              "      <th></th>\n",
              "      <th>fname</th>\n",
              "      <th>height</th>\n",
              "      <th>width</th>\n",
              "      <th>bbox</th>\n",
              "      <th>num_balloons</th>\n",
              "    </tr>\n",
              "  </thead>\n",
              "  <tbody>\n",
              "    <tr>\n",
              "      <th>0</th>\n",
              "      <td>34020010494_e5cb88e1c4_k.jpg</td>\n",
              "      <td>1536</td>\n",
              "      <td>2048</td>\n",
              "      <td>[{'xmin': 994, 'ymin': 619, 'xmax': 1445, 'yma...</td>\n",
              "      <td>1</td>\n",
              "    </tr>\n",
              "    <tr>\n",
              "      <th>1</th>\n",
              "      <td>25899693952_7c8b8b9edc_k.jpg</td>\n",
              "      <td>1365</td>\n",
              "      <td>2048</td>\n",
              "      <td>[{'xmin': 135, 'ymin': 115, 'xmax': 811, 'ymax...</td>\n",
              "      <td>1</td>\n",
              "    </tr>\n",
              "    <tr>\n",
              "      <th>2</th>\n",
              "      <td>24362039530_b151b41a52_k.jpg</td>\n",
              "      <td>2048</td>\n",
              "      <td>1536</td>\n",
              "      <td>[{'xmin': 579, 'ymin': 487, 'xmax': 920, 'ymax...</td>\n",
              "      <td>1</td>\n",
              "    </tr>\n",
              "    <tr>\n",
              "      <th>3</th>\n",
              "      <td>18849792632_aad23ad513_k.jpg</td>\n",
              "      <td>2048</td>\n",
              "      <td>1536</td>\n",
              "      <td>[{'xmin': 534, 'ymin': 365, 'xmax': 871, 'ymax...</td>\n",
              "      <td>10</td>\n",
              "    </tr>\n",
              "    <tr>\n",
              "      <th>4</th>\n",
              "      <td>17178818589_16e58fc1e5_k.jpg</td>\n",
              "      <td>1536</td>\n",
              "      <td>2048</td>\n",
              "      <td>[{'xmin': 748, 'ymin': 195, 'xmax': 1425, 'yma...</td>\n",
              "      <td>7</td>\n",
              "    </tr>\n",
              "  </tbody>\n",
              "</table>\n",
              "</div>"
            ],
            "text/plain": [
              "                          fname  height  width  \\\n",
              "0  34020010494_e5cb88e1c4_k.jpg    1536   2048   \n",
              "1  25899693952_7c8b8b9edc_k.jpg    1365   2048   \n",
              "2  24362039530_b151b41a52_k.jpg    2048   1536   \n",
              "3  18849792632_aad23ad513_k.jpg    2048   1536   \n",
              "4  17178818589_16e58fc1e5_k.jpg    1536   2048   \n",
              "\n",
              "                                                bbox  num_balloons  \n",
              "0  [{'xmin': 994, 'ymin': 619, 'xmax': 1445, 'yma...             1  \n",
              "1  [{'xmin': 135, 'ymin': 115, 'xmax': 811, 'ymax...             1  \n",
              "2  [{'xmin': 579, 'ymin': 487, 'xmax': 920, 'ymax...             1  \n",
              "3  [{'xmin': 534, 'ymin': 365, 'xmax': 871, 'ymax...            10  \n",
              "4  [{'xmin': 748, 'ymin': 195, 'xmax': 1425, 'yma...             7  "
            ]
          },
          "execution_count": 14,
          "metadata": {},
          "output_type": "execute_result"
        }
      ],
      "source": [
        "balloons_df.head()"
      ]
    },
    {
      "cell_type": "code",
      "execution_count": 39,
      "metadata": {},
      "outputs": [
        {
          "name": "stdout",
          "output_type": "stream",
          "text": [
            "/workspace/ultralytics/examples/datasets/balloons/images/34020010494_e5cb88e1c4_k.jpg\n",
            "[{'xmin': 748, 'ymin': 195, 'xmax': 1425, 'ymax': 1101}, {'xmin': 1037, 'ymin': 56, 'xmax': 1586, 'ymax': 799}, {'xmin': 1279, 'ymin': 469, 'xmax': 1684, 'ymax': 1099}, {'xmin': 1599, 'ymin': 498, 'xmax': 1904, 'ymax': 1015}, {'xmin': 397, 'ymin': 468, 'xmax': 728, 'ymax': 890}, {'xmin': 490, 'ymin': 797, 'xmax': 819, 'ymax': 1229}, {'xmin': 211, 'ymin': 930, 'xmax': 568, 'ymax': 1383}]\n"
          ]
        }
      ],
      "source": [
        "idx = 0\n",
        "\n",
        "image_path_base = \"/workspace/ultralytics/examples/datasets/balloons/images\"\n",
        "image_path = image_path_base + \"/\" + balloons_df.iloc[idx][\"fname\"]\n",
        "print(image_path)\n",
        "img = Image.open(image_path)\n",
        "# img\n",
        "\n",
        "print(balloons_df.iloc[4][\"bbox\"])"
      ]
    },
    {
      "cell_type": "code",
      "execution_count": 31,
      "metadata": {},
      "outputs": [],
      "source": [
        "import json\n",
        "import ast\n",
        "import pybboxes as pbx"
      ]
    },
    {
      "cell_type": "code",
      "execution_count": 22,
      "metadata": {},
      "outputs": [
        {
          "data": {
            "text/plain": [
              "[{'xmin': 748, 'ymin': 195, 'xmax': 1425, 'ymax': 1101},\n",
              " {'xmin': 1037, 'ymin': 56, 'xmax': 1586, 'ymax': 799},\n",
              " {'xmin': 1279, 'ymin': 469, 'xmax': 1684, 'ymax': 1099},\n",
              " {'xmin': 1599, 'ymin': 498, 'xmax': 1904, 'ymax': 1015},\n",
              " {'xmin': 397, 'ymin': 468, 'xmax': 728, 'ymax': 890},\n",
              " {'xmin': 490, 'ymin': 797, 'xmax': 819, 'ymax': 1229},\n",
              " {'xmin': 211, 'ymin': 930, 'xmax': 568, 'ymax': 1383}]"
            ]
          },
          "execution_count": 22,
          "metadata": {},
          "output_type": "execute_result"
        }
      ],
      "source": [
        "bbox = ast.literal_eval(balloons_df.iloc[4][\"bbox\"])\n",
        "bbox"
      ]
    },
    {
      "cell_type": "code",
      "execution_count": 28,
      "metadata": {},
      "outputs": [],
      "source": [
        "!mkdir /workspace/ultralytics/examples/datasets/balloons/labels"
      ]
    },
    {
      "cell_type": "code",
      "execution_count": 60,
      "metadata": {},
      "outputs": [],
      "source": [
        "def create_yolo_labels(row):\n",
        "    dir = \"/workspace/ultralytics/examples/datasets/balloons/labels/train/\"\n",
        "    bboxes = ast.literal_eval(row[\"bbox\"])\n",
        "    for bbox in bboxes:\n",
        "        bbox = bbox.values()\n",
        "        w, h = row[\"width\"], row[\"height\"]\n",
        "        bbox_yolo = pbx.convert_bbox(bbox, from_type=\"voc\", to_type=\"yolo\", image_size=(w, h))\n",
        "        bbox_yolo = \" \".join([str(bb) for bb in bbox_yolo])\n",
        "        file_path = dir + row[\"fname\"].replace(\".jpg\", \".txt\")\n",
        "        with open(file_path, \"a\") as f:\n",
        "            f.write(f\"0 {bbox_yolo}\\n\")\n",
        "\n",
        "# create_yolo_labels(balloons_df.iloc[4])"
      ]
    },
    {
      "cell_type": "code",
      "execution_count": 59,
      "metadata": {},
      "outputs": [],
      "source": [
        "from tqdm.auto import tqdm"
      ]
    },
    {
      "cell_type": "code",
      "execution_count": 61,
      "metadata": {},
      "outputs": [
        {
          "data": {
            "application/vnd.jupyter.widget-view+json": {
              "model_id": "3fafb28cbbe7435fb669246f4d4b7fdc",
              "version_major": 2,
              "version_minor": 0
            },
            "text/plain": [
              "0it [00:00, ?it/s]"
            ]
          },
          "metadata": {},
          "output_type": "display_data"
        }
      ],
      "source": [
        "for i, row in tqdm(balloons_df.iterrows()):\n",
        "    create_yolo_labels(row)"
      ]
    },
    {
      "cell_type": "code",
      "execution_count": 14,
      "metadata": {},
      "outputs": [
        {
          "name": "stderr",
          "output_type": "stream",
          "text": [
            "Ultralytics YOLOv8.0.163 🚀 Python-3.10.6 torch-2.0.1+cu118 CUDA:0 (NVIDIA GeForce RTX 3090, 24260MiB)\n",
            "\u001b[34m\u001b[1mengine/trainer: \u001b[0mtask=detect, mode=train, model=yolov8n.pt, data=/workspace/ultralytics/ultralytics/cfg/datasets/balloons.yaml, epochs=10, patience=50, batch=16, imgsz=640, save=True, save_period=-1, cache=False, device=None, workers=8, project=None, name=None, exist_ok=False, pretrained=True, optimizer=auto, verbose=True, seed=0, deterministic=True, single_cls=False, rect=False, cos_lr=False, close_mosaic=10, resume=False, amp=True, fraction=1.0, profile=False, freeze=None, overlap_mask=True, mask_ratio=4, dropout=0.0, val=True, split=val, save_json=False, save_hybrid=False, conf=None, iou=0.7, max_det=300, half=False, dnn=False, plots=True, source=None, show=False, save_txt=False, save_conf=False, save_crop=False, show_labels=True, show_conf=True, vid_stride=1, line_width=None, visualize=False, augment=False, agnostic_nms=False, classes=None, retina_masks=False, boxes=True, format=torchscript, keras=False, optimize=False, int8=False, dynamic=False, simplify=False, opset=None, workspace=4, nms=False, lr0=0.01, lrf=0.01, momentum=0.937, weight_decay=0.0005, warmup_epochs=3.0, warmup_momentum=0.8, warmup_bias_lr=0.1, box=7.5, cls=0.5, dfl=1.5, pose=12.0, kobj=1.0, label_smoothing=0.0, nbs=64, hsv_h=0.015, hsv_s=0.7, hsv_v=0.4, degrees=0.0, translate=0.1, scale=0.5, shear=0.0, perspective=0.0, flipud=0.0, fliplr=0.5, mosaic=1.0, mixup=0.0, copy_paste=0.0, cfg=None, tracker=botsort.yaml, save_dir=runs/detect/train20\n",
            "Overriding model.yaml nc=80 with nc=1\n",
            "\n",
            "                   from  n    params  module                                       arguments                     \n",
            "  0                  -1  1       464  ultralytics.nn.modules.conv.Conv             [3, 16, 3, 2]                 \n",
            "  1                  -1  1      4672  ultralytics.nn.modules.conv.Conv             [16, 32, 3, 2]                \n",
            "  2                  -1  1      7360  ultralytics.nn.modules.block.C2f             [32, 32, 1, True]             \n",
            "  3                  -1  1     18560  ultralytics.nn.modules.conv.Conv             [32, 64, 3, 2]                \n",
            "  4                  -1  2     49664  ultralytics.nn.modules.block.C2f             [64, 64, 2, True]             \n",
            "  5                  -1  1     73984  ultralytics.nn.modules.conv.Conv             [64, 128, 3, 2]               \n",
            "  6                  -1  2    197632  ultralytics.nn.modules.block.C2f             [128, 128, 2, True]           \n",
            "  7                  -1  1    295424  ultralytics.nn.modules.conv.Conv             [128, 256, 3, 2]              \n",
            "  8                  -1  1    460288  ultralytics.nn.modules.block.C2f             [256, 256, 1, True]           \n",
            "  9                  -1  1    164608  ultralytics.nn.modules.block.SPPF            [256, 256, 5]                 \n",
            " 10                  -1  1         0  torch.nn.modules.upsampling.Upsample         [None, 2, 'nearest']          \n",
            " 11             [-1, 6]  1         0  ultralytics.nn.modules.conv.Concat           [1]                           \n",
            " 12                  -1  1    148224  ultralytics.nn.modules.block.C2f             [384, 128, 1]                 \n",
            " 13                  -1  1         0  torch.nn.modules.upsampling.Upsample         [None, 2, 'nearest']          \n",
            " 14             [-1, 4]  1         0  ultralytics.nn.modules.conv.Concat           [1]                           \n",
            " 15                  -1  1     37248  ultralytics.nn.modules.block.C2f             [192, 64, 1]                  \n",
            " 16                  -1  1     36992  ultralytics.nn.modules.conv.Conv             [64, 64, 3, 2]                \n",
            " 17            [-1, 12]  1         0  ultralytics.nn.modules.conv.Concat           [1]                           \n",
            " 18                  -1  1    123648  ultralytics.nn.modules.block.C2f             [192, 128, 1]                 \n",
            " 19                  -1  1    147712  ultralytics.nn.modules.conv.Conv             [128, 128, 3, 2]              \n",
            " 20             [-1, 9]  1         0  ultralytics.nn.modules.conv.Concat           [1]                           \n",
            " 21                  -1  1    493056  ultralytics.nn.modules.block.C2f             [384, 256, 1]                 \n",
            " 22        [15, 18, 21]  1    751507  ultralytics.nn.modules.head.Detect           [1, [64, 128, 256]]           \n",
            "Model summary: 225 layers, 3011043 parameters, 3011027 gradients\n",
            "\n",
            "Transferred 319/355 items from pretrained weights\n",
            "Freezing layer 'model.22.dfl.conv.weight'\n",
            "\u001b[34m\u001b[1mAMP: \u001b[0mrunning Automatic Mixed Precision (AMP) checks with YOLOv8n...\n"
          ]
        },
        {
          "name": "stderr",
          "output_type": "stream",
          "text": [
            "\u001b[34m\u001b[1mAMP: \u001b[0mchecks passed ✅\n",
            "\u001b[34m\u001b[1mtrain: \u001b[0mScanning /workspace/ultralytics/examples/datasets/balloons/labels/train.cache... 74 images, 0 backgrounds, 0 corrupt: 100%|██████████| 74/74 [00:00<?, ?it/s]\n",
            "\u001b[34m\u001b[1mtrain: \u001b[0mWARNING ⚠️ /workspace/ultralytics/examples/datasets/balloons/images/train/17178818589_16e58fc1e5_k.jpg: 7 duplicate labels removed\n",
            "\u001b[34m\u001b[1mval: \u001b[0mScanning /workspace/ultralytics/examples/datasets/balloons/labels/train.cache... 74 images, 0 backgrounds, 0 corrupt: 100%|██████████| 74/74 [00:00<?, ?it/s]\n",
            "\u001b[34m\u001b[1mtrain: \u001b[0mWARNING ⚠️ /workspace/ultralytics/examples/datasets/balloons/images/train/17178818589_16e58fc1e5_k.jpg: 7 duplicate labels removed\n",
            "Plotting labels to runs/detect/train20/labels.jpg... \n",
            "\u001b[34m\u001b[1moptimizer:\u001b[0m AdamW(lr=0.002, momentum=0.9) with parameter groups 57 weight(decay=0.0), 64 weight(decay=0.0005), 63 bias(decay=0.0)\n",
            "Image sizes 640 train, 640 val\n",
            "Using 8 dataloader workers\n",
            "Logging results to \u001b[1mruns/detect/train20\u001b[0m\n",
            "Starting training for 10 epochs...\n",
            "Closing dataloader mosaic\n",
            "\n",
            "      Epoch    GPU_mem   box_loss   cls_loss   dfl_loss  Instances       Size\n",
            "       1/10      2.36G     0.6553      3.234      1.022         25        640: 100%|██████████| 5/5 [00:00<00:00,  5.14it/s]\n",
            "                 Class     Images  Instances      Box(P          R      mAP50  mAP50-95): 100%|██████████| 3/3 [00:00<00:00,  9.12it/s]\n",
            "                   all         74        305     0.0114      0.826      0.189      0.151\n",
            "\n",
            "      Epoch    GPU_mem   box_loss   cls_loss   dfl_loss  Instances       Size\n",
            "       2/10      2.21G     0.6535      2.744     0.9691         53        640: 100%|██████████| 5/5 [00:00<00:00, 15.26it/s]\n",
            "                 Class     Images  Instances      Box(P          R      mAP50  mAP50-95): 100%|██████████| 3/3 [00:00<00:00,  9.02it/s]\n",
            "                   all         74        305     0.0127      0.925      0.337      0.293\n",
            "\n",
            "      Epoch    GPU_mem   box_loss   cls_loss   dfl_loss  Instances       Size\n",
            "       3/10      2.21G     0.7019      1.695     0.9343         32        640: 100%|██████████| 5/5 [00:00<00:00, 15.52it/s]\n",
            "                 Class     Images  Instances      Box(P          R      mAP50  mAP50-95): 100%|██████████| 3/3 [00:00<00:00,  8.85it/s]\n",
            "                   all         74        305      0.941      0.263      0.426      0.366\n",
            "\n",
            "      Epoch    GPU_mem   box_loss   cls_loss   dfl_loss  Instances       Size\n",
            "       4/10      2.21G     0.6617      1.301      0.918         29        640: 100%|██████████| 5/5 [00:00<00:00, 16.31it/s]\n",
            "                 Class     Images  Instances      Box(P          R      mAP50  mAP50-95): 100%|██████████| 3/3 [00:00<00:00,  8.78it/s]\n",
            "                   all         74        305      0.904      0.341      0.486      0.402\n",
            "\n",
            "      Epoch    GPU_mem   box_loss   cls_loss   dfl_loss  Instances       Size\n",
            "       5/10      2.25G     0.6488      1.213      0.905         43        640: 100%|██████████| 5/5 [00:00<00:00, 16.96it/s]\n",
            "                 Class     Images  Instances      Box(P          R      mAP50  mAP50-95): 100%|██████████| 3/3 [00:00<00:00,  8.27it/s]\n",
            "                   all         74        305      0.954      0.341      0.489      0.419\n",
            "\n",
            "      Epoch    GPU_mem   box_loss   cls_loss   dfl_loss  Instances       Size\n",
            "       6/10      2.21G     0.6013      1.318     0.9104         41        640: 100%|██████████| 5/5 [00:00<00:00, 17.84it/s]\n",
            "                 Class     Images  Instances      Box(P          R      mAP50  mAP50-95): 100%|██████████| 3/3 [00:00<00:00,  8.71it/s]\n",
            "                   all         74        305      0.971      0.315      0.527      0.453\n",
            "\n",
            "      Epoch    GPU_mem   box_loss   cls_loss   dfl_loss  Instances       Size\n",
            "       7/10      2.22G     0.5767      1.192     0.8922         73        640: 100%|██████████| 5/5 [00:00<00:00, 16.69it/s]\n",
            "                 Class     Images  Instances      Box(P          R      mAP50  mAP50-95): 100%|██████████| 3/3 [00:00<00:00,  8.56it/s]\n",
            "                   all         74        305          1      0.304      0.621      0.538\n",
            "\n",
            "      Epoch    GPU_mem   box_loss   cls_loss   dfl_loss  Instances       Size\n",
            "       8/10      2.21G      0.589      1.044     0.8739         47        640: 100%|██████████| 5/5 [00:00<00:00, 17.22it/s]\n",
            "                 Class     Images  Instances      Box(P          R      mAP50  mAP50-95): 100%|██████████| 3/3 [00:00<00:00,  9.07it/s]\n",
            "                   all         74        305          1      0.325        0.7      0.628\n",
            "\n",
            "      Epoch    GPU_mem   box_loss   cls_loss   dfl_loss  Instances       Size\n",
            "       9/10      2.22G     0.5509     0.9925     0.8765         32        640: 100%|██████████| 5/5 [00:00<00:00, 17.18it/s]\n",
            "                 Class     Images  Instances      Box(P          R      mAP50  mAP50-95): 100%|██████████| 3/3 [00:00<00:00,  9.10it/s]\n",
            "                   all         74        305      0.991      0.361       0.74      0.663\n",
            "\n",
            "      Epoch    GPU_mem   box_loss   cls_loss   dfl_loss  Instances       Size\n",
            "      10/10      2.21G     0.5622     0.9755      0.886         65        640: 100%|██████████| 5/5 [00:00<00:00, 17.94it/s]\n",
            "                 Class     Images  Instances      Box(P          R      mAP50  mAP50-95): 100%|██████████| 3/3 [00:00<00:00,  3.90it/s]\n",
            "                   all         74        305      0.985      0.427       0.76      0.688\n",
            "\n",
            "10 epochs completed in 0.004 hours.\n",
            "Optimizer stripped from runs/detect/train20/weights/last.pt, 6.2MB\n",
            "Optimizer stripped from runs/detect/train20/weights/best.pt, 6.2MB\n",
            "\n",
            "Validating runs/detect/train20/weights/best.pt...\n",
            "Ultralytics YOLOv8.0.163 🚀 Python-3.10.6 torch-2.0.1+cu118 CUDA:0 (NVIDIA GeForce RTX 3090, 24260MiB)\n",
            "Model summary (fused): 168 layers, 3005843 parameters, 0 gradients\n",
            "                 Class     Images  Instances      Box(P          R      mAP50  mAP50-95): 100%|██████████| 3/3 [00:00<00:00,  4.26it/s]\n",
            "                   all         74        305      0.985      0.427      0.764      0.688\n",
            "Speed: 0.9ms preprocess, 0.6ms inference, 0.0ms loss, 0.6ms postprocess per image\n",
            "Results saved to \u001b[1mruns/detect/train20\u001b[0m\n"
          ]
        }
      ],
      "source": [
        "model = YOLO('yolov8n.pt')  # load a pretrained model (recommended for training)\n",
        "\n",
        "# Use the model\n",
        "results = model.train(data=\"/workspace/ultralytics/ultralytics/cfg/datasets/balloons.yaml\", epochs=50)  # train the model"
      ]
    },
    {
      "cell_type": "code",
      "execution_count": 16,
      "metadata": {},
      "outputs": [
        {
          "name": "stderr",
          "output_type": "stream",
          "text": [
            "\n",
            "image 1/1 /workspace/ultralytics/examples/datasets/balloons/images/train/53500107_d24b11b3c2_b.jpg: 480x640 (no detections), 96.2ms\n",
            "Speed: 7.8ms preprocess, 96.2ms inference, 0.8ms postprocess per image at shape (1, 3, 480, 640)\n",
            "Results saved to \u001b[1mruns/detect/predict7\u001b[0m\n"
          ]
        },
        {
          "data": {
            "text/plain": [
              "[ultralytics.engine.results.Results object with attributes:\n",
              " \n",
              " boxes: ultralytics.engine.results.Boxes object\n",
              " keypoints: None\n",
              " keys: ['boxes']\n",
              " masks: None\n",
              " names: {0: 'balloon'}\n",
              " orig_img: array([[[163, 144, 139],\n",
              "         [163, 144, 139],\n",
              "         [162, 143, 138],\n",
              "         ...,\n",
              "         [154, 148, 137],\n",
              "         [152, 148, 137],\n",
              "         [152, 148, 137]],\n",
              " \n",
              "        [[157, 145, 135],\n",
              "         [157, 145, 135],\n",
              "         [157, 145, 133],\n",
              "         ...,\n",
              "         [151, 145, 134],\n",
              "         [151, 145, 134],\n",
              "         [151, 145, 134]],\n",
              " \n",
              "        [[154, 146, 133],\n",
              "         [154, 146, 133],\n",
              "         [154, 147, 132],\n",
              "         ...,\n",
              "         [148, 140, 127],\n",
              "         [148, 140, 127],\n",
              "         [148, 140, 127]],\n",
              " \n",
              "        ...,\n",
              " \n",
              "        [[140, 131, 122],\n",
              "         [141, 132, 123],\n",
              "         [141, 132, 123],\n",
              "         ...,\n",
              "         [146, 148, 148],\n",
              "         [146, 148, 148],\n",
              "         [146, 148, 148]],\n",
              " \n",
              "        [[142, 131, 123],\n",
              "         [143, 132, 124],\n",
              "         [143, 133, 123],\n",
              "         ...,\n",
              "         [147, 149, 149],\n",
              "         [147, 149, 149],\n",
              "         [147, 149, 149]],\n",
              " \n",
              "        [[145, 134, 126],\n",
              "         [146, 135, 127],\n",
              "         [146, 136, 126],\n",
              "         ...,\n",
              "         [148, 150, 150],\n",
              "         [147, 149, 149],\n",
              "         [147, 149, 149]]], dtype=uint8)\n",
              " orig_shape: (768, 1024)\n",
              " path: '/workspace/ultralytics/examples/datasets/balloons/images/train/53500107_d24b11b3c2_b.jpg'\n",
              " probs: None\n",
              " save_dir: 'runs/detect/predict7'\n",
              " speed: {'preprocess': 7.750749588012695, 'inference': 96.19426727294922, 'postprocess': 0.7658004760742188}]"
            ]
          },
          "execution_count": 16,
          "metadata": {},
          "output_type": "execute_result"
        }
      ],
      "source": [
        "model('/workspace/ultralytics/examples/datasets/balloons/images/train/53500107_d24b11b3c2_b.jpg', save=True)"
      ]
    },
    {
      "cell_type": "code",
      "execution_count": 27,
      "metadata": {},
      "outputs": [
        {
          "name": "stdout",
          "output_type": "stream",
          "text": [
            "0.7073567708333334 0.31640625 0.4407552083333333 0.4423828125\n"
          ]
        }
      ],
      "source": [
        "bbox = {'xmin': 748, 'ymin': 195, 'xmax': 1425, 'ymax': 1101}\n",
        "\n",
        "width = (bbox[\"xmax\"] - bbox[\"xmin\"]) / img.size[0]\n",
        "height = (bbox[\"ymax\"] - bbox[\"ymin\"]) / img.size[1]\n",
        "x_center = (bbox[\"xmin\"] + (bbox[\"xmax\"] -  bbox[\"xmin\"]) / 2) / img.size[0]\n",
        "y_center = (bbox[\"ymin\"] + (bbox[\"ymax\"] - bbox[\"ymin\"]) / 2) / img.size[1] \n",
        "\n",
        "print(x_center, y_center, width, height)"
      ]
    },
    {
      "cell_type": "code",
      "execution_count": 66,
      "metadata": {},
      "outputs": [
        {
          "data": {
            "text/plain": [
              "(0.7073567708333334, 0.31640625, 0.4407552083333333, 0.4423828125)"
            ]
          },
          "execution_count": 66,
          "metadata": {},
          "output_type": "execute_result"
        }
      ],
      "source": [
        "import pybboxes as pbx\n",
        "\n",
        "voc_bbox = (748, 195, 1425, 1101)\n",
        "W, H = 1536, 2048  # WxH of the image\n",
        "pbx.convert_bbox(voc_bbox, from_type=\"voc\", to_type=\"yolo\", image_size=(W, H))"
      ]
    },
    {
      "cell_type": "code",
      "execution_count": 6,
      "metadata": {},
      "outputs": [],
      "source": [
        "from ultralytics import YOLO\n",
        "\n",
        "model = YOLO('yolov8n.pt')  # load a pretrained model (recommended for training)"
      ]
    },
    {
      "cell_type": "code",
      "execution_count": 29,
      "metadata": {},
      "outputs": [
        {
          "data": {
            "text/plain": [
              "Dataset({\n",
              "    features: ['image'],\n",
              "    num_rows: 61\n",
              "})"
            ]
          },
          "execution_count": 29,
          "metadata": {},
          "output_type": "execute_result"
        }
      ],
      "source": [
        "from datasets import load_dataset, Image\n",
        "\n",
        "dataset = load_dataset(\"nielsr/balloon\", split=\"train\")\n",
        "# dataset = dataset.cast_column('image', Image(decode=True))\n",
        "dataset"
      ]
    },
    {
      "cell_type": "code",
      "execution_count": 35,
      "metadata": {},
      "outputs": [],
      "source": [
        "dataset[\"image\"][0].save(\"/workspace/ultralytics/examples/datasets/ballons/b0000.jpg\")"
      ]
    },
    {
      "cell_type": "code",
      "execution_count": 37,
      "metadata": {},
      "outputs": [
        {
          "name": "stderr",
          "output_type": "stream",
          "text": [
            "\n",
            "image 1/1 /workspace/ultralytics/examples/datasets/ballons/b0000.jpg: 640x640 3 apples, 2 oranges, 4.8ms\n",
            "Speed: 7.8ms preprocess, 4.8ms inference, 0.9ms postprocess per image at shape (1, 3, 640, 640)\n",
            "Results saved to \u001b[1mruns/detect/predict3\u001b[0m\n"
          ]
        },
        {
          "data": {
            "text/plain": [
              "[ultralytics.engine.results.Results object with attributes:\n",
              " \n",
              " boxes: ultralytics.engine.results.Boxes object\n",
              " keypoints: None\n",
              " keys: ['boxes']\n",
              " masks: None\n",
              " names: {0: 'person', 1: 'bicycle', 2: 'car', 3: 'motorcycle', 4: 'airplane', 5: 'bus', 6: 'train', 7: 'truck', 8: 'boat', 9: 'traffic light', 10: 'fire hydrant', 11: 'stop sign', 12: 'parking meter', 13: 'bench', 14: 'bird', 15: 'cat', 16: 'dog', 17: 'horse', 18: 'sheep', 19: 'cow', 20: 'elephant', 21: 'bear', 22: 'zebra', 23: 'giraffe', 24: 'backpack', 25: 'umbrella', 26: 'handbag', 27: 'tie', 28: 'suitcase', 29: 'frisbee', 30: 'skis', 31: 'snowboard', 32: 'sports ball', 33: 'kite', 34: 'baseball bat', 35: 'baseball glove', 36: 'skateboard', 37: 'surfboard', 38: 'tennis racket', 39: 'bottle', 40: 'wine glass', 41: 'cup', 42: 'fork', 43: 'knife', 44: 'spoon', 45: 'bowl', 46: 'banana', 47: 'apple', 48: 'sandwich', 49: 'orange', 50: 'broccoli', 51: 'carrot', 52: 'hot dog', 53: 'pizza', 54: 'donut', 55: 'cake', 56: 'chair', 57: 'couch', 58: 'potted plant', 59: 'bed', 60: 'dining table', 61: 'toilet', 62: 'tv', 63: 'laptop', 64: 'mouse', 65: 'remote', 66: 'keyboard', 67: 'cell phone', 68: 'microwave', 69: 'oven', 70: 'toaster', 71: 'sink', 72: 'refrigerator', 73: 'book', 74: 'clock', 75: 'vase', 76: 'scissors', 77: 'teddy bear', 78: 'hair drier', 79: 'toothbrush'}\n",
              " orig_img: array([[[255, 255, 255],\n",
              "         [255, 255, 255],\n",
              "         [255, 255, 255],\n",
              "         ...,\n",
              "         [255, 255, 255],\n",
              "         [255, 255, 255],\n",
              "         [255, 255, 255]],\n",
              " \n",
              "        [[255, 255, 255],\n",
              "         [255, 255, 255],\n",
              "         [255, 255, 255],\n",
              "         ...,\n",
              "         [255, 255, 255],\n",
              "         [255, 255, 255],\n",
              "         [255, 255, 255]],\n",
              " \n",
              "        [[255, 255, 255],\n",
              "         [255, 255, 255],\n",
              "         [255, 255, 255],\n",
              "         ...,\n",
              "         [255, 255, 255],\n",
              "         [255, 255, 255],\n",
              "         [255, 255, 255]],\n",
              " \n",
              "        ...,\n",
              " \n",
              "        [[255, 255, 255],\n",
              "         [255, 255, 255],\n",
              "         [255, 255, 255],\n",
              "         ...,\n",
              "         [255, 255, 255],\n",
              "         [255, 255, 255],\n",
              "         [255, 255, 255]],\n",
              " \n",
              "        [[255, 255, 255],\n",
              "         [255, 255, 255],\n",
              "         [255, 255, 255],\n",
              "         ...,\n",
              "         [255, 255, 255],\n",
              "         [255, 255, 255],\n",
              "         [255, 255, 255]],\n",
              " \n",
              "        [[255, 255, 255],\n",
              "         [255, 255, 255],\n",
              "         [255, 255, 255],\n",
              "         ...,\n",
              "         [255, 255, 255],\n",
              "         [255, 255, 255],\n",
              "         [255, 255, 255]]], dtype=uint8)\n",
              " orig_shape: (2019, 2048)\n",
              " path: '/workspace/ultralytics/examples/datasets/ballons/b0000.jpg'\n",
              " probs: None\n",
              " save_dir: 'runs/detect/predict3'\n",
              " speed: {'preprocess': 7.848501205444336, 'inference': 4.783391952514648, 'postprocess': 0.9305477142333984}]"
            ]
          },
          "execution_count": 37,
          "metadata": {},
          "output_type": "execute_result"
        }
      ],
      "source": [
        "model.predict(\"/workspace/ultralytics/examples/datasets/ballons/b0000.jpg\", save=True)"
      ]
    },
    {
      "cell_type": "markdown",
      "metadata": {
        "id": "Phm9ccmOKye5"
      },
      "source": [
        "# 6. Tasks\n",
        "\n",
        "YOLOv8 can train, val, predict and export models for the most common tasks in vision AI: [Detect](https://docs.ultralytics.com/tasks/detect/), [Segment](https://docs.ultralytics.com/tasks/segment/), [Classify](https://docs.ultralytics.com/tasks/classify/) and [Pose](https://docs.ultralytics.com/tasks/pose/). See [YOLOv8 Tasks Docs](https://docs.ultralytics.com/tasks/) for more information.\n",
        "\n",
        "<br><img width=\"1024\" src=\"https://raw.githubusercontent.com/ultralytics/assets/main/im/banner-tasks.png\">\n"
      ]
    },
    {
      "cell_type": "markdown",
      "metadata": {
        "id": "yq26lwpYK1lq"
      },
      "source": [
        "## 1. Detection\n",
        "\n",
        "YOLOv8 _detection_ models have no suffix and are the default YOLOv8 models, i.e. `yolov8n.pt` and are pretrained on COCO. See [Detection Docs](https://docs.ultralytics.com/tasks/detect/) for full details.\n"
      ]
    },
    {
      "cell_type": "code",
      "execution_count": null,
      "metadata": {
        "id": "8Go5qqS9LbC5"
      },
      "outputs": [],
      "source": [
        "# Load YOLOv8n, train it on COCO128 for 3 epochs and predict an image with it\n",
        "from ultralytics import YOLO\n",
        "\n",
        "model = YOLO('yolov8n.pt')  # load a pretrained YOLOv8n detection model\n",
        "model.train(data='coco128.yaml', epochs=3)  # train the model\n",
        "model('https://ultralytics.com/images/bus.jpg')  # predict on an image"
      ]
    },
    {
      "cell_type": "markdown",
      "metadata": {
        "id": "7ZW58jUzK66B"
      },
      "source": [
        "## 2. Segmentation\n",
        "\n",
        "YOLOv8 _segmentation_ models use the `-seg` suffix, i.e. `yolov8n-seg.pt` and are pretrained on COCO. See [Segmentation Docs](https://docs.ultralytics.com/tasks/segment/) for full details.\n"
      ]
    },
    {
      "cell_type": "code",
      "execution_count": null,
      "metadata": {
        "id": "WFPJIQl_L5HT"
      },
      "outputs": [],
      "source": [
        "# Load YOLOv8n-seg, train it on COCO128-seg for 3 epochs and predict an image with it\n",
        "from ultralytics import YOLO\n",
        "\n",
        "model = YOLO('yolov8n-seg.pt')  # load a pretrained YOLOv8n segmentation model\n",
        "model.train(data='coco128-seg.yaml', epochs=3)  # train the model\n",
        "model('https://ultralytics.com/images/bus.jpg')  # predict on an image"
      ]
    },
    {
      "cell_type": "markdown",
      "metadata": {
        "id": "ax3p94VNK9zR"
      },
      "source": [
        "## 3. Classification\n",
        "\n",
        "YOLOv8 _classification_ models use the `-cls` suffix, i.e. `yolov8n-cls.pt` and are pretrained on ImageNet. See [Classification Docs](https://docs.ultralytics.com/tasks/classify/) for full details.\n"
      ]
    },
    {
      "cell_type": "code",
      "execution_count": null,
      "metadata": {
        "id": "5q9Zu6zlL5rS"
      },
      "outputs": [],
      "source": [
        "# Load YOLOv8n-cls, train it on mnist160 for 3 epochs and predict an image with it\n",
        "from ultralytics import YOLO\n",
        "\n",
        "model = YOLO('yolov8n-cls.pt')  # load a pretrained YOLOv8n classification model\n",
        "model.train(data='mnist160', epochs=3)  # train the model\n",
        "model('https://ultralytics.com/images/bus.jpg')  # predict on an image"
      ]
    },
    {
      "cell_type": "markdown",
      "metadata": {
        "id": "SpIaFLiO11TG"
      },
      "source": [
        "## 4. Pose\n",
        "\n",
        "YOLOv8 _pose_ models use the `-pose` suffix, i.e. `yolov8n-pose.pt` and are pretrained on COCO Keypoints. See [Pose Docs](https://docs.ultralytics.com/tasks/pose/) for full details."
      ]
    },
    {
      "cell_type": "code",
      "execution_count": null,
      "metadata": {
        "id": "si4aKFNg19vX"
      },
      "outputs": [],
      "source": [
        "# Load YOLOv8n-pose, train it on COCO8-pose for 3 epochs and predict an image with it\n",
        "from ultralytics import YOLO\n",
        "\n",
        "model = YOLO('yolov8n-pose.pt')  # load a pretrained YOLOv8n classification model\n",
        "model.train(data='coco8-pose.yaml', epochs=3)  # train the model\n",
        "model('https://ultralytics.com/images/bus.jpg')  # predict on an image"
      ]
    },
    {
      "cell_type": "markdown",
      "metadata": {
        "id": "IEijrePND_2I"
      },
      "source": [
        "# Appendix\n",
        "\n",
        "Additional content below."
      ]
    },
    {
      "cell_type": "code",
      "execution_count": null,
      "metadata": {
        "id": "uRKlwxSJdhd1"
      },
      "outputs": [],
      "source": [
        "# Git clone and run tests on updates branch\n",
        "!git clone https://github.com/ultralytics/ultralytics -b main\n",
        "%pip install -qe ultralytics"
      ]
    },
    {
      "cell_type": "code",
      "execution_count": null,
      "metadata": {
        "id": "GtPlh7mcCGZX"
      },
      "outputs": [],
      "source": [
        "# Run tests (Git clone only)\n",
        "!pytest ultralytics/tests"
      ]
    },
    {
      "cell_type": "code",
      "execution_count": null,
      "metadata": {
        "id": "Wdc6t_bfzDDk"
      },
      "outputs": [],
      "source": [
        "# Validate multiple models\n",
        "for x in 'nsmlx':\n",
        "  !yolo val model=yolov8{x}.pt data=coco.yaml"
      ]
    }
  ],
  "metadata": {
    "accelerator": "GPU",
    "colab": {
      "name": "YOLOv8 Tutorial",
      "provenance": [],
      "toc_visible": true
    },
    "kernelspec": {
      "display_name": "Python 3",
      "name": "python3"
    },
    "language_info": {
      "codemirror_mode": {
        "name": "ipython",
        "version": 3
      },
      "file_extension": ".py",
      "mimetype": "text/x-python",
      "name": "python",
      "nbconvert_exporter": "python",
      "pygments_lexer": "ipython3",
      "version": "3.10.6"
    }
  },
  "nbformat": 4,
  "nbformat_minor": 0
}
