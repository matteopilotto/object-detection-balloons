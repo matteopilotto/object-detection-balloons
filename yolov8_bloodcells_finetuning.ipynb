{
 "cells": [
  {
   "cell_type": "code",
   "execution_count": 1,
   "metadata": {},
   "outputs": [
    {
     "name": "stdout",
     "output_type": "stream",
     "text": [
      "Requirement already satisfied: ultralytics in /usr/local/lib/python3.10/dist-packages (from -r requirements.txt (line 1)) (8.0.166)\n",
      "Requirement already satisfied: kaggle in /usr/local/lib/python3.10/dist-packages (from -r requirements.txt (line 2)) (1.5.16)\n",
      "Requirement already satisfied: pybboxes in /usr/local/lib/python3.10/dist-packages (from -r requirements.txt (line 3)) (0.1.6)\n",
      "Collecting datasets (from -r requirements.txt (line 4))\n",
      "  Downloading datasets-2.14.4-py3-none-any.whl (519 kB)\n",
      "\u001b[2K     \u001b[90m━━━━━━━━━━━━━━━━━━━━━━━━━━━━━━━━━━━━━━━\u001b[0m \u001b[32m519.3/519.3 kB\u001b[0m \u001b[31m6.3 MB/s\u001b[0m eta \u001b[36m0:00:00\u001b[0ma \u001b[36m0:00:01\u001b[0m\n",
      "\u001b[?25hRequirement already satisfied: matplotlib>=3.2.2 in /usr/local/lib/python3.10/dist-packages (from ultralytics->-r requirements.txt (line 1)) (3.7.2)\n",
      "Requirement already satisfied: numpy>=1.22.2 in /usr/local/lib/python3.10/dist-packages (from ultralytics->-r requirements.txt (line 1)) (1.24.1)\n",
      "Requirement already satisfied: opencv-python>=4.6.0 in /usr/local/lib/python3.10/dist-packages (from ultralytics->-r requirements.txt (line 1)) (4.8.0.76)\n",
      "Requirement already satisfied: pillow>=7.1.2 in /usr/local/lib/python3.10/dist-packages (from ultralytics->-r requirements.txt (line 1)) (9.3.0)\n",
      "Requirement already satisfied: pyyaml>=5.3.1 in /usr/local/lib/python3.10/dist-packages (from ultralytics->-r requirements.txt (line 1)) (6.0)\n",
      "Requirement already satisfied: requests>=2.23.0 in /usr/local/lib/python3.10/dist-packages (from ultralytics->-r requirements.txt (line 1)) (2.28.1)\n",
      "Requirement already satisfied: scipy>=1.4.1 in /usr/local/lib/python3.10/dist-packages (from ultralytics->-r requirements.txt (line 1)) (1.11.2)\n",
      "Requirement already satisfied: torch>=1.8.0 in /usr/local/lib/python3.10/dist-packages (from ultralytics->-r requirements.txt (line 1)) (2.0.1+cu118)\n",
      "Requirement already satisfied: torchvision>=0.9.0 in /usr/local/lib/python3.10/dist-packages (from ultralytics->-r requirements.txt (line 1)) (0.15.2+cu118)\n",
      "Requirement already satisfied: tqdm>=4.64.0 in /usr/local/lib/python3.10/dist-packages (from ultralytics->-r requirements.txt (line 1)) (4.66.1)\n",
      "Requirement already satisfied: pandas>=1.1.4 in /usr/local/lib/python3.10/dist-packages (from ultralytics->-r requirements.txt (line 1)) (2.0.3)\n",
      "Requirement already satisfied: seaborn>=0.11.0 in /usr/local/lib/python3.10/dist-packages (from ultralytics->-r requirements.txt (line 1)) (0.12.2)\n",
      "Requirement already satisfied: psutil in /usr/local/lib/python3.10/dist-packages (from ultralytics->-r requirements.txt (line 1)) (5.9.5)\n",
      "Requirement already satisfied: py-cpuinfo in /usr/local/lib/python3.10/dist-packages (from ultralytics->-r requirements.txt (line 1)) (9.0.0)\n",
      "Requirement already satisfied: six>=1.10 in /usr/lib/python3/dist-packages (from kaggle->-r requirements.txt (line 2)) (1.16.0)\n",
      "Requirement already satisfied: certifi in /usr/local/lib/python3.10/dist-packages (from kaggle->-r requirements.txt (line 2)) (2022.12.7)\n",
      "Requirement already satisfied: python-dateutil in /usr/local/lib/python3.10/dist-packages (from kaggle->-r requirements.txt (line 2)) (2.8.2)\n",
      "Requirement already satisfied: python-slugify in /usr/local/lib/python3.10/dist-packages (from kaggle->-r requirements.txt (line 2)) (8.0.1)\n",
      "Requirement already satisfied: urllib3 in /usr/local/lib/python3.10/dist-packages (from kaggle->-r requirements.txt (line 2)) (1.26.13)\n",
      "Requirement already satisfied: bleach in /usr/local/lib/python3.10/dist-packages (from kaggle->-r requirements.txt (line 2)) (6.0.0)\n",
      "Collecting pyarrow>=8.0.0 (from datasets->-r requirements.txt (line 4))\n",
      "  Downloading pyarrow-13.0.0-cp310-cp310-manylinux_2_28_x86_64.whl (40.0 MB)\n",
      "\u001b[2K     \u001b[90m━━━━━━━━━━━━━━━━━━━━━━━━━━━━━━━━━━━━━━━━\u001b[0m \u001b[32m40.0/40.0 MB\u001b[0m \u001b[31m23.3 MB/s\u001b[0m eta \u001b[36m0:00:00\u001b[0m00:01\u001b[0m00:01\u001b[0m\n",
      "\u001b[?25hCollecting dill<0.3.8,>=0.3.0 (from datasets->-r requirements.txt (line 4))\n",
      "  Downloading dill-0.3.7-py3-none-any.whl (115 kB)\n",
      "\u001b[2K     \u001b[90m━━━━━━━━━━━━━━━━━━━━━━━━━━━━━━━━━━━━━━\u001b[0m \u001b[32m115.3/115.3 kB\u001b[0m \u001b[31m47.9 MB/s\u001b[0m eta \u001b[36m0:00:00\u001b[0m\n",
      "\u001b[?25hCollecting xxhash (from datasets->-r requirements.txt (line 4))\n",
      "  Downloading xxhash-3.3.0-cp310-cp310-manylinux_2_17_x86_64.manylinux2014_x86_64.whl (194 kB)\n",
      "\u001b[2K     \u001b[90m━━━━━━━━━━━━━━━━━━━━━━━━━━━━━━━━━━━━━━\u001b[0m \u001b[32m194.1/194.1 kB\u001b[0m \u001b[31m18.1 MB/s\u001b[0m eta \u001b[36m0:00:00\u001b[0m\n",
      "\u001b[?25hCollecting multiprocess (from datasets->-r requirements.txt (line 4))\n",
      "  Downloading multiprocess-0.70.15-py310-none-any.whl (134 kB)\n",
      "\u001b[2K     \u001b[90m━━━━━━━━━━━━━━━━━━━━━━━━━━━━━━━━━━━━━━\u001b[0m \u001b[32m134.8/134.8 kB\u001b[0m \u001b[31m22.4 MB/s\u001b[0m eta \u001b[36m0:00:00\u001b[0m\n",
      "\u001b[?25hCollecting fsspec[http]>=2021.11.1 (from datasets->-r requirements.txt (line 4))\n",
      "  Downloading fsspec-2023.6.0-py3-none-any.whl (163 kB)\n",
      "\u001b[2K     \u001b[90m━━━━━━━━━━━━━━━━━━━━━━━━━━━━━━━━━━━━━━\u001b[0m \u001b[32m163.8/163.8 kB\u001b[0m \u001b[31m48.5 MB/s\u001b[0m eta \u001b[36m0:00:00\u001b[0m\n",
      "\u001b[?25hCollecting aiohttp (from datasets->-r requirements.txt (line 4))\n",
      "  Downloading aiohttp-3.8.5-cp310-cp310-manylinux_2_17_x86_64.manylinux2014_x86_64.whl (1.0 MB)\n",
      "\u001b[2K     \u001b[90m━━━━━━━━━━━━━━━━━━━━━━━━━━━━━━━━━━━━━━━━\u001b[0m \u001b[32m1.0/1.0 MB\u001b[0m \u001b[31m75.0 MB/s\u001b[0m eta \u001b[36m0:00:00\u001b[0m\n",
      "\u001b[?25hCollecting huggingface-hub<1.0.0,>=0.14.0 (from datasets->-r requirements.txt (line 4))\n",
      "  Downloading huggingface_hub-0.16.4-py3-none-any.whl (268 kB)\n",
      "\u001b[2K     \u001b[90m━━━━━━━━━━━━━━━━━━━━━━━━━━━━━━━━━━━━━━\u001b[0m \u001b[32m268.8/268.8 kB\u001b[0m \u001b[31m74.3 MB/s\u001b[0m eta \u001b[36m0:00:00\u001b[0m\n",
      "\u001b[?25hRequirement already satisfied: packaging in /usr/local/lib/python3.10/dist-packages (from datasets->-r requirements.txt (line 4)) (23.1)\n",
      "Requirement already satisfied: attrs>=17.3.0 in /usr/local/lib/python3.10/dist-packages (from aiohttp->datasets->-r requirements.txt (line 4)) (23.1.0)\n",
      "Requirement already satisfied: charset-normalizer<4.0,>=2.0 in /usr/local/lib/python3.10/dist-packages (from aiohttp->datasets->-r requirements.txt (line 4)) (2.1.1)\n",
      "Collecting multidict<7.0,>=4.5 (from aiohttp->datasets->-r requirements.txt (line 4))\n",
      "  Downloading multidict-6.0.4-cp310-cp310-manylinux_2_17_x86_64.manylinux2014_x86_64.whl (114 kB)\n",
      "\u001b[2K     \u001b[90m━━━━━━━━━━━━━━━━━━━━━━━━━━━━━━━━━━━━━━\u001b[0m \u001b[32m114.5/114.5 kB\u001b[0m \u001b[31m11.8 MB/s\u001b[0m eta \u001b[36m0:00:00\u001b[0m\n",
      "\u001b[?25hCollecting async-timeout<5.0,>=4.0.0a3 (from aiohttp->datasets->-r requirements.txt (line 4))\n",
      "  Downloading async_timeout-4.0.3-py3-none-any.whl (5.7 kB)\n",
      "Collecting yarl<2.0,>=1.0 (from aiohttp->datasets->-r requirements.txt (line 4))\n",
      "  Downloading yarl-1.9.2-cp310-cp310-manylinux_2_17_x86_64.manylinux2014_x86_64.whl (268 kB)\n",
      "\u001b[2K     \u001b[90m━━━━━━━━━━━━━━━━━━━━━━━━━━━━━━━━━━━━━━\u001b[0m \u001b[32m268.8/268.8 kB\u001b[0m \u001b[31m28.1 MB/s\u001b[0m eta \u001b[36m0:00:00\u001b[0m\n",
      "\u001b[?25hCollecting frozenlist>=1.1.1 (from aiohttp->datasets->-r requirements.txt (line 4))\n",
      "  Downloading frozenlist-1.4.0-cp310-cp310-manylinux_2_5_x86_64.manylinux1_x86_64.manylinux_2_17_x86_64.manylinux2014_x86_64.whl (225 kB)\n",
      "\u001b[2K     \u001b[90m━━━━━━━━━━━━━━━━━━━━━━━━━━━━━━━━━━━━━━\u001b[0m \u001b[32m225.7/225.7 kB\u001b[0m \u001b[31m68.0 MB/s\u001b[0m eta \u001b[36m0:00:00\u001b[0m\n",
      "\u001b[?25hCollecting aiosignal>=1.1.2 (from aiohttp->datasets->-r requirements.txt (line 4))\n",
      "  Downloading aiosignal-1.3.1-py3-none-any.whl (7.6 kB)\n",
      "Requirement already satisfied: filelock in /usr/local/lib/python3.10/dist-packages (from huggingface-hub<1.0.0,>=0.14.0->datasets->-r requirements.txt (line 4)) (3.9.0)\n",
      "Requirement already satisfied: typing-extensions>=3.7.4.3 in /usr/local/lib/python3.10/dist-packages (from huggingface-hub<1.0.0,>=0.14.0->datasets->-r requirements.txt (line 4)) (4.4.0)\n",
      "Requirement already satisfied: contourpy>=1.0.1 in /usr/local/lib/python3.10/dist-packages (from matplotlib>=3.2.2->ultralytics->-r requirements.txt (line 1)) (1.1.0)\n",
      "Requirement already satisfied: cycler>=0.10 in /usr/local/lib/python3.10/dist-packages (from matplotlib>=3.2.2->ultralytics->-r requirements.txt (line 1)) (0.11.0)\n",
      "Requirement already satisfied: fonttools>=4.22.0 in /usr/local/lib/python3.10/dist-packages (from matplotlib>=3.2.2->ultralytics->-r requirements.txt (line 1)) (4.42.1)\n",
      "Requirement already satisfied: kiwisolver>=1.0.1 in /usr/local/lib/python3.10/dist-packages (from matplotlib>=3.2.2->ultralytics->-r requirements.txt (line 1)) (1.4.5)\n",
      "Requirement already satisfied: pyparsing<3.1,>=2.3.1 in /usr/lib/python3/dist-packages (from matplotlib>=3.2.2->ultralytics->-r requirements.txt (line 1)) (2.4.7)\n",
      "Requirement already satisfied: pytz>=2020.1 in /usr/local/lib/python3.10/dist-packages (from pandas>=1.1.4->ultralytics->-r requirements.txt (line 1)) (2023.3)\n",
      "Requirement already satisfied: tzdata>=2022.1 in /usr/local/lib/python3.10/dist-packages (from pandas>=1.1.4->ultralytics->-r requirements.txt (line 1)) (2023.3)\n",
      "Requirement already satisfied: idna<4,>=2.5 in /usr/local/lib/python3.10/dist-packages (from requests>=2.23.0->ultralytics->-r requirements.txt (line 1)) (3.4)\n",
      "Requirement already satisfied: sympy in /usr/local/lib/python3.10/dist-packages (from torch>=1.8.0->ultralytics->-r requirements.txt (line 1)) (1.11.1)\n",
      "Requirement already satisfied: networkx in /usr/local/lib/python3.10/dist-packages (from torch>=1.8.0->ultralytics->-r requirements.txt (line 1)) (3.0)\n",
      "Requirement already satisfied: jinja2 in /usr/local/lib/python3.10/dist-packages (from torch>=1.8.0->ultralytics->-r requirements.txt (line 1)) (3.1.2)\n",
      "Requirement already satisfied: triton==2.0.0 in /usr/local/lib/python3.10/dist-packages (from torch>=1.8.0->ultralytics->-r requirements.txt (line 1)) (2.0.0)\n",
      "Requirement already satisfied: cmake in /usr/local/lib/python3.10/dist-packages (from triton==2.0.0->torch>=1.8.0->ultralytics->-r requirements.txt (line 1)) (3.25.0)\n",
      "Requirement already satisfied: lit in /usr/local/lib/python3.10/dist-packages (from triton==2.0.0->torch>=1.8.0->ultralytics->-r requirements.txt (line 1)) (15.0.7)\n",
      "Requirement already satisfied: webencodings in /usr/local/lib/python3.10/dist-packages (from bleach->kaggle->-r requirements.txt (line 2)) (0.5.1)\n",
      "Requirement already satisfied: text-unidecode>=1.3 in /usr/local/lib/python3.10/dist-packages (from python-slugify->kaggle->-r requirements.txt (line 2)) (1.3)\n",
      "Requirement already satisfied: MarkupSafe>=2.0 in /usr/local/lib/python3.10/dist-packages (from jinja2->torch>=1.8.0->ultralytics->-r requirements.txt (line 1)) (2.1.2)\n",
      "Requirement already satisfied: mpmath>=0.19 in /usr/local/lib/python3.10/dist-packages (from sympy->torch>=1.8.0->ultralytics->-r requirements.txt (line 1)) (1.2.1)\n",
      "Installing collected packages: xxhash, pyarrow, multidict, fsspec, frozenlist, dill, async-timeout, yarl, multiprocess, huggingface-hub, aiosignal, aiohttp, datasets\n",
      "Successfully installed aiohttp-3.8.5 aiosignal-1.3.1 async-timeout-4.0.3 datasets-2.14.4 dill-0.3.7 frozenlist-1.4.0 fsspec-2023.6.0 huggingface-hub-0.16.4 multidict-6.0.4 multiprocess-0.70.15 pyarrow-13.0.0 xxhash-3.3.0 yarl-1.9.2\n",
      "\u001b[33mWARNING: Running pip as the 'root' user can result in broken permissions and conflicting behaviour with the system package manager. It is recommended to use a virtual environment instead: https://pip.pypa.io/warnings/venv\u001b[0m\u001b[33m\n",
      "\u001b[0m\n",
      "\u001b[1m[\u001b[0m\u001b[34;49mnotice\u001b[0m\u001b[1;39;49m]\u001b[0m\u001b[39;49m A new release of pip is available: \u001b[0m\u001b[31;49m23.1.2\u001b[0m\u001b[39;49m -> \u001b[0m\u001b[32;49m23.2.1\u001b[0m\n",
      "\u001b[1m[\u001b[0m\u001b[34;49mnotice\u001b[0m\u001b[1;39;49m]\u001b[0m\u001b[39;49m To update, run: \u001b[0m\u001b[32;49mpython -m pip install --upgrade pip\u001b[0m\n"
     ]
    }
   ],
   "source": [
    "!pip install -r requirements.txt"
   ]
  },
  {
   "cell_type": "code",
   "execution_count": 2,
   "metadata": {},
   "outputs": [],
   "source": [
    "import os\n",
    "from pathlib import Path\n",
    "from getpass import getpass\n",
    "from datasets import load_dataset\n",
    "\n",
    "import pandas as pd\n",
    "import shutil\n",
    "from tqdm.auto import tqdm\n",
    "import ast\n",
    "import pybboxes as pbx\n",
    "\n",
    "import ultralytics\n",
    "from ultralytics import YOLO\n",
    "\n",
    "import random"
   ]
  },
  {
   "cell_type": "code",
   "execution_count": 63,
   "metadata": {},
   "outputs": [
    {
     "data": {
      "application/vnd.jupyter.widget-view+json": {
       "model_id": "eac320f58b1944348dba2c0420c0796c",
       "version_major": 2,
       "version_minor": 0
      },
      "text/plain": [
       "Downloading data files:   0%|          | 0/3 [00:00<?, ?it/s]"
      ]
     },
     "metadata": {},
     "output_type": "display_data"
    },
    {
     "data": {
      "application/vnd.jupyter.widget-view+json": {
       "model_id": "2d1d3df2eb094ba3b06786240c87de93",
       "version_major": 2,
       "version_minor": 0
      },
      "text/plain": [
       "Downloading data:   0%|          | 0.00/3.36M [00:00<?, ?B/s]"
      ]
     },
     "metadata": {},
     "output_type": "display_data"
    },
    {
     "data": {
      "application/vnd.jupyter.widget-view+json": {
       "model_id": "ce7fba04ac9c4477887c989e14e4c2e3",
       "version_major": 2,
       "version_minor": 0
      },
      "text/plain": [
       "Downloading data:   0%|          | 0.00/959k [00:00<?, ?B/s]"
      ]
     },
     "metadata": {},
     "output_type": "display_data"
    },
    {
     "data": {
      "application/vnd.jupyter.widget-view+json": {
       "model_id": "bd2d840d0d314e0f81137d8808db9965",
       "version_major": 2,
       "version_minor": 0
      },
      "text/plain": [
       "Downloading data:   0%|          | 0.00/471k [00:00<?, ?B/s]"
      ]
     },
     "metadata": {},
     "output_type": "display_data"
    },
    {
     "data": {
      "application/vnd.jupyter.widget-view+json": {
       "model_id": "ad81726076b145869786fc9aa1734bbe",
       "version_major": 2,
       "version_minor": 0
      },
      "text/plain": [
       "Extracting data files:   0%|          | 0/3 [00:00<?, ?it/s]"
      ]
     },
     "metadata": {},
     "output_type": "display_data"
    },
    {
     "data": {
      "application/vnd.jupyter.widget-view+json": {
       "model_id": "fc8ccb5eb80547d0948a8fb3be4e0513",
       "version_major": 2,
       "version_minor": 0
      },
      "text/plain": [
       "Generating train split: 0 examples [00:00, ? examples/s]"
      ]
     },
     "metadata": {},
     "output_type": "display_data"
    },
    {
     "data": {
      "application/vnd.jupyter.widget-view+json": {
       "model_id": "6c9f2e7b52084e638d2fa39cc01f1b90",
       "version_major": 2,
       "version_minor": 0
      },
      "text/plain": [
       "Generating validation split: 0 examples [00:00, ? examples/s]"
      ]
     },
     "metadata": {},
     "output_type": "display_data"
    },
    {
     "data": {
      "application/vnd.jupyter.widget-view+json": {
       "model_id": "c636841f2a754a72aaf23fc0633930ef",
       "version_major": 2,
       "version_minor": 0
      },
      "text/plain": [
       "Generating test split: 0 examples [00:00, ? examples/s]"
      ]
     },
     "metadata": {},
     "output_type": "display_data"
    }
   ],
   "source": [
    "dataset = load_dataset(\"keremberke/blood-cell-object-detection\", \"full\")"
   ]
  },
  {
   "cell_type": "code",
   "execution_count": 69,
   "metadata": {},
   "outputs": [
    {
     "data": {
      "text/plain": [
       "{'image_id': 3,\n",
       " 'image': <PIL.JpegImagePlugin.JpegImageFile image mode=RGB size=416x416>,\n",
       " 'width': 416,\n",
       " 'height': 416,\n",
       " 'objects': {'id': [28,\n",
       "   29,\n",
       "   30,\n",
       "   31,\n",
       "   32,\n",
       "   33,\n",
       "   34,\n",
       "   35,\n",
       "   36,\n",
       "   37,\n",
       "   38,\n",
       "   39,\n",
       "   40,\n",
       "   41,\n",
       "   42,\n",
       "   43,\n",
       "   44,\n",
       "   45,\n",
       "   46],\n",
       "  'area': [20234,\n",
       "   5232,\n",
       "   6292,\n",
       "   3990,\n",
       "   3926,\n",
       "   3926,\n",
       "   5103,\n",
       "   5575,\n",
       "   4956,\n",
       "   4956,\n",
       "   2875,\n",
       "   3504,\n",
       "   7134,\n",
       "   3944,\n",
       "   6499,\n",
       "   5664,\n",
       "   6867,\n",
       "   5400,\n",
       "   6350],\n",
       "  'bbox': [[44.0, 273.0, 141.5, 143.0],\n",
       "   [225.0, 313.0, 65.0, 80.5],\n",
       "   [34.0, 155.0, 60.5, 104.0],\n",
       "   [291.0, 346.0, 57.0, 70.0],\n",
       "   [300.0, 114.0, 56.5, 69.5],\n",
       "   [295.0, 256.0, 56.5, 69.5],\n",
       "   [271.0, 245.0, 59.0, 86.5],\n",
       "   [181.0, 296.0, 59.0, 94.5],\n",
       "   [355.0, 54.0, 59.0, 84.0],\n",
       "   [316.0, 79.0, 59.0, 84.0],\n",
       "   [244.0, 148.0, 40.5, 71.0],\n",
       "   [214.0, 153.0, 43.0, 81.5],\n",
       "   [189.0, 51.0, 75.5, 94.5],\n",
       "   [195.0, 1.0, 68.0, 58.0],\n",
       "   [225.0, 23.0, 67.0, 97.0],\n",
       "   [87.0, 1.0, 69.5, 81.5],\n",
       "   [1.0, 33.0, 63.0, 109.0],\n",
       "   [107.0, 139.0, 60.0, 90.0],\n",
       "   [302.0, 181.0, 66.5, 95.5]],\n",
       "  'category': [2, 1, 1, 1, 1, 1, 1, 1, 1, 1, 1, 1, 1, 1, 1, 1, 1, 1, 1]}}"
      ]
     },
     "execution_count": 69,
     "metadata": {},
     "output_type": "execute_result"
    }
   ],
   "source": [
    "dataset['train'][0]"
   ]
  },
  {
   "cell_type": "code",
   "execution_count": 89,
   "metadata": {},
   "outputs": [],
   "source": [
    "dataset_dir = \"/workspace/object-detection-balloons/datasets/bloodcells\"\n",
    "os.makedirs(dataset_dir, exist_ok=True)"
   ]
  },
  {
   "cell_type": "code",
   "execution_count": 90,
   "metadata": {},
   "outputs": [],
   "source": [
    "# rm -rf /workspace/object-detection-balloons/datasets/bloodcells"
   ]
  },
  {
   "cell_type": "code",
   "execution_count": 91,
   "metadata": {},
   "outputs": [],
   "source": [
    "for split in dataset:\n",
    "    for row in dataset[split]:\n",
    "        img_path = Path(os.path.join(dataset_dir, \"images\", split, str(row[\"image_id\"])) + \".jpg\")\n",
    "        os.makedirs(img_path.parent, exist_ok=True)\n",
    "        row[\"image\"].save(img_path)\n",
    "        for bbox, category in zip(row[\"objects\"][\"bbox\"], row[\"objects\"][\"category\"]):\n",
    "            bbox_yolo = pbx.convert_bbox(bbox, from_type=\"coco\", to_type=\"yolo\", image_size=(row[\"width\"], row[\"height\"]))\n",
    "            bbox_yolo = \" \".join([str(bb) for bb in bbox_yolo])\n",
    "            file_path = Path(os.path.join(dataset_dir, \"labels\", split, str(row[\"image_id\"])) + \".txt\")\n",
    "            os.makedirs(file_path.parent, exist_ok=True)\n",
    "            with open(file_path, \"a\") as f:\n",
    "                f.write(f\"{category} {bbox_yolo}\\n\")"
   ]
  },
  {
   "cell_type": "code",
   "execution_count": 84,
   "metadata": {},
   "outputs": [
    {
     "name": "stderr",
     "output_type": "stream",
     "text": [
      "Ultralytics YOLOv8.0.166 🚀 Python-3.10.6 torch-2.0.1+cu118 CUDA:0 (NVIDIA GeForce RTX 3090, 24260MiB)\n",
      "Setup complete ✅ (64 CPUs, 251.6 GB RAM, 1.3/20.0 GB disk)\n"
     ]
    }
   ],
   "source": [
    "ultralytics.checks()"
   ]
  },
  {
   "cell_type": "markdown",
   "metadata": {},
   "source": [
    "## Baseline"
   ]
  },
  {
   "cell_type": "code",
   "execution_count": 92,
   "metadata": {},
   "outputs": [
    {
     "data": {
      "text/plain": [
       "['/workspace/object-detection-balloons/datasets/bloodcells/images/validation/51.jpg',\n",
       " '/workspace/object-detection-balloons/datasets/bloodcells/images/validation/14.jpg',\n",
       " '/workspace/object-detection-balloons/datasets/bloodcells/images/validation/48.jpg']"
      ]
     },
     "execution_count": 92,
     "metadata": {},
     "output_type": "execute_result"
    }
   ],
   "source": [
    "img_path_base = \"/workspace/object-detection-balloons/datasets/bloodcells/images/validation\"\n",
    "val_img_paths = [os.path.join(img_path_base, fname) for fname in os.listdir(img_path_base)]\n",
    "val_img_paths[:3]"
   ]
  },
  {
   "cell_type": "code",
   "execution_count": 94,
   "metadata": {},
   "outputs": [
    {
     "name": "stderr",
     "output_type": "stream",
     "text": [
      "\n"
     ]
    },
    {
     "name": "stderr",
     "output_type": "stream",
     "text": [
      "0: 640x640 1 toothbrush, 1: 640x640 (no detections), 2: 640x640 1 person, 3: 640x640 1 teddy bear, 4: 640x640 1 person, 5: 640x640 (no detections), 6: 640x640 2 persons, 7: 640x640 (no detections), 8: 640x640 (no detections), 9: 640x640 (no detections), 10: 640x640 1 person, 11: 640x640 1 person, 12: 640x640 2 persons, 13: 640x640 (no detections), 14: 640x640 (no detections), 15: 640x640 1 person, 16: 640x640 (no detections), 17: 640x640 (no detections), 18: 640x640 1 person, 1 sports ball, 19: 640x640 1 person, 20: 640x640 1 toothbrush, 21: 640x640 1 person, 22: 640x640 (no detections), 23: 640x640 1 toothbrush, 24: 640x640 1 person, 1 toothbrush, 25: 640x640 1 donut, 26: 640x640 2 persons, 27: 640x640 (no detections), 28: 640x640 (no detections), 29: 640x640 (no detections), 30: 640x640 2 sports balls, 1 toothbrush, 31: 640x640 1 donut, 32: 640x640 1 sports ball, 33: 640x640 1 person, 1 sports ball, 34: 640x640 (no detections), 35: 640x640 (no detections), 36: 640x640 (no detections), 37: 640x640 1 donut, 38: 640x640 1 cake, 39: 640x640 1 donut, 40: 640x640 (no detections), 41: 640x640 (no detections), 42: 640x640 1 donut, 43: 640x640 (no detections), 44: 640x640 1 toothbrush, 45: 640x640 (no detections), 46: 640x640 (no detections), 47: 640x640 (no detections), 48: 640x640 1 person, 1 sports ball, 49: 640x640 1 sports ball, 50: 640x640 2 sports balls, 51: 640x640 1 sports ball, 52: 640x640 (no detections), 53: 640x640 1 donut, 1 toothbrush, 54: 640x640 1 toothbrush, 55: 640x640 (no detections), 56: 640x640 2 toothbrushs, 57: 640x640 1 sports ball, 58: 640x640 (no detections), 59: 640x640 (no detections), 60: 640x640 1 toothbrush, 61: 640x640 2 sports balls, 62: 640x640 1 toothbrush, 63: 640x640 1 toothbrush, 64: 640x640 (no detections), 65: 640x640 (no detections), 66: 640x640 1 sports ball, 67: 640x640 (no detections), 68: 640x640 (no detections), 69: 640x640 (no detections), 70: 640x640 1 sports ball, 1 toothbrush, 71: 640x640 (no detections), 72: 640x640 1 sports ball, 67.2ms\n",
      "Speed: 1.9ms preprocess, 0.9ms inference, 0.4ms postprocess per image at shape (1, 3, 640, 640)\n",
      "Results saved to \u001b[1mpreds/baseline\u001b[0m\n"
     ]
    }
   ],
   "source": [
    "yolo_base = YOLO('yolov8n.pt')\n",
    "preds = yolo_base.predict(val_img_paths, save=True, project=\"preds\", name=\"baseline\") "
   ]
  },
  {
   "cell_type": "markdown",
   "metadata": {},
   "source": [
    "## Finetuning"
   ]
  },
  {
   "cell_type": "code",
   "execution_count": 97,
   "metadata": {},
   "outputs": [
    {
     "name": "stderr",
     "output_type": "stream",
     "text": [
      "Ultralytics YOLOv8.0.166 🚀 Python-3.10.6 torch-2.0.1+cu118 CUDA:0 (NVIDIA GeForce RTX 3090, 24260MiB)\n"
     ]
    },
    {
     "name": "stderr",
     "output_type": "stream",
     "text": [
      "\u001b[34m\u001b[1mengine/trainer: \u001b[0mtask=detect, mode=train, model=yolov8n.pt, data=/workspace/object-detection-balloons/bloodcells.yaml, epochs=50, patience=50, batch=16, imgsz=640, save=True, save_period=-1, cache=False, device=None, workers=8, project=None, name=None, exist_ok=False, pretrained=True, optimizer=auto, verbose=True, seed=0, deterministic=True, single_cls=False, rect=False, cos_lr=False, close_mosaic=10, resume=False, amp=True, fraction=1.0, profile=False, freeze=None, overlap_mask=True, mask_ratio=4, dropout=0.0, val=True, split=val, save_json=False, save_hybrid=False, conf=None, iou=0.7, max_det=300, half=False, dnn=False, plots=True, source=None, show=False, save_txt=False, save_conf=False, save_crop=False, show_labels=True, show_conf=True, vid_stride=1, stream_buffer=False, line_width=None, visualize=False, augment=False, agnostic_nms=False, classes=None, retina_masks=False, boxes=True, format=torchscript, keras=False, optimize=False, int8=False, dynamic=False, simplify=False, opset=None, workspace=4, nms=False, lr0=0.01, lrf=0.01, momentum=0.937, weight_decay=0.0005, warmup_epochs=3.0, warmup_momentum=0.8, warmup_bias_lr=0.1, box=7.5, cls=0.5, dfl=1.5, pose=12.0, kobj=1.0, label_smoothing=0.0, nbs=64, hsv_h=0.015, hsv_s=0.7, hsv_v=0.4, degrees=0.0, translate=0.1, scale=0.5, shear=0.0, perspective=0.0, flipud=0.0, fliplr=0.5, mosaic=1.0, mixup=0.0, copy_paste=0.0, cfg=None, tracker=botsort.yaml, save_dir=runs/detect/train9\n",
      "Overriding model.yaml nc=80 with nc=3\n",
      "\n",
      "                   from  n    params  module                                       arguments                     \n",
      "  0                  -1  1       464  ultralytics.nn.modules.conv.Conv             [3, 16, 3, 2]                 \n",
      "  1                  -1  1      4672  ultralytics.nn.modules.conv.Conv             [16, 32, 3, 2]                \n",
      "  2                  -1  1      7360  ultralytics.nn.modules.block.C2f             [32, 32, 1, True]             \n",
      "  3                  -1  1     18560  ultralytics.nn.modules.conv.Conv             [32, 64, 3, 2]                \n",
      "  4                  -1  2     49664  ultralytics.nn.modules.block.C2f             [64, 64, 2, True]             \n",
      "  5                  -1  1     73984  ultralytics.nn.modules.conv.Conv             [64, 128, 3, 2]               \n",
      "  6                  -1  2    197632  ultralytics.nn.modules.block.C2f             [128, 128, 2, True]           \n",
      "  7                  -1  1    295424  ultralytics.nn.modules.conv.Conv             [128, 256, 3, 2]              \n",
      "  8                  -1  1    460288  ultralytics.nn.modules.block.C2f             [256, 256, 1, True]           \n",
      "  9                  -1  1    164608  ultralytics.nn.modules.block.SPPF            [256, 256, 5]                 \n",
      " 10                  -1  1         0  torch.nn.modules.upsampling.Upsample         [None, 2, 'nearest']          \n",
      " 11             [-1, 6]  1         0  ultralytics.nn.modules.conv.Concat           [1]                           \n",
      " 12                  -1  1    148224  ultralytics.nn.modules.block.C2f             [384, 128, 1]                 \n",
      " 13                  -1  1         0  torch.nn.modules.upsampling.Upsample         [None, 2, 'nearest']          \n",
      " 14             [-1, 4]  1         0  ultralytics.nn.modules.conv.Concat           [1]                           \n",
      " 15                  -1  1     37248  ultralytics.nn.modules.block.C2f             [192, 64, 1]                  \n",
      " 16                  -1  1     36992  ultralytics.nn.modules.conv.Conv             [64, 64, 3, 2]                \n",
      " 17            [-1, 12]  1         0  ultralytics.nn.modules.conv.Concat           [1]                           \n",
      " 18                  -1  1    123648  ultralytics.nn.modules.block.C2f             [192, 128, 1]                 \n",
      " 19                  -1  1    147712  ultralytics.nn.modules.conv.Conv             [128, 128, 3, 2]              \n",
      " 20             [-1, 9]  1         0  ultralytics.nn.modules.conv.Concat           [1]                           \n",
      " 21                  -1  1    493056  ultralytics.nn.modules.block.C2f             [384, 256, 1]                 \n",
      " 22        [15, 18, 21]  1    751897  ultralytics.nn.modules.head.Detect           [3, [64, 128, 256]]           \n",
      "Model summary: 225 layers, 3011433 parameters, 3011417 gradients\n",
      "\n",
      "Transferred 319/355 items from pretrained weights\n",
      "Freezing layer 'model.22.dfl.conv.weight'\n",
      "\u001b[34m\u001b[1mAMP: \u001b[0mrunning Automatic Mixed Precision (AMP) checks with YOLOv8n...\n",
      "\u001b[34m\u001b[1mAMP: \u001b[0mchecks passed ✅\n",
      "\u001b[34m\u001b[1mtrain: \u001b[0mScanning /workspace/object-detection-balloons/datasets/bloodcells/labels/train... 255 images, 0 backgrounds, 0 corrupt: 100%|██████████| 255/255 [00:00<00:00, 1495.65it/s]\n",
      "\u001b[34m\u001b[1mtrain: \u001b[0mNew cache created: /workspace/object-detection-balloons/datasets/bloodcells/labels/train.cache\n",
      "\u001b[34m\u001b[1mval: \u001b[0mScanning /workspace/object-detection-balloons/datasets/bloodcells/labels/validation... 73 images, 0 backgrounds, 0 corrupt: 100%|██████████| 73/73 [00:00<00:00, 1086.23it/s]\n",
      "\u001b[34m\u001b[1mval: \u001b[0mNew cache created: /workspace/object-detection-balloons/datasets/bloodcells/labels/validation.cache\n",
      "Plotting labels to runs/detect/train9/labels.jpg... \n",
      "\u001b[34m\u001b[1moptimizer:\u001b[0m AdamW(lr=0.001429, momentum=0.9) with parameter groups 57 weight(decay=0.0), 64 weight(decay=0.0005), 63 bias(decay=0.0)\n",
      "Image sizes 640 train, 640 val\n",
      "Using 8 dataloader workers\n",
      "Logging results to \u001b[1mruns/detect/train9\u001b[0m\n",
      "Starting training for 50 epochs...\n",
      "\n",
      "      Epoch    GPU_mem   box_loss   cls_loss   dfl_loss  Instances       Size\n",
      "       1/50      2.72G      1.531      3.268      1.581        290        640: 100%|██████████| 16/16 [00:02<00:00,  7.41it/s]\n",
      "                 Class     Images  Instances      Box(P          R      mAP50  mAP50-95): 100%|██████████| 3/3 [00:00<00:00,  4.12it/s]\n",
      "                   all         73        967     0.0439      0.634      0.184     0.0966\n",
      "\n",
      "      Epoch    GPU_mem   box_loss   cls_loss   dfl_loss  Instances       Size\n",
      "       2/50      2.39G      1.296      1.816      1.375        358        640: 100%|██████████| 16/16 [00:01<00:00, 14.57it/s]\n",
      "                 Class     Images  Instances      Box(P          R      mAP50  mAP50-95): 100%|██████████| 3/3 [00:00<00:00,  6.95it/s]\n",
      "                   all         73        967      0.916      0.213      0.429      0.265\n",
      "\n",
      "      Epoch    GPU_mem   box_loss   cls_loss   dfl_loss  Instances       Size\n",
      "       3/50      2.41G      1.257       1.43      1.382        312        640: 100%|██████████| 16/16 [00:01<00:00, 14.95it/s]\n",
      "                 Class     Images  Instances      Box(P          R      mAP50  mAP50-95): 100%|██████████| 3/3 [00:00<00:00,  7.02it/s]\n",
      "                   all         73        967      0.877      0.555      0.594      0.391\n",
      "\n",
      "      Epoch    GPU_mem   box_loss   cls_loss   dfl_loss  Instances       Size\n",
      "       4/50      2.32G      1.192      1.219      1.334        240        640: 100%|██████████| 16/16 [00:00<00:00, 16.19it/s]\n",
      "                 Class     Images  Instances      Box(P          R      mAP50  mAP50-95): 100%|██████████| 3/3 [00:00<00:00,  7.50it/s]\n",
      "                   all         73        967      0.882      0.596      0.852       0.56\n",
      "\n",
      "      Epoch    GPU_mem   box_loss   cls_loss   dfl_loss  Instances       Size\n",
      "       5/50      2.51G      1.169      1.158      1.283        312        640: 100%|██████████| 16/16 [00:00<00:00, 16.24it/s]\n",
      "                 Class     Images  Instances      Box(P          R      mAP50  mAP50-95): 100%|██████████| 3/3 [00:00<00:00,  7.80it/s]\n",
      "                   all         73        967      0.813      0.652      0.857      0.536\n",
      "\n",
      "      Epoch    GPU_mem   box_loss   cls_loss   dfl_loss  Instances       Size\n",
      "       6/50      2.53G      1.215      1.146      1.317        311        640: 100%|██████████| 16/16 [00:01<00:00, 15.82it/s]\n",
      "                 Class     Images  Instances      Box(P          R      mAP50  mAP50-95): 100%|██████████| 3/3 [00:00<00:00,  7.69it/s]\n",
      "                   all         73        967      0.804      0.747      0.872      0.562\n",
      "\n",
      "      Epoch    GPU_mem   box_loss   cls_loss   dfl_loss  Instances       Size\n",
      "       7/50      2.33G      1.141      1.116      1.282        354        640: 100%|██████████| 16/16 [00:00<00:00, 16.35it/s]\n",
      "                 Class     Images  Instances      Box(P          R      mAP50  mAP50-95): 100%|██████████| 3/3 [00:00<00:00,  7.61it/s]\n",
      "                   all         73        967      0.805      0.878      0.884      0.582\n",
      "\n",
      "      Epoch    GPU_mem   box_loss   cls_loss   dfl_loss  Instances       Size\n",
      "       8/50      2.49G      1.144      1.075      1.258        271        640: 100%|██████████| 16/16 [00:00<00:00, 16.14it/s]\n",
      "                 Class     Images  Instances      Box(P          R      mAP50  mAP50-95): 100%|██████████| 3/3 [00:00<00:00,  7.79it/s]\n",
      "                   all         73        967      0.748      0.866      0.881      0.545\n",
      "\n",
      "      Epoch    GPU_mem   box_loss   cls_loss   dfl_loss  Instances       Size\n",
      "       9/50      2.61G      1.127      1.026      1.246        290        640: 100%|██████████| 16/16 [00:00<00:00, 16.30it/s]\n",
      "                 Class     Images  Instances      Box(P          R      mAP50  mAP50-95): 100%|██████████| 3/3 [00:00<00:00,  7.91it/s]\n",
      "                   all         73        967       0.75      0.736      0.808      0.496\n",
      "\n",
      "      Epoch    GPU_mem   box_loss   cls_loss   dfl_loss  Instances       Size\n",
      "      10/50      2.36G      1.123      1.014      1.242        337        640: 100%|██████████| 16/16 [00:01<00:00, 15.83it/s]\n",
      "                 Class     Images  Instances      Box(P          R      mAP50  mAP50-95): 100%|██████████| 3/3 [00:00<00:00,  7.86it/s]\n",
      "                   all         73        967      0.724      0.774      0.887      0.561\n",
      "\n",
      "      Epoch    GPU_mem   box_loss   cls_loss   dfl_loss  Instances       Size\n",
      "      11/50      2.33G      1.125      1.025      1.247        345        640: 100%|██████████| 16/16 [00:00<00:00, 16.62it/s]\n",
      "                 Class     Images  Instances      Box(P          R      mAP50  mAP50-95): 100%|██████████| 3/3 [00:00<00:00,  7.46it/s]\n",
      "                   all         73        967      0.739      0.838      0.901      0.606\n",
      "\n",
      "      Epoch    GPU_mem   box_loss   cls_loss   dfl_loss  Instances       Size\n",
      "      12/50      2.51G      1.127     0.9809      1.246        376        640: 100%|██████████| 16/16 [00:00<00:00, 16.33it/s]\n",
      "                 Class     Images  Instances      Box(P          R      mAP50  mAP50-95): 100%|██████████| 3/3 [00:00<00:00,  7.46it/s]\n",
      "                   all         73        967      0.765      0.914      0.916      0.627\n",
      "\n",
      "      Epoch    GPU_mem   box_loss   cls_loss   dfl_loss  Instances       Size\n",
      "      13/50      2.28G      1.088     0.9675      1.213        361        640: 100%|██████████| 16/16 [00:00<00:00, 16.09it/s]\n",
      "                 Class     Images  Instances      Box(P          R      mAP50  mAP50-95): 100%|██████████| 3/3 [00:00<00:00,  7.78it/s]\n",
      "                   all         73        967      0.791       0.89      0.898      0.597\n",
      "\n",
      "      Epoch    GPU_mem   box_loss   cls_loss   dfl_loss  Instances       Size\n",
      "      14/50      2.36G      1.089     0.9485      1.223        274        640: 100%|██████████| 16/16 [00:00<00:00, 16.85it/s]\n",
      "                 Class     Images  Instances      Box(P          R      mAP50  mAP50-95): 100%|██████████| 3/3 [00:00<00:00,  7.67it/s]\n",
      "                   all         73        967      0.818      0.905      0.898      0.574\n",
      "\n",
      "      Epoch    GPU_mem   box_loss   cls_loss   dfl_loss  Instances       Size\n",
      "      15/50      2.35G      1.091      0.957      1.208        229        640: 100%|██████████| 16/16 [00:00<00:00, 17.05it/s]\n",
      "                 Class     Images  Instances      Box(P          R      mAP50  mAP50-95): 100%|██████████| 3/3 [00:00<00:00,  7.60it/s]\n",
      "                   all         73        967      0.825      0.914      0.911      0.619\n",
      "\n",
      "      Epoch    GPU_mem   box_loss   cls_loss   dfl_loss  Instances       Size\n",
      "      16/50      2.51G      1.064     0.9103      1.196        391        640: 100%|██████████| 16/16 [00:00<00:00, 16.83it/s]\n",
      "                 Class     Images  Instances      Box(P          R      mAP50  mAP50-95): 100%|██████████| 3/3 [00:00<00:00,  7.80it/s]\n",
      "                   all         73        967       0.81      0.937      0.918      0.618\n",
      "\n",
      "      Epoch    GPU_mem   box_loss   cls_loss   dfl_loss  Instances       Size\n",
      "      17/50      2.28G      1.089     0.9334      1.203        241        640: 100%|██████████| 16/16 [00:00<00:00, 16.49it/s]\n",
      "                 Class     Images  Instances      Box(P          R      mAP50  mAP50-95): 100%|██████████| 3/3 [00:00<00:00,  7.62it/s]\n",
      "                   all         73        967      0.826      0.918      0.916      0.614\n",
      "\n",
      "      Epoch    GPU_mem   box_loss   cls_loss   dfl_loss  Instances       Size\n",
      "      18/50      2.49G      1.091     0.9191      1.226        291        640: 100%|██████████| 16/16 [00:00<00:00, 16.60it/s]\n",
      "                 Class     Images  Instances      Box(P          R      mAP50  mAP50-95): 100%|██████████| 3/3 [00:00<00:00,  7.75it/s]\n",
      "                   all         73        967      0.817      0.935      0.923      0.637\n",
      "\n",
      "      Epoch    GPU_mem   box_loss   cls_loss   dfl_loss  Instances       Size\n",
      "      19/50      2.38G      1.072     0.8941      1.204        242        640: 100%|██████████| 16/16 [00:00<00:00, 16.17it/s]\n",
      "                 Class     Images  Instances      Box(P          R      mAP50  mAP50-95): 100%|██████████| 3/3 [00:00<00:00,  7.56it/s]\n",
      "                   all         73        967      0.856      0.892      0.914       0.62\n",
      "\n",
      "      Epoch    GPU_mem   box_loss   cls_loss   dfl_loss  Instances       Size\n",
      "      20/50      2.49G      1.055     0.8687      1.183        278        640: 100%|██████████| 16/16 [00:00<00:00, 16.56it/s]\n",
      "                 Class     Images  Instances      Box(P          R      mAP50  mAP50-95): 100%|██████████| 3/3 [00:00<00:00,  7.58it/s]\n",
      "                   all         73        967      0.851       0.91      0.922      0.616\n",
      "\n",
      "      Epoch    GPU_mem   box_loss   cls_loss   dfl_loss  Instances       Size\n",
      "      21/50       2.5G      1.084     0.8733      1.185        285        640: 100%|██████████| 16/16 [00:00<00:00, 16.72it/s]\n",
      "                 Class     Images  Instances      Box(P          R      mAP50  mAP50-95): 100%|██████████| 3/3 [00:00<00:00,  7.91it/s]\n",
      "                   all         73        967      0.813      0.895      0.894      0.599\n",
      "\n",
      "      Epoch    GPU_mem   box_loss   cls_loss   dfl_loss  Instances       Size\n",
      "      22/50      2.39G      1.078     0.8723      1.176        392        640: 100%|██████████| 16/16 [00:00<00:00, 16.77it/s]\n",
      "                 Class     Images  Instances      Box(P          R      mAP50  mAP50-95): 100%|██████████| 3/3 [00:00<00:00,  7.83it/s]\n",
      "                   all         73        967      0.849        0.9      0.914       0.62\n",
      "\n",
      "      Epoch    GPU_mem   box_loss   cls_loss   dfl_loss  Instances       Size\n",
      "      23/50      2.38G      1.067     0.8584      1.185        397        640: 100%|██████████| 16/16 [00:00<00:00, 16.97it/s]\n",
      "                 Class     Images  Instances      Box(P          R      mAP50  mAP50-95): 100%|██████████| 3/3 [00:00<00:00,  7.79it/s]\n",
      "                   all         73        967      0.873      0.892      0.922      0.636\n",
      "\n",
      "      Epoch    GPU_mem   box_loss   cls_loss   dfl_loss  Instances       Size\n",
      "      24/50      2.38G      1.049     0.8532      1.179        408        640: 100%|██████████| 16/16 [00:00<00:00, 16.41it/s]\n",
      "                 Class     Images  Instances      Box(P          R      mAP50  mAP50-95): 100%|██████████| 3/3 [00:00<00:00,  7.78it/s]\n",
      "                   all         73        967      0.866      0.918      0.924      0.629\n",
      "\n",
      "      Epoch    GPU_mem   box_loss   cls_loss   dfl_loss  Instances       Size\n",
      "      25/50       2.4G      1.055     0.8551      1.181        363        640: 100%|██████████| 16/16 [00:00<00:00, 16.20it/s]\n",
      "                 Class     Images  Instances      Box(P          R      mAP50  mAP50-95): 100%|██████████| 3/3 [00:00<00:00,  7.85it/s]\n",
      "                   all         73        967      0.844      0.925      0.913      0.634\n",
      "\n",
      "      Epoch    GPU_mem   box_loss   cls_loss   dfl_loss  Instances       Size\n",
      "      26/50      2.63G      1.029     0.8177      1.166        343        640: 100%|██████████| 16/16 [00:00<00:00, 16.30it/s]\n",
      "                 Class     Images  Instances      Box(P          R      mAP50  mAP50-95): 100%|██████████| 3/3 [00:00<00:00,  8.05it/s]\n",
      "                   all         73        967      0.833      0.934       0.92      0.642\n",
      "\n",
      "      Epoch    GPU_mem   box_loss   cls_loss   dfl_loss  Instances       Size\n",
      "      27/50      2.35G      1.028     0.8191      1.171        234        640: 100%|██████████| 16/16 [00:00<00:00, 16.32it/s]\n",
      "                 Class     Images  Instances      Box(P          R      mAP50  mAP50-95): 100%|██████████| 3/3 [00:00<00:00,  7.80it/s]\n",
      "                   all         73        967      0.849      0.908      0.913       0.61\n",
      "\n",
      "      Epoch    GPU_mem   box_loss   cls_loss   dfl_loss  Instances       Size\n",
      "      28/50       2.4G      1.052     0.8176      1.167        374        640: 100%|██████████| 16/16 [00:00<00:00, 16.24it/s]\n",
      "                 Class     Images  Instances      Box(P          R      mAP50  mAP50-95): 100%|██████████| 3/3 [00:00<00:00,  7.92it/s]\n",
      "                   all         73        967      0.857      0.907      0.917      0.622\n",
      "\n",
      "      Epoch    GPU_mem   box_loss   cls_loss   dfl_loss  Instances       Size\n",
      "      29/50      2.38G      1.021     0.8116      1.158        240        640: 100%|██████████| 16/16 [00:00<00:00, 16.18it/s]\n",
      "                 Class     Images  Instances      Box(P          R      mAP50  mAP50-95): 100%|██████████| 3/3 [00:00<00:00,  7.96it/s]\n",
      "                   all         73        967      0.846      0.947      0.918      0.643\n",
      "\n",
      "      Epoch    GPU_mem   box_loss   cls_loss   dfl_loss  Instances       Size\n",
      "      30/50      2.37G      1.027     0.8173      1.163        294        640: 100%|██████████| 16/16 [00:00<00:00, 16.00it/s]\n",
      "                 Class     Images  Instances      Box(P          R      mAP50  mAP50-95): 100%|██████████| 3/3 [00:00<00:00,  7.81it/s]\n",
      "                   all         73        967        0.8      0.929      0.907      0.617\n",
      "\n",
      "      Epoch    GPU_mem   box_loss   cls_loss   dfl_loss  Instances       Size\n",
      "      31/50      2.34G      1.017     0.7919      1.154        393        640: 100%|██████████| 16/16 [00:00<00:00, 16.04it/s]\n",
      "                 Class     Images  Instances      Box(P          R      mAP50  mAP50-95): 100%|██████████| 3/3 [00:00<00:00,  7.69it/s]\n",
      "                   all         73        967      0.882      0.891      0.924      0.632\n",
      "\n",
      "      Epoch    GPU_mem   box_loss   cls_loss   dfl_loss  Instances       Size\n",
      "      32/50      2.42G       1.03     0.8024      1.169        287        640: 100%|██████████| 16/16 [00:01<00:00, 15.50it/s]\n",
      "                 Class     Images  Instances      Box(P          R      mAP50  mAP50-95): 100%|██████████| 3/3 [00:00<00:00,  8.02it/s]\n",
      "                   all         73        967      0.811      0.932      0.928      0.643\n",
      "\n",
      "      Epoch    GPU_mem   box_loss   cls_loss   dfl_loss  Instances       Size\n",
      "      33/50      2.42G      1.012      0.802      1.152        273        640: 100%|██████████| 16/16 [00:00<00:00, 16.15it/s]\n",
      "                 Class     Images  Instances      Box(P          R      mAP50  mAP50-95): 100%|██████████| 3/3 [00:00<00:00,  7.78it/s]\n",
      "                   all         73        967      0.828      0.912      0.914      0.627\n",
      "\n",
      "      Epoch    GPU_mem   box_loss   cls_loss   dfl_loss  Instances       Size\n",
      "      34/50      2.48G      1.011     0.7883      1.144        343        640: 100%|██████████| 16/16 [00:00<00:00, 16.20it/s]\n",
      "                 Class     Images  Instances      Box(P          R      mAP50  mAP50-95): 100%|██████████| 3/3 [00:00<00:00,  7.96it/s]\n",
      "                   all         73        967      0.842      0.912      0.922      0.635\n",
      "\n",
      "      Epoch    GPU_mem   box_loss   cls_loss   dfl_loss  Instances       Size\n",
      "      35/50      2.39G     0.9942     0.7706      1.135        279        640: 100%|██████████| 16/16 [00:00<00:00, 16.21it/s]\n",
      "                 Class     Images  Instances      Box(P          R      mAP50  mAP50-95): 100%|██████████| 3/3 [00:00<00:00,  7.98it/s]\n",
      "                   all         73        967      0.821      0.922       0.92      0.629\n",
      "\n",
      "      Epoch    GPU_mem   box_loss   cls_loss   dfl_loss  Instances       Size\n",
      "      36/50      2.54G     0.9786     0.7481      1.131        307        640: 100%|██████████| 16/16 [00:00<00:00, 16.48it/s]\n",
      "                 Class     Images  Instances      Box(P          R      mAP50  mAP50-95): 100%|██████████| 3/3 [00:00<00:00,  7.95it/s]\n",
      "                   all         73        967      0.853      0.902       0.92      0.639\n",
      "\n",
      "      Epoch    GPU_mem   box_loss   cls_loss   dfl_loss  Instances       Size\n",
      "      37/50      2.36G     0.9695     0.7516      1.122        353        640: 100%|██████████| 16/16 [00:00<00:00, 16.48it/s]\n",
      "                 Class     Images  Instances      Box(P          R      mAP50  mAP50-95): 100%|██████████| 3/3 [00:00<00:00,  7.98it/s]\n",
      "                   all         73        967      0.846      0.913      0.917      0.638\n",
      "\n",
      "      Epoch    GPU_mem   box_loss   cls_loss   dfl_loss  Instances       Size\n",
      "      38/50      2.36G     0.9739     0.7352      1.126        364        640: 100%|██████████| 16/16 [00:00<00:00, 16.44it/s]\n",
      "                 Class     Images  Instances      Box(P          R      mAP50  mAP50-95): 100%|██████████| 3/3 [00:00<00:00,  7.94it/s]\n",
      "                   all         73        967      0.844      0.929      0.922      0.632\n",
      "\n",
      "      Epoch    GPU_mem   box_loss   cls_loss   dfl_loss  Instances       Size\n",
      "      39/50      2.35G     0.9835     0.7416      1.124        362        640: 100%|██████████| 16/16 [00:00<00:00, 16.16it/s]\n",
      "                 Class     Images  Instances      Box(P          R      mAP50  mAP50-95): 100%|██████████| 3/3 [00:00<00:00,  7.94it/s]\n",
      "                   all         73        967      0.845      0.935      0.921      0.638\n",
      "\n",
      "      Epoch    GPU_mem   box_loss   cls_loss   dfl_loss  Instances       Size\n",
      "      40/50      2.36G     0.9685     0.7358      1.116        343        640: 100%|██████████| 16/16 [00:00<00:00, 16.37it/s]\n",
      "                 Class     Images  Instances      Box(P          R      mAP50  mAP50-95): 100%|██████████| 3/3 [00:00<00:00,  7.87it/s]\n",
      "                   all         73        967       0.84      0.915      0.929      0.645\n",
      "Closing dataloader mosaic\n",
      "\n",
      "      Epoch    GPU_mem   box_loss   cls_loss   dfl_loss  Instances       Size\n",
      "      41/50      2.17G     0.9727     0.7725      1.124        175        640: 100%|██████████| 16/16 [00:01<00:00, 13.00it/s]\n",
      "                 Class     Images  Instances      Box(P          R      mAP50  mAP50-95): 100%|██████████| 3/3 [00:00<00:00,  7.87it/s]\n",
      "                   all         73        967      0.852      0.914      0.928      0.648\n",
      "\n",
      "      Epoch    GPU_mem   box_loss   cls_loss   dfl_loss  Instances       Size\n",
      "      42/50      2.17G     0.9497     0.7331      1.103        206        640: 100%|██████████| 16/16 [00:00<00:00, 16.94it/s]\n",
      "                 Class     Images  Instances      Box(P          R      mAP50  mAP50-95): 100%|██████████| 3/3 [00:00<00:00,  7.96it/s]\n",
      "                   all         73        967      0.877      0.895      0.927       0.64\n",
      "\n",
      "      Epoch    GPU_mem   box_loss   cls_loss   dfl_loss  Instances       Size\n",
      "      43/50      2.16G     0.9433     0.7099      1.095        198        640: 100%|██████████| 16/16 [00:00<00:00, 16.78it/s]\n",
      "                 Class     Images  Instances      Box(P          R      mAP50  mAP50-95): 100%|██████████| 3/3 [00:00<00:00,  7.82it/s]\n",
      "                   all         73        967      0.868      0.911      0.931      0.652\n",
      "\n",
      "      Epoch    GPU_mem   box_loss   cls_loss   dfl_loss  Instances       Size\n",
      "      44/50      2.17G     0.9482     0.6965      1.094        216        640: 100%|██████████| 16/16 [00:00<00:00, 16.64it/s]\n",
      "                 Class     Images  Instances      Box(P          R      mAP50  mAP50-95): 100%|██████████| 3/3 [00:00<00:00,  7.87it/s]\n",
      "                   all         73        967      0.865      0.916      0.932      0.652\n",
      "\n",
      "      Epoch    GPU_mem   box_loss   cls_loss   dfl_loss  Instances       Size\n",
      "      45/50       2.2G     0.9429     0.6983        1.1        194        640: 100%|██████████| 16/16 [00:00<00:00, 16.51it/s]\n",
      "                 Class     Images  Instances      Box(P          R      mAP50  mAP50-95): 100%|██████████| 3/3 [00:00<00:00,  7.78it/s]\n",
      "                   all         73        967      0.856      0.916      0.934      0.653\n",
      "\n",
      "      Epoch    GPU_mem   box_loss   cls_loss   dfl_loss  Instances       Size\n",
      "      46/50      2.17G     0.9317     0.6628      1.082        206        640: 100%|██████████| 16/16 [00:00<00:00, 16.40it/s]\n",
      "                 Class     Images  Instances      Box(P          R      mAP50  mAP50-95): 100%|██████████| 3/3 [00:00<00:00,  7.77it/s]\n",
      "                   all         73        967      0.881      0.897      0.935      0.646\n",
      "\n",
      "      Epoch    GPU_mem   box_loss   cls_loss   dfl_loss  Instances       Size\n",
      "      47/50      2.17G     0.9233     0.6579       1.09        176        640: 100%|██████████| 16/16 [00:00<00:00, 16.80it/s]\n",
      "                 Class     Images  Instances      Box(P          R      mAP50  mAP50-95): 100%|██████████| 3/3 [00:00<00:00,  7.92it/s]\n",
      "                   all         73        967      0.869      0.915      0.931      0.653\n",
      "\n",
      "      Epoch    GPU_mem   box_loss   cls_loss   dfl_loss  Instances       Size\n",
      "      48/50      2.16G     0.9197     0.6668       1.08        191        640: 100%|██████████| 16/16 [00:00<00:00, 16.79it/s]\n",
      "                 Class     Images  Instances      Box(P          R      mAP50  mAP50-95): 100%|██████████| 3/3 [00:00<00:00,  7.99it/s]\n",
      "                   all         73        967      0.863      0.916      0.927      0.651\n",
      "\n",
      "      Epoch    GPU_mem   box_loss   cls_loss   dfl_loss  Instances       Size\n",
      "      49/50      2.16G     0.9149     0.6484      1.082        169        640: 100%|██████████| 16/16 [00:00<00:00, 16.72it/s]\n",
      "                 Class     Images  Instances      Box(P          R      mAP50  mAP50-95): 100%|██████████| 3/3 [00:00<00:00,  7.92it/s]\n",
      "                   all         73        967      0.883      0.895      0.929      0.652\n",
      "\n",
      "      Epoch    GPU_mem   box_loss   cls_loss   dfl_loss  Instances       Size\n",
      "      50/50      2.17G     0.9159     0.6557      1.081        210        640: 100%|██████████| 16/16 [00:00<00:00, 16.23it/s]\n",
      "                 Class     Images  Instances      Box(P          R      mAP50  mAP50-95): 100%|██████████| 3/3 [00:01<00:00,  2.36it/s]\n",
      "                   all         73        967      0.888      0.894      0.931      0.652\n",
      "\n",
      "50 epochs completed in 0.030 hours.\n",
      "Optimizer stripped from runs/detect/train9/weights/last.pt, 6.2MB\n",
      "Optimizer stripped from runs/detect/train9/weights/best.pt, 6.2MB\n",
      "\n",
      "Validating runs/detect/train9/weights/best.pt...\n",
      "Ultralytics YOLOv8.0.166 🚀 Python-3.10.6 torch-2.0.1+cu118 CUDA:0 (NVIDIA GeForce RTX 3090, 24260MiB)\n",
      "Model summary (fused): 168 layers, 3006233 parameters, 0 gradients\n",
      "                 Class     Images  Instances      Box(P          R      mAP50  mAP50-95): 100%|██████████| 3/3 [00:01<00:00,  2.66it/s]\n",
      "                   all         73        967      0.856      0.916      0.934      0.653\n",
      "             platelets         73         76      0.842      0.908      0.921      0.512\n",
      "                   rbc         73        819      0.779       0.84      0.899      0.643\n",
      "                   wbc         73         72      0.946          1      0.983      0.804\n",
      "Speed: 1.2ms preprocess, 0.6ms inference, 0.0ms loss, 0.6ms postprocess per image\n",
      "Results saved to \u001b[1mruns/detect/train9\u001b[0m\n"
     ]
    }
   ],
   "source": [
    "yolo_finetuned = YOLO('yolov8n.pt')  # load a pretrained model (recommended for training)\n",
    "dataset_yaml_path = \"/workspace/object-detection-balloons/bloodcells.yaml\"\n",
    "\n",
    "# Use the model\n",
    "results = yolo_finetuned.train(data=dataset_yaml_path, epochs=50)  # train the model"
   ]
  },
  {
   "cell_type": "code",
   "execution_count": 98,
   "metadata": {},
   "outputs": [
    {
     "name": "stderr",
     "output_type": "stream",
     "text": [
      "\n",
      "0: 640x640 22 rbcs, 1 wbc, 1: 640x640 19 rbcs, 1 wbc, 2: 640x640 2 plateletss, 22 rbcs, 1 wbc, 3: 640x640 1 platelets, 21 rbcs, 1 wbc, 4: 640x640 2 plateletss, 19 rbcs, 1 wbc, 5: 640x640 1 platelets, 24 rbcs, 1 wbc, 6: 640x640 18 rbcs, 1 wbc, 7: 640x640 2 plateletss, 14 rbcs, 1 wbc, 8: 640x640 16 rbcs, 1 wbc, 9: 640x640 3 plateletss, 16 rbcs, 1 wbc, 10: 640x640 1 platelets, 16 rbcs, 2 wbcs, 11: 640x640 1 platelets, 13 rbcs, 1 wbc, 12: 640x640 1 platelets, 17 rbcs, 1 wbc, 13: 640x640 1 platelets, 16 rbcs, 1 wbc, 14: 640x640 4 plateletss, 18 rbcs, 1 wbc, 15: 640x640 2 plateletss, 14 rbcs, 1 wbc, 16: 640x640 1 platelets, 13 rbcs, 1 wbc, 17: 640x640 1 platelets, 21 rbcs, 1 wbc, 18: 640x640 1 platelets, 22 rbcs, 1 wbc, 19: 640x640 1 platelets, 20 rbcs, 1 wbc, 20: 640x640 14 rbcs, 1 wbc, 21: 640x640 2 plateletss, 17 rbcs, 1 wbc, 22: 640x640 17 rbcs, 1 wbc, 23: 640x640 19 rbcs, 1 wbc, 24: 640x640 1 platelets, 17 rbcs, 1 wbc, 25: 640x640 23 rbcs, 1 wbc, 26: 640x640 3 plateletss, 17 rbcs, 1 wbc, 27: 640x640 14 rbcs, 1 wbc, 28: 640x640 1 platelets, 20 rbcs, 1 wbc, 29: 640x640 1 platelets, 11 rbcs, 1 wbc, 30: 640x640 2 plateletss, 16 rbcs, 1 wbc, 31: 640x640 2 plateletss, 18 rbcs, 1 wbc, 32: 640x640 20 rbcs, 1 wbc, 33: 640x640 18 rbcs, 1 wbc, 34: 640x640 1 platelets, 20 rbcs, 1 wbc, 35: 640x640 2 plateletss, 15 rbcs, 1 wbc, 36: 640x640 1 platelets, 16 rbcs, 1 wbc, 37: 640x640 1 platelets, 17 rbcs, 1 wbc, 38: 640x640 2 plateletss, 23 rbcs, 1 wbc, 39: 640x640 2 plateletss, 21 rbcs, 1 wbc, 40: 640x640 1 platelets, 18 rbcs, 1 wbc, 41: 640x640 1 platelets, 20 rbcs, 1 wbc, 42: 640x640 2 plateletss, 17 rbcs, 1 wbc, 43: 640x640 5 plateletss, 19 rbcs, 1 wbc, 44: 640x640 2 plateletss, 16 rbcs, 1 wbc, 45: 640x640 2 plateletss, 15 rbcs, 1 wbc, 46: 640x640 17 rbcs, 1 wbc, 47: 640x640 2 plateletss, 16 rbcs, 2 wbcs, 48: 640x640 1 platelets, 12 rbcs, 1 wbc, 49: 640x640 2 plateletss, 20 rbcs, 1 wbc, 50: 640x640 3 plateletss, 15 rbcs, 1 wbc, 51: 640x640 2 plateletss, 17 rbcs, 2 wbcs, 52: 640x640 3 plateletss, 21 rbcs, 1 wbc, 53: 640x640 1 platelets, 19 rbcs, 1 wbc, 54: 640x640 3 plateletss, 18 rbcs, 1 wbc, 55: 640x640 1 platelets, 13 rbcs, 1 wbc, 56: 640x640 1 platelets, 10 rbcs, 1 wbc, 57: 640x640 1 platelets, 15 rbcs, 1 wbc, 58: 640x640 2 plateletss, 15 rbcs, 1 wbc, 59: 640x640 1 platelets, 24 rbcs, 1 wbc, 60: 640x640 3 plateletss, 20 rbcs, 1 wbc, 61: 640x640 1 platelets, 20 rbcs, 1 wbc, 62: 640x640 18 rbcs, 1 wbc, 63: 640x640 3 plateletss, 22 rbcs, 1 wbc, 64: 640x640 1 platelets, 21 rbcs, 1 wbc, 65: 640x640 20 rbcs, 1 wbc, 66: 640x640 2 plateletss, 19 rbcs, 1 wbc, 67: 640x640 13 rbcs, 1 wbc, 68: 640x640 1 platelets, 15 rbcs, 1 wbc, 69: 640x640 1 platelets, 21 rbcs, 1 wbc, 70: 640x640 2 plateletss, 21 rbcs, 1 wbc, 71: 640x640 1 platelets, 20 rbcs, 1 wbc, 72: 640x640 4 plateletss, 21 rbcs, 1 wbc, 99.4ms\n",
      "Speed: 2.0ms preprocess, 1.4ms inference, 0.8ms postprocess per image at shape (1, 3, 640, 640)\n",
      "Results saved to \u001b[1mpreds/finetuned\u001b[0m\n"
     ]
    }
   ],
   "source": [
    "!rm -rf /workspace/object-detection-balloons/preds/finetuned\n",
    "preds = yolo_finetuned.predict(val_img_paths, save=True, project=\"preds\", name=\"finetuned\") "
   ]
  },
  {
   "cell_type": "code",
   "execution_count": null,
   "metadata": {},
   "outputs": [],
   "source": []
  }
 ],
 "metadata": {
  "kernelspec": {
   "display_name": "Python 3",
   "language": "python",
   "name": "python3"
  },
  "language_info": {
   "codemirror_mode": {
    "name": "ipython",
    "version": 3
   },
   "file_extension": ".py",
   "mimetype": "text/x-python",
   "name": "python",
   "nbconvert_exporter": "python",
   "pygments_lexer": "ipython3",
   "version": "3.10.6"
  },
  "orig_nbformat": 4
 },
 "nbformat": 4,
 "nbformat_minor": 2
}
