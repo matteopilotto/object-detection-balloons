{
 "cells": [
  {
   "cell_type": "code",
   "execution_count": 11,
   "metadata": {},
   "outputs": [
    {
     "name": "stdout",
     "output_type": "stream",
     "text": [
      "\u001b[33mWARNING: Running pip as the 'root' user can result in broken permissions and conflicting behaviour with the system package manager. It is recommended to use a virtual environment instead: https://pip.pypa.io/warnings/venv\u001b[0m\u001b[33m\n",
      "\u001b[0m\n",
      "\u001b[1m[\u001b[0m\u001b[34;49mnotice\u001b[0m\u001b[1;39;49m]\u001b[0m\u001b[39;49m A new release of pip is available: \u001b[0m\u001b[31;49m23.1.2\u001b[0m\u001b[39;49m -> \u001b[0m\u001b[32;49m23.2.1\u001b[0m\n",
      "\u001b[1m[\u001b[0m\u001b[34;49mnotice\u001b[0m\u001b[1;39;49m]\u001b[0m\u001b[39;49m To update, run: \u001b[0m\u001b[32;49mpython -m pip install --upgrade pip\u001b[0m\n"
     ]
    }
   ],
   "source": [
    "!pip install -q -r requirements.txt"
   ]
  },
  {
   "cell_type": "code",
   "execution_count": 12,
   "metadata": {},
   "outputs": [],
   "source": [
    "import os\n",
    "from pathlib import Path\n",
    "from getpass import getpass\n",
    "from datasets import load_dataset\n",
    "\n",
    "import pandas as pd\n",
    "import shutil\n",
    "from tqdm.auto import tqdm\n",
    "import ast\n",
    "import pybboxes as pbx\n",
    "\n",
    "import ultralytics\n",
    "from ultralytics import YOLO\n",
    "import wandb\n",
    "\n",
    "import random"
   ]
  },
  {
   "cell_type": "code",
   "execution_count": 3,
   "metadata": {},
   "outputs": [],
   "source": [
    "dataset = load_dataset(\"keremberke/blood-cell-object-detection\", \"full\")"
   ]
  },
  {
   "cell_type": "code",
   "execution_count": 7,
   "metadata": {},
   "outputs": [],
   "source": [
    "dataset_dir = \"/workspace/object-detection-balloons/datasets/bloodcells\"\n",
    "os.makedirs(dataset_dir, exist_ok=True)"
   ]
  },
  {
   "cell_type": "code",
   "execution_count": 8,
   "metadata": {},
   "outputs": [],
   "source": [
    "# rm -rf /workspace/object-detection-balloons/datasets/bloodcells"
   ]
  },
  {
   "cell_type": "code",
   "execution_count": 9,
   "metadata": {},
   "outputs": [],
   "source": [
    "for split in dataset:\n",
    "    for row in dataset[split]:\n",
    "        img_path = Path(os.path.join(dataset_dir, \"images\", split, str(row[\"image_id\"])) + \".jpg\")\n",
    "        os.makedirs(img_path.parent, exist_ok=True)\n",
    "        row[\"image\"].save(img_path)\n",
    "        for bbox, category in zip(row[\"objects\"][\"bbox\"], row[\"objects\"][\"category\"]):\n",
    "            bbox_yolo = pbx.convert_bbox(bbox, from_type=\"coco\", to_type=\"yolo\", image_size=(row[\"width\"], row[\"height\"]))\n",
    "            bbox_yolo = \" \".join([str(bb) for bb in bbox_yolo])\n",
    "            file_path = Path(os.path.join(dataset_dir, \"labels\", split, str(row[\"image_id\"])) + \".txt\")\n",
    "            os.makedirs(file_path.parent, exist_ok=True)\n",
    "            with open(file_path, \"a\") as f:\n",
    "                f.write(f\"{category} {bbox_yolo}\\n\")"
   ]
  },
  {
   "cell_type": "code",
   "execution_count": 10,
   "metadata": {},
   "outputs": [
    {
     "name": "stderr",
     "output_type": "stream",
     "text": [
      "Ultralytics YOLOv8.0.168 🚀 Python-3.10.6 torch-2.0.1+cu118 CUDA:0 (NVIDIA GeForce RTX 3090, 24260MiB)\n",
      "Setup complete ✅ (20 CPUs, 62.6 GB RAM, 1.2/20.0 GB disk)\n"
     ]
    }
   ],
   "source": [
    "ultralytics.checks()"
   ]
  },
  {
   "cell_type": "code",
   "execution_count": 6,
   "metadata": {},
   "outputs": [
    {
     "name": "stdout",
     "output_type": "stream",
     "text": [
      "['/workspace/object-detection-balloons/datasets/bloodcells/images/validation/51.jpg', '/workspace/object-detection-balloons/datasets/bloodcells/images/validation/14.jpg', '/workspace/object-detection-balloons/datasets/bloodcells/images/validation/48.jpg']\n",
      "['/workspace/object-detection-balloons/datasets/bloodcells/images/test/10.jpg', '/workspace/object-detection-balloons/datasets/bloodcells/images/test/32.jpg', '/workspace/object-detection-balloons/datasets/bloodcells/images/test/34.jpg']\n"
     ]
    }
   ],
   "source": [
    "val_img_base_path = \"/workspace/object-detection-balloons/datasets/bloodcells/images/validation\"\n",
    "val_img_paths = [os.path.join(val_img_base_path, fname) for fname in os.listdir(val_img_base_path)]\n",
    "print(val_img_paths[:3])\n",
    "\n",
    "test_img_base_path = \"/workspace/object-detection-balloons/datasets/bloodcells/images/test\"\n",
    "test_img_paths = [os.path.join(test_img_base_path, fname) for fname in os.listdir(test_img_base_path)]\n",
    "print(test_img_paths[:3])"
   ]
  },
  {
   "cell_type": "markdown",
   "metadata": {},
   "source": [
    "## Baseline"
   ]
  },
  {
   "cell_type": "code",
   "execution_count": 4,
   "metadata": {},
   "outputs": [],
   "source": [
    "checkpoint = 'yolov8m.pt'"
   ]
  },
  {
   "cell_type": "code",
   "execution_count": 7,
   "metadata": {},
   "outputs": [
    {
     "name": "stderr",
     "output_type": "stream",
     "text": [
      "\n",
      "0: 640x640 (no detections), 1: 640x640 1 donut, 2: 640x640 1 donut, 3: 640x640 1 cake, 4: 640x640 (no detections), 5: 640x640 (no detections), 6: 640x640 (no detections), 7: 640x640 1 donut, 1 teddy bear, 8: 640x640 (no detections), 9: 640x640 1 cake, 10: 640x640 1 person, 11: 640x640 (no detections), 12: 640x640 1 person, 13: 640x640 1 person, 14: 640x640 (no detections), 15: 640x640 1 teddy bear, 16: 640x640 (no detections), 17: 640x640 (no detections), 18: 640x640 1 cake, 19: 640x640 (no detections), 20: 640x640 1 donut, 21: 640x640 (no detections), 22: 640x640 (no detections), 23: 640x640 (no detections), 24: 640x640 (no detections), 25: 640x640 (no detections), 26: 640x640 1 orange, 27: 640x640 (no detections), 28: 640x640 (no detections), 29: 640x640 (no detections), 30: 640x640 1 donut, 31: 640x640 1 cake, 32: 640x640 (no detections), 33: 640x640 (no detections), 34: 640x640 (no detections), 35: 640x640 1 donut, 36: 640x640 (no detections), 37: 640x640 (no detections), 38: 640x640 1 cake, 39: 640x640 (no detections), 40: 640x640 (no detections), 41: 640x640 (no detections), 42: 640x640 (no detections), 43: 640x640 1 teddy bear, 44: 640x640 (no detections), 45: 640x640 (no detections), 46: 640x640 (no detections), 47: 640x640 (no detections), 48: 640x640 (no detections), 49: 640x640 (no detections), 50: 640x640 1 vase, 51: 640x640 (no detections), 52: 640x640 (no detections), 53: 640x640 (no detections), 54: 640x640 (no detections), 55: 640x640 (no detections), 56: 640x640 (no detections), 57: 640x640 (no detections), 58: 640x640 (no detections), 59: 640x640 (no detections), 60: 640x640 (no detections), 61: 640x640 (no detections), 62: 640x640 (no detections), 63: 640x640 (no detections), 64: 640x640 (no detections), 65: 640x640 (no detections), 66: 640x640 (no detections), 67: 640x640 (no detections), 68: 640x640 (no detections), 69: 640x640 (no detections), 70: 640x640 (no detections), 71: 640x640 1 cake, 72: 640x640 2 apples, 1 cake, 335.4ms\n",
      "Speed: 1.3ms preprocess, 4.6ms inference, 0.1ms postprocess per image at shape (1, 3, 640, 640)\n",
      "Results saved to \u001b[1mpreds/baseline3\u001b[0m\n"
     ]
    }
   ],
   "source": [
    "yolo_base = YOLO(checkpoint)\n",
    "preds = yolo_base.predict(val_img_paths, save=True, project=\"preds\", name=\"baseline\") "
   ]
  },
  {
   "cell_type": "markdown",
   "metadata": {},
   "source": [
    "## Finetuning"
   ]
  },
  {
   "cell_type": "code",
   "execution_count": 14,
   "metadata": {},
   "outputs": [
    {
     "name": "stderr",
     "output_type": "stream",
     "text": [
      "Failed to detect the name of this notebook, you can set it manually with the WANDB_NOTEBOOK_NAME environment variable to enable code saving.\n",
      "\u001b[34m\u001b[1mwandb\u001b[0m: Logging into wandb.ai. (Learn how to deploy a W&B server locally: https://wandb.me/wandb-server)\n",
      "\u001b[34m\u001b[1mwandb\u001b[0m: You can find your API key in your browser here: https://wandb.ai/authorize\n",
      "\u001b[34m\u001b[1mwandb\u001b[0m: Paste an API key from your profile and hit enter, or press ctrl+c to quit:\u001b[34m\u001b[1mwandb\u001b[0m: Appending key for api.wandb.ai to your netrc file: /root/.netrc\n"
     ]
    },
    {
     "data": {
      "text/html": [
       "Tracking run with wandb version 0.15.9"
      ],
      "text/plain": [
       "<IPython.core.display.HTML object>"
      ]
     },
     "metadata": {},
     "output_type": "display_data"
    },
    {
     "data": {
      "text/html": [
       "Run data is saved locally in <code>/workspace/object-detection-balloons/wandb/run-20230901_134026-sbyfnz99</code>"
      ],
      "text/plain": [
       "<IPython.core.display.HTML object>"
      ]
     },
     "metadata": {},
     "output_type": "display_data"
    },
    {
     "data": {
      "text/html": [
       "Syncing run <strong><a href='https://wandb.ai/matt24/object-detection-balloons/runs/sbyfnz99' target=\"_blank\">morning-jazz-1</a></strong> to <a href='https://wandb.ai/matt24/object-detection-balloons' target=\"_blank\">Weights & Biases</a> (<a href='https://wandb.me/run' target=\"_blank\">docs</a>)<br/>"
      ],
      "text/plain": [
       "<IPython.core.display.HTML object>"
      ]
     },
     "metadata": {},
     "output_type": "display_data"
    },
    {
     "data": {
      "text/html": [
       " View project at <a href='https://wandb.ai/matt24/object-detection-balloons' target=\"_blank\">https://wandb.ai/matt24/object-detection-balloons</a>"
      ],
      "text/plain": [
       "<IPython.core.display.HTML object>"
      ]
     },
     "metadata": {},
     "output_type": "display_data"
    },
    {
     "data": {
      "text/html": [
       " View run at <a href='https://wandb.ai/matt24/object-detection-balloons/runs/sbyfnz99' target=\"_blank\">https://wandb.ai/matt24/object-detection-balloons/runs/sbyfnz99</a>"
      ],
      "text/plain": [
       "<IPython.core.display.HTML object>"
      ]
     },
     "metadata": {},
     "output_type": "display_data"
    },
    {
     "data": {
      "text/html": [
       "<button onClick=\"this.nextSibling.style.display='block';this.style.display='none';\">Display W&B run</button><iframe src='https://wandb.ai/matt24/object-detection-balloons/runs/sbyfnz99?jupyter=true' style='border:none;width:100%;height:420px;display:none;'></iframe>"
      ],
      "text/plain": [
       "<wandb.sdk.wandb_run.Run at 0x7f8df7ef6710>"
      ]
     },
     "execution_count": 14,
     "metadata": {},
     "output_type": "execute_result"
    }
   ],
   "source": [
    "wandb.init()"
   ]
  },
  {
   "cell_type": "code",
   "execution_count": 19,
   "metadata": {},
   "outputs": [
    {
     "data": {
      "text/html": [
       "Waiting for W&B process to finish... <strong style=\"color:green\">(success).</strong>"
      ],
      "text/plain": [
       "<IPython.core.display.HTML object>"
      ]
     },
     "metadata": {},
     "output_type": "display_data"
    },
    {
     "name": "stderr",
     "output_type": "stream",
     "text": [
      "wandb: WARNING Source type is set to 'repo' but some required information is missing from the environment. A job will not be created from this run. See https://docs.wandb.ai/guides/launch/create-job\n"
     ]
    },
    {
     "data": {
      "application/vnd.jupyter.widget-view+json": {
       "model_id": "aedcd7a304274c96987faa4ef87a44b8",
       "version_major": 2,
       "version_minor": 0
      },
      "text/plain": [
       "VBox(children=(Label(value='50.696 MB of 50.696 MB uploaded (0.000 MB deduped)\\r'), FloatProgress(value=1.0, m…"
      ]
     },
     "metadata": {},
     "output_type": "display_data"
    },
    {
     "data": {
      "text/html": [
       "<style>\n",
       "    table.wandb td:nth-child(1) { padding: 0 10px; text-align: left ; width: auto;} td:nth-child(2) {text-align: left ; width: 100%}\n",
       "    .wandb-row { display: flex; flex-direction: row; flex-wrap: wrap; justify-content: flex-start; width: 100% }\n",
       "    .wandb-col { display: flex; flex-direction: column; flex-basis: 100%; flex: 1; padding: 10px; }\n",
       "    </style>\n",
       "<div class=\"wandb-row\"><div class=\"wandb-col\"><h3>Run history:</h3><br/><table class=\"wandb\"><tr><td>lr/pg0</td><td>▁▄▆▇██▇▆▄▂</td></tr><tr><td>lr/pg1</td><td>▁▄▆▇██▇▆▄▂</td></tr><tr><td>lr/pg2</td><td>▁▄▆▇██▇▆▄▂</td></tr><tr><td>metrics/mAP50(B)</td><td>▁▇▁▅██████</td></tr><tr><td>metrics/mAP50-95(B)</td><td>▁▆▁▅▇▇▇███</td></tr><tr><td>metrics/precision(B)</td><td>▆▅▁▄▆▇▇▆██</td></tr><tr><td>metrics/recall(B)</td><td>▁▇▅▆█▇▇▇█▇</td></tr><tr><td>model/GFLOPs</td><td>▁</td></tr><tr><td>model/parameters</td><td>▁</td></tr><tr><td>model/speed(ms)</td><td>▁</td></tr><tr><td>train/box_loss</td><td>█▄▂▂▂▂▁▁▁▁</td></tr><tr><td>train/cls_loss</td><td>█▄▂▂▁▁▁▁▁▁</td></tr><tr><td>train/dfl_loss</td><td>█▄▂▂▁▁▁▁▁▁</td></tr><tr><td>val/box_loss</td><td>█▃▆▄▆▃▃▁▁▁</td></tr><tr><td>val/cls_loss</td><td>▆▃ █▃▂▂▂▁▁</td></tr><tr><td>val/dfl_loss</td><td>█▂▃▃▃▃▂▁▁▁</td></tr></table><br/></div><div class=\"wandb-col\"><h3>Run summary:</h3><br/><table class=\"wandb\"><tr><td>lr/pg0</td><td>0.00012</td></tr><tr><td>lr/pg1</td><td>0.00012</td></tr><tr><td>lr/pg2</td><td>0.00012</td></tr><tr><td>metrics/mAP50(B)</td><td>0.92683</td></tr><tr><td>metrics/mAP50-95(B)</td><td>0.63557</td></tr><tr><td>metrics/precision(B)</td><td>0.87832</td></tr><tr><td>metrics/recall(B)</td><td>0.85323</td></tr><tr><td>model/GFLOPs</td><td>0.0</td></tr><tr><td>model/parameters</td><td>25858057</td></tr><tr><td>model/speed(ms)</td><td>6.83</td></tr><tr><td>train/box_loss</td><td>1.03812</td></tr><tr><td>train/cls_loss</td><td>0.6913</td></tr><tr><td>train/dfl_loss</td><td>1.24152</td></tr><tr><td>val/box_loss</td><td>1.03737</td></tr><tr><td>val/cls_loss</td><td>0.67914</td></tr><tr><td>val/dfl_loss</td><td>1.27918</td></tr></table><br/></div></div>"
      ],
      "text/plain": [
       "<IPython.core.display.HTML object>"
      ]
     },
     "metadata": {},
     "output_type": "display_data"
    },
    {
     "data": {
      "text/html": [
       " View run <strong style=\"color:#cdcd00\">morning-jazz-1</strong> at: <a href='https://wandb.ai/matt24/object-detection-balloons/runs/sbyfnz99' target=\"_blank\">https://wandb.ai/matt24/object-detection-balloons/runs/sbyfnz99</a><br/>Synced 5 W&B file(s), 3 media file(s), 1 artifact file(s) and 0 other file(s)"
      ],
      "text/plain": [
       "<IPython.core.display.HTML object>"
      ]
     },
     "metadata": {},
     "output_type": "display_data"
    },
    {
     "data": {
      "text/html": [
       "Find logs at: <code>./wandb/run-20230901_134026-sbyfnz99/logs</code>"
      ],
      "text/plain": [
       "<IPython.core.display.HTML object>"
      ]
     },
     "metadata": {},
     "output_type": "display_data"
    }
   ],
   "source": [
    "wandb.finish()"
   ]
  },
  {
   "cell_type": "code",
   "execution_count": 16,
   "metadata": {},
   "outputs": [
    {
     "name": "stderr",
     "output_type": "stream",
     "text": [
      "WARNING ⚠️ 'ultralytics.yolo.v8' is deprecated since '8.0.136' and will be removed in '8.1.0'. Please use 'ultralytics.models.yolo' instead.\n",
      "WARNING ⚠️ 'ultralytics.yolo.utils' is deprecated since '8.0.136' and will be removed in '8.1.0'. Please use 'ultralytics.utils' instead.\n",
      "Note this warning may be related to loading older models. You can update your model to current structure with:\n",
      "    import torch\n",
      "    ckpt = torch.load(\"model.pt\")  # applies to both official and custom models\n",
      "    torch.save(ckpt, \"updated-model.pt\")\n",
      "\n"
     ]
    }
   ],
   "source": [
    "from ultralytics.yolo.utils.torch_utils import get_flops, get_num_params\n",
    "\n",
    "try:\n",
    "    import wandb\n",
    "\n",
    "    assert hasattr(wandb, '__version__')\n",
    "except (ImportError, AssertionError):\n",
    "    wandb = None\n",
    "\n",
    "\n",
    "def on_pretrain_routine_start(trainer):\n",
    "    wandb.init(project=trainer.args.project or \"YOLOv8\", \n",
    "               name=trainer.args.name, \n",
    "               save_code=True,\n",
    "               config=dict(\n",
    "        trainer.args)) if not wandb.run else wandb.run\n",
    "\n",
    "\n",
    "def on_fit_epoch_end(trainer):\n",
    "    wandb.run.log(trainer.metrics, step=trainer.epoch + 1)\n",
    "    if trainer.epoch == 0:\n",
    "        model_info = {\n",
    "            \"model/parameters\": get_num_params(trainer.model),\n",
    "            \"model/GFLOPs\": round(get_flops(trainer.model), 3),\n",
    "            \"model/speed(ms)\": round(sum(trainer.validator.speed.values()), 3)}\n",
    "        wandb.run.log(model_info, step=trainer.epoch + 1)\n",
    "\n",
    "\n",
    "def on_train_epoch_end(trainer):\n",
    "    wandb.run.log(trainer.label_loss_items(trainer.tloss, prefix=\"train\"), step=trainer.epoch + 1)\n",
    "    wandb.run.log(trainer.lr, step=trainer.epoch + 1)\n",
    "    if trainer.epoch == 1:\n",
    "        wandb.run.log({f.stem: wandb.Image(str(f))\n",
    "                       for f in trainer.save_dir.glob('train_batch*.jpg')},\n",
    "                      step=trainer.epoch + 1)\n",
    "\n",
    "\n",
    "def on_train_end(trainer):\n",
    "    art = wandb.Artifact(type=\"model\", name=f\"run_{wandb.run.id}_model\")\n",
    "    if trainer.best.exists():\n",
    "        art.add_file(trainer.best)\n",
    "        wandb.run.log_artifact(art)\n",
    "\n",
    "\n",
    "callbacks = {\n",
    "    \"on_pretrain_routine_start\": on_pretrain_routine_start,\n",
    "    \"on_train_epoch_end\": on_train_epoch_end,\n",
    "    \"on_fit_epoch_end\": on_fit_epoch_end,\n",
    "    \"on_train_end\": on_train_end} if wandb else {}"
   ]
  },
  {
   "cell_type": "code",
   "execution_count": 20,
   "metadata": {},
   "outputs": [],
   "source": [
    "yolo_finetuned = YOLO(checkpoint)  # load a pretrained model (recommended for training)\n",
    "for event, func in callbacks.items():\n",
    "    yolo_finetuned.add_callback(event, func)\n",
    "\n",
    "dataset_yaml_path = \"/workspace/object-detection-balloons/bloodcells.yaml\""
   ]
  },
  {
   "cell_type": "code",
   "execution_count": 21,
   "metadata": {},
   "outputs": [
    {
     "name": "stderr",
     "output_type": "stream",
     "text": [
      "Ultralytics YOLOv8.0.168 🚀 Python-3.10.6 torch-2.0.1+cu118 CUDA:0 (NVIDIA GeForce RTX 3090, 24260MiB)\n",
      "\u001b[34m\u001b[1mengine/trainer: \u001b[0mtask=detect, mode=train, model=yolov8m.pt, data=/workspace/object-detection-balloons/bloodcells.yaml, epochs=50, patience=50, batch=32, imgsz=640, save=True, save_period=-1, cache=False, device=None, workers=8, project=None, name=None, exist_ok=False, pretrained=True, optimizer=auto, verbose=True, seed=0, deterministic=True, single_cls=False, rect=False, cos_lr=False, close_mosaic=10, resume=False, amp=True, fraction=1.0, profile=False, freeze=None, overlap_mask=True, mask_ratio=4, dropout=0.0, val=True, split=val, save_json=False, save_hybrid=False, conf=None, iou=0.7, max_det=300, half=False, dnn=False, plots=True, source=None, show=False, save_txt=False, save_conf=False, save_crop=False, show_labels=True, show_conf=True, vid_stride=1, stream_buffer=False, line_width=None, visualize=False, augment=False, agnostic_nms=False, classes=None, retina_masks=False, boxes=True, format=torchscript, keras=False, optimize=False, int8=False, dynamic=False, simplify=False, opset=None, workspace=4, nms=False, lr0=0.01, lrf=0.01, momentum=0.937, weight_decay=0.0005, warmup_epochs=3.0, warmup_momentum=0.8, warmup_bias_lr=0.1, box=7.5, cls=0.5, dfl=1.5, pose=12.0, kobj=1.0, label_smoothing=0.0, nbs=64, hsv_h=0.015, hsv_s=0.7, hsv_v=0.4, degrees=0.0, translate=0.1, scale=0.5, shear=0.0, perspective=0.0, flipud=0.0, fliplr=0.5, mosaic=1.0, mixup=0.0, copy_paste=0.0, cfg=None, tracker=botsort.yaml, save_dir=runs/detect/train7\n",
      "Overriding model.yaml nc=80 with nc=3\n",
      "\n",
      "                   from  n    params  module                                       arguments                     \n",
      "  0                  -1  1      1392  ultralytics.nn.modules.conv.Conv             [3, 48, 3, 2]                 \n",
      "  1                  -1  1     41664  ultralytics.nn.modules.conv.Conv             [48, 96, 3, 2]                \n",
      "  2                  -1  2    111360  ultralytics.nn.modules.block.C2f             [96, 96, 2, True]             \n",
      "  3                  -1  1    166272  ultralytics.nn.modules.conv.Conv             [96, 192, 3, 2]               \n",
      "  4                  -1  4    813312  ultralytics.nn.modules.block.C2f             [192, 192, 4, True]           \n",
      "  5                  -1  1    664320  ultralytics.nn.modules.conv.Conv             [192, 384, 3, 2]              \n",
      "  6                  -1  4   3248640  ultralytics.nn.modules.block.C2f             [384, 384, 4, True]           \n",
      "  7                  -1  1   1991808  ultralytics.nn.modules.conv.Conv             [384, 576, 3, 2]              \n"
     ]
    },
    {
     "name": "stderr",
     "output_type": "stream",
     "text": [
      "  8                  -1  2   3985920  ultralytics.nn.modules.block.C2f             [576, 576, 2, True]           \n",
      "  9                  -1  1    831168  ultralytics.nn.modules.block.SPPF            [576, 576, 5]                 \n",
      " 10                  -1  1         0  torch.nn.modules.upsampling.Upsample         [None, 2, 'nearest']          \n",
      " 11             [-1, 6]  1         0  ultralytics.nn.modules.conv.Concat           [1]                           \n",
      " 12                  -1  2   1993728  ultralytics.nn.modules.block.C2f             [960, 384, 2]                 \n",
      " 13                  -1  1         0  torch.nn.modules.upsampling.Upsample         [None, 2, 'nearest']          \n",
      " 14             [-1, 4]  1         0  ultralytics.nn.modules.conv.Concat           [1]                           \n",
      " 15                  -1  2    517632  ultralytics.nn.modules.block.C2f             [576, 192, 2]                 \n",
      " 16                  -1  1    332160  ultralytics.nn.modules.conv.Conv             [192, 192, 3, 2]              \n",
      " 17            [-1, 12]  1         0  ultralytics.nn.modules.conv.Concat           [1]                           \n",
      " 18                  -1  2   1846272  ultralytics.nn.modules.block.C2f             [576, 384, 2]                 \n",
      " 19                  -1  1   1327872  ultralytics.nn.modules.conv.Conv             [384, 384, 3, 2]              \n",
      " 20             [-1, 9]  1         0  ultralytics.nn.modules.conv.Concat           [1]                           \n",
      " 21                  -1  2   4207104  ultralytics.nn.modules.block.C2f             [960, 576, 2]                 \n",
      " 22        [15, 18, 21]  1   3777433  ultralytics.nn.modules.head.Detect           [3, [192, 384, 576]]          \n",
      "Model summary: 295 layers, 25858057 parameters, 25858041 gradients\n",
      "\n",
      "Transferred 469/475 items from pretrained weights\n",
      "\u001b[34m\u001b[1mwandb\u001b[0m: Currently logged in as: \u001b[33mmatt24\u001b[0m. Use \u001b[1m`wandb login --relogin`\u001b[0m to force relogin\n"
     ]
    },
    {
     "data": {
      "application/vnd.jupyter.widget-view+json": {
       "model_id": "6c35568852db42c9944f31ee04507abd",
       "version_major": 2,
       "version_minor": 0
      },
      "text/plain": [
       "VBox(children=(Label(value='Waiting for wandb.init()...\\r'), FloatProgress(value=0.016668486556348703, max=1.0…"
      ]
     },
     "metadata": {},
     "output_type": "display_data"
    },
    {
     "data": {
      "text/html": [
       "Tracking run with wandb version 0.15.9"
      ],
      "text/plain": [
       "<IPython.core.display.HTML object>"
      ]
     },
     "metadata": {},
     "output_type": "display_data"
    },
    {
     "data": {
      "text/html": [
       "Run data is saved locally in <code>/workspace/object-detection-balloons/wandb/run-20230901_140140-b9ewr3j3</code>"
      ],
      "text/plain": [
       "<IPython.core.display.HTML object>"
      ]
     },
     "metadata": {},
     "output_type": "display_data"
    },
    {
     "data": {
      "text/html": [
       "Syncing run <strong><a href='https://wandb.ai/matt24/YOLOv8/runs/b9ewr3j3' target=\"_blank\">hopeful-mountain-1</a></strong> to <a href='https://wandb.ai/matt24/YOLOv8' target=\"_blank\">Weights & Biases</a> (<a href='https://wandb.me/run' target=\"_blank\">docs</a>)<br/>"
      ],
      "text/plain": [
       "<IPython.core.display.HTML object>"
      ]
     },
     "metadata": {},
     "output_type": "display_data"
    },
    {
     "data": {
      "text/html": [
       " View project at <a href='https://wandb.ai/matt24/YOLOv8' target=\"_blank\">https://wandb.ai/matt24/YOLOv8</a>"
      ],
      "text/plain": [
       "<IPython.core.display.HTML object>"
      ]
     },
     "metadata": {},
     "output_type": "display_data"
    },
    {
     "data": {
      "text/html": [
       " View run at <a href='https://wandb.ai/matt24/YOLOv8/runs/b9ewr3j3' target=\"_blank\">https://wandb.ai/matt24/YOLOv8/runs/b9ewr3j3</a>"
      ],
      "text/plain": [
       "<IPython.core.display.HTML object>"
      ]
     },
     "metadata": {},
     "output_type": "display_data"
    },
    {
     "name": "stderr",
     "output_type": "stream",
     "text": [
      "Freezing layer 'model.22.dfl.conv.weight'\n",
      "\u001b[34m\u001b[1mAMP: \u001b[0mrunning Automatic Mixed Precision (AMP) checks with YOLOv8n...\n",
      "\u001b[34m\u001b[1mAMP: \u001b[0mchecks passed ✅\n",
      "\u001b[34m\u001b[1mtrain: \u001b[0mScanning /workspace/object-detection-balloons/datasets/bloodcells/labels/train.cache... 255 images, 0 backgrounds, 0 corrupt: 100%|██████████| 255/255 [00:00<?, ?it/s]\n",
      "\u001b[34m\u001b[1mval: \u001b[0mScanning /workspace/object-detection-balloons/datasets/bloodcells/labels/validation.cache... 73 images, 0 backgrounds, 0 corrupt: 100%|██████████| 73/73 [00:00<?, ?it/s]\n",
      "Plotting labels to runs/detect/train7/labels.jpg... \n",
      "/usr/local/lib/python3.10/dist-packages/seaborn/_oldcore.py:1498: FutureWarning: is_categorical_dtype is deprecated and will be removed in a future version. Use isinstance(dtype, CategoricalDtype) instead\n",
      "  if pd.api.types.is_categorical_dtype(vector):\n",
      "/usr/local/lib/python3.10/dist-packages/seaborn/_oldcore.py:1498: FutureWarning: is_categorical_dtype is deprecated and will be removed in a future version. Use isinstance(dtype, CategoricalDtype) instead\n",
      "  if pd.api.types.is_categorical_dtype(vector):\n",
      "/usr/local/lib/python3.10/dist-packages/seaborn/_oldcore.py:1498: FutureWarning: is_categorical_dtype is deprecated and will be removed in a future version. Use isinstance(dtype, CategoricalDtype) instead\n",
      "  if pd.api.types.is_categorical_dtype(vector):\n",
      "/usr/local/lib/python3.10/dist-packages/seaborn/_oldcore.py:1498: FutureWarning: is_categorical_dtype is deprecated and will be removed in a future version. Use isinstance(dtype, CategoricalDtype) instead\n",
      "  if pd.api.types.is_categorical_dtype(vector):\n",
      "/usr/local/lib/python3.10/dist-packages/seaborn/_oldcore.py:1498: FutureWarning: is_categorical_dtype is deprecated and will be removed in a future version. Use isinstance(dtype, CategoricalDtype) instead\n",
      "  if pd.api.types.is_categorical_dtype(vector):\n",
      "/usr/local/lib/python3.10/dist-packages/seaborn/_oldcore.py:1119: FutureWarning: use_inf_as_na option is deprecated and will be removed in a future version. Convert inf values to NaN before operating instead.\n",
      "  with pd.option_context('mode.use_inf_as_na', True):\n",
      "/usr/local/lib/python3.10/dist-packages/seaborn/_oldcore.py:1498: FutureWarning: is_categorical_dtype is deprecated and will be removed in a future version. Use isinstance(dtype, CategoricalDtype) instead\n",
      "  if pd.api.types.is_categorical_dtype(vector):\n",
      "/usr/local/lib/python3.10/dist-packages/seaborn/_oldcore.py:1119: FutureWarning: use_inf_as_na option is deprecated and will be removed in a future version. Convert inf values to NaN before operating instead.\n",
      "  with pd.option_context('mode.use_inf_as_na', True):\n",
      "/usr/local/lib/python3.10/dist-packages/seaborn/_oldcore.py:1498: FutureWarning: is_categorical_dtype is deprecated and will be removed in a future version. Use isinstance(dtype, CategoricalDtype) instead\n",
      "  if pd.api.types.is_categorical_dtype(vector):\n",
      "/usr/local/lib/python3.10/dist-packages/seaborn/_oldcore.py:1119: FutureWarning: use_inf_as_na option is deprecated and will be removed in a future version. Convert inf values to NaN before operating instead.\n",
      "  with pd.option_context('mode.use_inf_as_na', True):\n",
      "/usr/local/lib/python3.10/dist-packages/seaborn/_oldcore.py:1498: FutureWarning: is_categorical_dtype is deprecated and will be removed in a future version. Use isinstance(dtype, CategoricalDtype) instead\n",
      "  if pd.api.types.is_categorical_dtype(vector):\n",
      "/usr/local/lib/python3.10/dist-packages/seaborn/_oldcore.py:1119: FutureWarning: use_inf_as_na option is deprecated and will be removed in a future version. Convert inf values to NaN before operating instead.\n",
      "  with pd.option_context('mode.use_inf_as_na', True):\n",
      "/usr/local/lib/python3.10/dist-packages/seaborn/_oldcore.py:1498: FutureWarning: is_categorical_dtype is deprecated and will be removed in a future version. Use isinstance(dtype, CategoricalDtype) instead\n",
      "  if pd.api.types.is_categorical_dtype(vector):\n",
      "/usr/local/lib/python3.10/dist-packages/seaborn/_oldcore.py:1498: FutureWarning: is_categorical_dtype is deprecated and will be removed in a future version. Use isinstance(dtype, CategoricalDtype) instead\n",
      "  if pd.api.types.is_categorical_dtype(vector):\n",
      "/usr/local/lib/python3.10/dist-packages/seaborn/_oldcore.py:1119: FutureWarning: use_inf_as_na option is deprecated and will be removed in a future version. Convert inf values to NaN before operating instead.\n",
      "  with pd.option_context('mode.use_inf_as_na', True):\n",
      "/usr/local/lib/python3.10/dist-packages/seaborn/_oldcore.py:1119: FutureWarning: use_inf_as_na option is deprecated and will be removed in a future version. Convert inf values to NaN before operating instead.\n",
      "  with pd.option_context('mode.use_inf_as_na', True):\n",
      "/usr/local/lib/python3.10/dist-packages/seaborn/_oldcore.py:1498: FutureWarning: is_categorical_dtype is deprecated and will be removed in a future version. Use isinstance(dtype, CategoricalDtype) instead\n",
      "  if pd.api.types.is_categorical_dtype(vector):\n",
      "/usr/local/lib/python3.10/dist-packages/seaborn/_oldcore.py:1498: FutureWarning: is_categorical_dtype is deprecated and will be removed in a future version. Use isinstance(dtype, CategoricalDtype) instead\n",
      "  if pd.api.types.is_categorical_dtype(vector):\n",
      "/usr/local/lib/python3.10/dist-packages/seaborn/_oldcore.py:1119: FutureWarning: use_inf_as_na option is deprecated and will be removed in a future version. Convert inf values to NaN before operating instead.\n",
      "  with pd.option_context('mode.use_inf_as_na', True):\n",
      "/usr/local/lib/python3.10/dist-packages/seaborn/_oldcore.py:1119: FutureWarning: use_inf_as_na option is deprecated and will be removed in a future version. Convert inf values to NaN before operating instead.\n",
      "  with pd.option_context('mode.use_inf_as_na', True):\n",
      "/usr/local/lib/python3.10/dist-packages/seaborn/_oldcore.py:1498: FutureWarning: is_categorical_dtype is deprecated and will be removed in a future version. Use isinstance(dtype, CategoricalDtype) instead\n",
      "  if pd.api.types.is_categorical_dtype(vector):\n",
      "/usr/local/lib/python3.10/dist-packages/seaborn/_oldcore.py:1498: FutureWarning: is_categorical_dtype is deprecated and will be removed in a future version. Use isinstance(dtype, CategoricalDtype) instead\n",
      "  if pd.api.types.is_categorical_dtype(vector):\n",
      "/usr/local/lib/python3.10/dist-packages/seaborn/_oldcore.py:1119: FutureWarning: use_inf_as_na option is deprecated and will be removed in a future version. Convert inf values to NaN before operating instead.\n",
      "  with pd.option_context('mode.use_inf_as_na', True):\n",
      "/usr/local/lib/python3.10/dist-packages/seaborn/_oldcore.py:1119: FutureWarning: use_inf_as_na option is deprecated and will be removed in a future version. Convert inf values to NaN before operating instead.\n",
      "  with pd.option_context('mode.use_inf_as_na', True):\n",
      "/usr/local/lib/python3.10/dist-packages/seaborn/_oldcore.py:1498: FutureWarning: is_categorical_dtype is deprecated and will be removed in a future version. Use isinstance(dtype, CategoricalDtype) instead\n",
      "  if pd.api.types.is_categorical_dtype(vector):\n",
      "/usr/local/lib/python3.10/dist-packages/seaborn/_oldcore.py:1498: FutureWarning: is_categorical_dtype is deprecated and will be removed in a future version. Use isinstance(dtype, CategoricalDtype) instead\n",
      "  if pd.api.types.is_categorical_dtype(vector):\n",
      "/usr/local/lib/python3.10/dist-packages/seaborn/_oldcore.py:1119: FutureWarning: use_inf_as_na option is deprecated and will be removed in a future version. Convert inf values to NaN before operating instead.\n",
      "  with pd.option_context('mode.use_inf_as_na', True):\n",
      "/usr/local/lib/python3.10/dist-packages/seaborn/_oldcore.py:1119: FutureWarning: use_inf_as_na option is deprecated and will be removed in a future version. Convert inf values to NaN before operating instead.\n",
      "  with pd.option_context('mode.use_inf_as_na', True):\n",
      "/usr/local/lib/python3.10/dist-packages/seaborn/_oldcore.py:1498: FutureWarning: is_categorical_dtype is deprecated and will be removed in a future version. Use isinstance(dtype, CategoricalDtype) instead\n",
      "  if pd.api.types.is_categorical_dtype(vector):\n",
      "/usr/local/lib/python3.10/dist-packages/seaborn/_oldcore.py:1498: FutureWarning: is_categorical_dtype is deprecated and will be removed in a future version. Use isinstance(dtype, CategoricalDtype) instead\n",
      "  if pd.api.types.is_categorical_dtype(vector):\n",
      "/usr/local/lib/python3.10/dist-packages/seaborn/_oldcore.py:1119: FutureWarning: use_inf_as_na option is deprecated and will be removed in a future version. Convert inf values to NaN before operating instead.\n",
      "  with pd.option_context('mode.use_inf_as_na', True):\n",
      "/usr/local/lib/python3.10/dist-packages/seaborn/_oldcore.py:1119: FutureWarning: use_inf_as_na option is deprecated and will be removed in a future version. Convert inf values to NaN before operating instead.\n",
      "  with pd.option_context('mode.use_inf_as_na', True):\n",
      "/usr/local/lib/python3.10/dist-packages/seaborn/_oldcore.py:1498: FutureWarning: is_categorical_dtype is deprecated and will be removed in a future version. Use isinstance(dtype, CategoricalDtype) instead\n",
      "  if pd.api.types.is_categorical_dtype(vector):\n",
      "/usr/local/lib/python3.10/dist-packages/seaborn/_oldcore.py:1498: FutureWarning: is_categorical_dtype is deprecated and will be removed in a future version. Use isinstance(dtype, CategoricalDtype) instead\n",
      "  if pd.api.types.is_categorical_dtype(vector):\n",
      "/usr/local/lib/python3.10/dist-packages/seaborn/_oldcore.py:1119: FutureWarning: use_inf_as_na option is deprecated and will be removed in a future version. Convert inf values to NaN before operating instead.\n",
      "  with pd.option_context('mode.use_inf_as_na', True):\n",
      "/usr/local/lib/python3.10/dist-packages/seaborn/_oldcore.py:1119: FutureWarning: use_inf_as_na option is deprecated and will be removed in a future version. Convert inf values to NaN before operating instead.\n",
      "  with pd.option_context('mode.use_inf_as_na', True):\n",
      "/usr/local/lib/python3.10/dist-packages/seaborn/_oldcore.py:1498: FutureWarning: is_categorical_dtype is deprecated and will be removed in a future version. Use isinstance(dtype, CategoricalDtype) instead\n",
      "  if pd.api.types.is_categorical_dtype(vector):\n",
      "/usr/local/lib/python3.10/dist-packages/seaborn/_oldcore.py:1498: FutureWarning: is_categorical_dtype is deprecated and will be removed in a future version. Use isinstance(dtype, CategoricalDtype) instead\n",
      "  if pd.api.types.is_categorical_dtype(vector):\n",
      "/usr/local/lib/python3.10/dist-packages/seaborn/_oldcore.py:1119: FutureWarning: use_inf_as_na option is deprecated and will be removed in a future version. Convert inf values to NaN before operating instead.\n",
      "  with pd.option_context('mode.use_inf_as_na', True):\n",
      "/usr/local/lib/python3.10/dist-packages/seaborn/_oldcore.py:1119: FutureWarning: use_inf_as_na option is deprecated and will be removed in a future version. Convert inf values to NaN before operating instead.\n",
      "  with pd.option_context('mode.use_inf_as_na', True):\n",
      "/usr/local/lib/python3.10/dist-packages/seaborn/_oldcore.py:1498: FutureWarning: is_categorical_dtype is deprecated and will be removed in a future version. Use isinstance(dtype, CategoricalDtype) instead\n",
      "  if pd.api.types.is_categorical_dtype(vector):\n",
      "/usr/local/lib/python3.10/dist-packages/seaborn/_oldcore.py:1498: FutureWarning: is_categorical_dtype is deprecated and will be removed in a future version. Use isinstance(dtype, CategoricalDtype) instead\n",
      "  if pd.api.types.is_categorical_dtype(vector):\n",
      "/usr/local/lib/python3.10/dist-packages/seaborn/_oldcore.py:1119: FutureWarning: use_inf_as_na option is deprecated and will be removed in a future version. Convert inf values to NaN before operating instead.\n",
      "  with pd.option_context('mode.use_inf_as_na', True):\n",
      "/usr/local/lib/python3.10/dist-packages/seaborn/_oldcore.py:1119: FutureWarning: use_inf_as_na option is deprecated and will be removed in a future version. Convert inf values to NaN before operating instead.\n",
      "  with pd.option_context('mode.use_inf_as_na', True):\n",
      "\u001b[34m\u001b[1moptimizer:\u001b[0m AdamW(lr=0.001429, momentum=0.9) with parameter groups 77 weight(decay=0.0), 84 weight(decay=0.0005), 83 bias(decay=0.0)\n",
      "Image sizes 640 train, 640 val\n",
      "Using 8 dataloader workers\n",
      "Logging results to \u001b[1mruns/detect/train7\u001b[0m\n",
      "Starting training for 50 epochs...\n",
      "\n",
      "      Epoch    GPU_mem   box_loss   cls_loss   dfl_loss  Instances       Size\n",
      "       1/50      13.2G      1.748      3.201      1.926        578        640: 100%|██████████| 8/8 [00:02<00:00,  3.20it/s]\n",
      "                 Class     Images  Instances      Box(P          R      mAP50  mAP50-95): 100%|██████████| 2/2 [00:00<00:00,  2.59it/s]\n",
      "                   all         73        967      0.731      0.355       0.35      0.216\n",
      "\n",
      "      Epoch    GPU_mem   box_loss   cls_loss   dfl_loss  Instances       Size\n",
      "       2/50      13.5G      1.312      1.497      1.506        786        640: 100%|██████████| 8/8 [00:02<00:00,  3.35it/s]\n",
      "                 Class     Images  Instances      Box(P          R      mAP50  mAP50-95): 100%|██████████| 2/2 [00:00<00:00,  4.14it/s]\n",
      "                   all         73        967      0.669      0.689      0.711      0.429\n",
      "\n",
      "      Epoch    GPU_mem   box_loss   cls_loss   dfl_loss  Instances       Size\n",
      "       3/50      13.5G      1.235      1.143      1.346        717        640: 100%|██████████| 8/8 [00:02<00:00,  3.35it/s]\n",
      "                 Class     Images  Instances      Box(P          R      mAP50  mAP50-95): 100%|██████████| 2/2 [00:00<00:00,  3.83it/s]\n",
      "                   all         73        967      0.542      0.455      0.503      0.358\n",
      "\n",
      "      Epoch    GPU_mem   box_loss   cls_loss   dfl_loss  Instances       Size\n",
      "       4/50      13.5G      1.186     0.9121      1.275        651        640: 100%|██████████| 8/8 [00:02<00:00,  3.34it/s]\n",
      "                 Class     Images  Instances      Box(P          R      mAP50  mAP50-95): 100%|██████████| 2/2 [00:00<00:00,  3.47it/s]\n",
      "                   all         73        967       0.66      0.763      0.762      0.488\n",
      "\n",
      "      Epoch    GPU_mem   box_loss   cls_loss   dfl_loss  Instances       Size\n",
      "       5/50      13.5G      1.173     0.8767      1.257        672        640: 100%|██████████| 8/8 [00:02<00:00,  3.26it/s]\n",
      "                 Class     Images  Instances      Box(P          R      mAP50  mAP50-95): 100%|██████████| 2/2 [00:00<00:00,  5.10it/s]\n",
      "                   all         73        967      0.585       0.35      0.378      0.186\n",
      "\n",
      "      Epoch    GPU_mem   box_loss   cls_loss   dfl_loss  Instances       Size\n",
      "       6/50      13.5G      1.149      0.893      1.251        715        640: 100%|██████████| 8/8 [00:02<00:00,  3.10it/s]\n",
      "                 Class     Images  Instances      Box(P          R      mAP50  mAP50-95): 100%|██████████| 2/2 [00:00<00:00,  5.40it/s]\n",
      "                   all         73        967      0.438      0.143     0.0854     0.0394\n",
      "\n",
      "      Epoch    GPU_mem   box_loss   cls_loss   dfl_loss  Instances       Size\n",
      "       7/50      13.6G      1.127     0.8758      1.257        637        640: 100%|██████████| 8/8 [00:02<00:00,  3.34it/s]\n",
      "                 Class     Images  Instances      Box(P          R      mAP50  mAP50-95): 100%|██████████| 2/2 [00:00<00:00,  6.03it/s]\n",
      "                   all         73        967      0.497      0.384      0.379       0.19\n",
      "\n",
      "      Epoch    GPU_mem   box_loss   cls_loss   dfl_loss  Instances       Size\n",
      "       8/50      13.5G      1.095     0.8384      1.218        529        640: 100%|██████████| 8/8 [00:02<00:00,  3.40it/s]\n",
      "                 Class     Images  Instances      Box(P          R      mAP50  mAP50-95): 100%|██████████| 2/2 [00:00<00:00,  5.99it/s]\n",
      "                   all         73        967      0.668      0.605      0.678      0.366\n",
      "\n",
      "      Epoch    GPU_mem   box_loss   cls_loss   dfl_loss  Instances       Size\n",
      "       9/50      13.6G      1.103     0.8216      1.223        679        640: 100%|██████████| 8/8 [00:02<00:00,  3.41it/s]\n",
      "                 Class     Images  Instances      Box(P          R      mAP50  mAP50-95): 100%|██████████| 2/2 [00:00<00:00,  5.98it/s]\n",
      "                   all         73        967      0.716      0.815      0.879      0.535\n",
      "\n",
      "      Epoch    GPU_mem   box_loss   cls_loss   dfl_loss  Instances       Size\n",
      "      10/50      13.5G      1.087     0.8015      1.232        608        640: 100%|██████████| 8/8 [00:02<00:00,  3.41it/s]\n",
      "                 Class     Images  Instances      Box(P          R      mAP50  mAP50-95): 100%|██████████| 2/2 [00:00<00:00,  5.90it/s]\n",
      "                   all         73        967      0.783      0.785      0.895      0.584\n",
      "\n",
      "      Epoch    GPU_mem   box_loss   cls_loss   dfl_loss  Instances       Size\n",
      "      11/50      13.5G      1.113     0.8169      1.239        656        640: 100%|██████████| 8/8 [00:02<00:00,  3.41it/s]\n",
      "                 Class     Images  Instances      Box(P          R      mAP50  mAP50-95): 100%|██████████| 2/2 [00:00<00:00,  5.94it/s]\n",
      "                   all         73        967      0.766      0.886      0.889      0.574\n",
      "\n",
      "      Epoch    GPU_mem   box_loss   cls_loss   dfl_loss  Instances       Size\n",
      "      12/50      13.6G      1.113      0.793      1.233        749        640: 100%|██████████| 8/8 [00:02<00:00,  3.39it/s]\n",
      "                 Class     Images  Instances      Box(P          R      mAP50  mAP50-95): 100%|██████████| 2/2 [00:00<00:00,  5.89it/s]\n",
      "                   all         73        967      0.723      0.863      0.845      0.544\n",
      "\n",
      "      Epoch    GPU_mem   box_loss   cls_loss   dfl_loss  Instances       Size\n",
      "      13/50      13.5G      1.082     0.7786      1.217        685        640: 100%|██████████| 8/8 [00:02<00:00,  3.40it/s]\n",
      "                 Class     Images  Instances      Box(P          R      mAP50  mAP50-95): 100%|██████████| 2/2 [00:00<00:00,  5.86it/s]\n",
      "                   all         73        967      0.704      0.681      0.787      0.449\n",
      "\n",
      "      Epoch    GPU_mem   box_loss   cls_loss   dfl_loss  Instances       Size\n",
      "      14/50      13.5G      1.101     0.7667      1.241        614        640: 100%|██████████| 8/8 [00:02<00:00,  3.41it/s]\n",
      "                 Class     Images  Instances      Box(P          R      mAP50  mAP50-95): 100%|██████████| 2/2 [00:00<00:00,  5.93it/s]\n",
      "                   all         73        967       0.79      0.796      0.858      0.503\n",
      "\n",
      "      Epoch    GPU_mem   box_loss   cls_loss   dfl_loss  Instances       Size\n",
      "      15/50      13.6G      1.109     0.7969      1.235        556        640: 100%|██████████| 8/8 [00:02<00:00,  3.40it/s]\n",
      "                 Class     Images  Instances      Box(P          R      mAP50  mAP50-95): 100%|██████████| 2/2 [00:00<00:00,  5.86it/s]\n",
      "                   all         73        967      0.776      0.791      0.853      0.538\n",
      "\n",
      "      Epoch    GPU_mem   box_loss   cls_loss   dfl_loss  Instances       Size\n",
      "      16/50      13.4G      1.083     0.7525      1.202        683        640: 100%|██████████| 8/8 [00:02<00:00,  3.39it/s]\n",
      "                 Class     Images  Instances      Box(P          R      mAP50  mAP50-95): 100%|██████████| 2/2 [00:00<00:00,  5.93it/s]\n",
      "                   all         73        967      0.685      0.865      0.869      0.562\n",
      "\n",
      "      Epoch    GPU_mem   box_loss   cls_loss   dfl_loss  Instances       Size\n",
      "      17/50      13.3G      1.093     0.7534       1.21        584        640: 100%|██████████| 8/8 [00:02<00:00,  3.35it/s]\n",
      "                 Class     Images  Instances      Box(P          R      mAP50  mAP50-95): 100%|██████████| 2/2 [00:00<00:00,  5.27it/s]\n",
      "                   all         73        967       0.79      0.817      0.879      0.564\n",
      "\n",
      "      Epoch    GPU_mem   box_loss   cls_loss   dfl_loss  Instances       Size\n",
      "      18/50      13.5G      1.036     0.7098      1.202        583        640: 100%|██████████| 8/8 [00:02<00:00,  3.34it/s]\n",
      "                 Class     Images  Instances      Box(P          R      mAP50  mAP50-95): 100%|██████████| 2/2 [00:00<00:00,  5.28it/s]\n",
      "                   all         73        967      0.767      0.844       0.88      0.561\n",
      "\n",
      "      Epoch    GPU_mem   box_loss   cls_loss   dfl_loss  Instances       Size\n",
      "      19/50      13.4G      1.054     0.7261      1.209        514        640: 100%|██████████| 8/8 [00:02<00:00,  3.32it/s]\n",
      "                 Class     Images  Instances      Box(P          R      mAP50  mAP50-95): 100%|██████████| 2/2 [00:00<00:00,  5.20it/s]\n",
      "                   all         73        967      0.774      0.828      0.855      0.542\n",
      "\n",
      "      Epoch    GPU_mem   box_loss   cls_loss   dfl_loss  Instances       Size\n",
      "      20/50      13.6G       1.04     0.7321       1.19        689        640: 100%|██████████| 8/8 [00:02<00:00,  3.39it/s]\n",
      "                 Class     Images  Instances      Box(P          R      mAP50  mAP50-95): 100%|██████████| 2/2 [00:00<00:00,  5.94it/s]\n",
      "                   all         73        967      0.778      0.893       0.89      0.586\n",
      "\n",
      "      Epoch    GPU_mem   box_loss   cls_loss   dfl_loss  Instances       Size\n",
      "      21/50      13.4G      1.042     0.7033      1.184        655        640: 100%|██████████| 8/8 [00:02<00:00,  3.40it/s]\n",
      "                 Class     Images  Instances      Box(P          R      mAP50  mAP50-95): 100%|██████████| 2/2 [00:00<00:00,  5.91it/s]\n",
      "                   all         73        967      0.775      0.882      0.921      0.635\n",
      "\n",
      "      Epoch    GPU_mem   box_loss   cls_loss   dfl_loss  Instances       Size\n",
      "      22/50      13.4G      1.032     0.6827      1.187        677        640: 100%|██████████| 8/8 [00:02<00:00,  3.40it/s]\n",
      "                 Class     Images  Instances      Box(P          R      mAP50  mAP50-95): 100%|██████████| 2/2 [00:00<00:00,  5.92it/s]\n",
      "                   all         73        967      0.822      0.807      0.866      0.541\n",
      "\n",
      "      Epoch    GPU_mem   box_loss   cls_loss   dfl_loss  Instances       Size\n",
      "      23/50      13.5G       1.03     0.6938      1.169        786        640: 100%|██████████| 8/8 [00:02<00:00,  3.39it/s]\n",
      "                 Class     Images  Instances      Box(P          R      mAP50  mAP50-95): 100%|██████████| 2/2 [00:00<00:00,  5.90it/s]\n",
      "                   all         73        967      0.795       0.87      0.878      0.547\n",
      "\n",
      "      Epoch    GPU_mem   box_loss   cls_loss   dfl_loss  Instances       Size\n",
      "      24/50      13.5G      1.094     0.7345      1.207        878        640: 100%|██████████| 8/8 [00:02<00:00,  3.39it/s]\n",
      "                 Class     Images  Instances      Box(P          R      mAP50  mAP50-95): 100%|██████████| 2/2 [00:00<00:00,  5.94it/s]\n",
      "                   all         73        967      0.856      0.818      0.889      0.606\n",
      "\n",
      "      Epoch    GPU_mem   box_loss   cls_loss   dfl_loss  Instances       Size\n",
      "      25/50      13.4G      1.026     0.7037      1.194        687        640: 100%|██████████| 8/8 [00:02<00:00,  3.39it/s]\n",
      "                 Class     Images  Instances      Box(P          R      mAP50  mAP50-95): 100%|██████████| 2/2 [00:00<00:00,  5.95it/s]\n",
      "                   all         73        967      0.796      0.886      0.908      0.578\n",
      "\n",
      "      Epoch    GPU_mem   box_loss   cls_loss   dfl_loss  Instances       Size\n",
      "      26/50      13.3G      1.026     0.6859      1.181        714        640: 100%|██████████| 8/8 [00:02<00:00,  3.39it/s]\n",
      "                 Class     Images  Instances      Box(P          R      mAP50  mAP50-95): 100%|██████████| 2/2 [00:00<00:00,  5.93it/s]\n",
      "                   all         73        967      0.841       0.86      0.902        0.6\n",
      "\n",
      "      Epoch    GPU_mem   box_loss   cls_loss   dfl_loss  Instances       Size\n",
      "      27/50      13.6G     0.9889     0.6384      1.151        665        640: 100%|██████████| 8/8 [00:02<00:00,  3.39it/s]\n",
      "                 Class     Images  Instances      Box(P          R      mAP50  mAP50-95): 100%|██████████| 2/2 [00:00<00:00,  5.96it/s]\n",
      "                   all         73        967       0.84      0.909       0.92      0.629\n",
      "\n",
      "      Epoch    GPU_mem   box_loss   cls_loss   dfl_loss  Instances       Size\n",
      "      28/50      13.6G     0.9989     0.6562      1.156        682        640: 100%|██████████| 8/8 [00:02<00:00,  3.39it/s]\n",
      "                 Class     Images  Instances      Box(P          R      mAP50  mAP50-95): 100%|██████████| 2/2 [00:00<00:00,  5.93it/s]\n",
      "                   all         73        967      0.824      0.899      0.909      0.616\n",
      "\n",
      "      Epoch    GPU_mem   box_loss   cls_loss   dfl_loss  Instances       Size\n",
      "      29/50      13.5G     0.9866     0.6451      1.152        620        640: 100%|██████████| 8/8 [00:02<00:00,  3.39it/s]\n",
      "                 Class     Images  Instances      Box(P          R      mAP50  mAP50-95): 100%|██████████| 2/2 [00:00<00:00,  5.95it/s]\n",
      "                   all         73        967      0.846      0.914      0.921      0.628\n",
      "\n",
      "      Epoch    GPU_mem   box_loss   cls_loss   dfl_loss  Instances       Size\n",
      "      30/50      13.6G     0.9886     0.6668      1.171        504        640: 100%|██████████| 8/8 [00:02<00:00,  3.34it/s]\n",
      "                 Class     Images  Instances      Box(P          R      mAP50  mAP50-95): 100%|██████████| 2/2 [00:00<00:00,  5.34it/s]\n",
      "                   all         73        967      0.804      0.919      0.916      0.635\n",
      "\n",
      "      Epoch    GPU_mem   box_loss   cls_loss   dfl_loss  Instances       Size\n",
      "      31/50      13.5G      0.973     0.6319      1.152        736        640: 100%|██████████| 8/8 [00:02<00:00,  3.33it/s]\n",
      "                 Class     Images  Instances      Box(P          R      mAP50  mAP50-95): 100%|██████████| 2/2 [00:00<00:00,  5.32it/s]\n",
      "                   all         73        967      0.882      0.857      0.925      0.647\n",
      "\n",
      "      Epoch    GPU_mem   box_loss   cls_loss   dfl_loss  Instances       Size\n",
      "      32/50      13.5G     0.9853     0.6284       1.16        690        640: 100%|██████████| 8/8 [00:02<00:00,  3.35it/s]\n",
      "                 Class     Images  Instances      Box(P          R      mAP50  mAP50-95): 100%|██████████| 2/2 [00:00<00:00,  5.94it/s]\n",
      "                   all         73        967      0.847      0.923       0.93      0.655\n",
      "\n",
      "      Epoch    GPU_mem   box_loss   cls_loss   dfl_loss  Instances       Size\n",
      "      33/50      13.5G     0.9726     0.6228      1.139        616        640: 100%|██████████| 8/8 [00:02<00:00,  3.38it/s]\n",
      "                 Class     Images  Instances      Box(P          R      mAP50  mAP50-95): 100%|██████████| 2/2 [00:00<00:00,  5.94it/s]\n",
      "                   all         73        967      0.817      0.903      0.918       0.64\n",
      "\n",
      "      Epoch    GPU_mem   box_loss   cls_loss   dfl_loss  Instances       Size\n",
      "      34/50      13.5G     0.9632     0.6161      1.148        669        640: 100%|██████████| 8/8 [00:02<00:00,  3.39it/s]\n",
      "                 Class     Images  Instances      Box(P          R      mAP50  mAP50-95): 100%|██████████| 2/2 [00:00<00:00,  5.94it/s]\n",
      "                   all         73        967      0.835      0.887      0.907      0.619\n",
      "\n",
      "      Epoch    GPU_mem   box_loss   cls_loss   dfl_loss  Instances       Size\n",
      "      35/50      13.6G     0.9483     0.5934      1.126        690        640: 100%|██████████| 8/8 [00:02<00:00,  3.40it/s]\n",
      "                 Class     Images  Instances      Box(P          R      mAP50  mAP50-95): 100%|██████████| 2/2 [00:00<00:00,  5.92it/s]\n",
      "                   all         73        967      0.837       0.92      0.922      0.649\n",
      "\n",
      "      Epoch    GPU_mem   box_loss   cls_loss   dfl_loss  Instances       Size\n",
      "      36/50      13.6G     0.9238     0.5791      1.127        577        640: 100%|██████████| 8/8 [00:02<00:00,  3.40it/s]\n",
      "                 Class     Images  Instances      Box(P          R      mAP50  mAP50-95): 100%|██████████| 2/2 [00:00<00:00,  5.94it/s]\n",
      "                   all         73        967      0.849      0.902      0.928      0.651\n",
      "\n",
      "      Epoch    GPU_mem   box_loss   cls_loss   dfl_loss  Instances       Size\n",
      "      37/50      13.5G     0.9218     0.5769      1.119        642        640: 100%|██████████| 8/8 [00:02<00:00,  3.40it/s]\n",
      "                 Class     Images  Instances      Box(P          R      mAP50  mAP50-95): 100%|██████████| 2/2 [00:00<00:00,  5.96it/s]\n",
      "                   all         73        967      0.841      0.924      0.928       0.66\n",
      "\n",
      "      Epoch    GPU_mem   box_loss   cls_loss   dfl_loss  Instances       Size\n",
      "      38/50      13.5G     0.9268     0.5739      1.123        647        640: 100%|██████████| 8/8 [00:02<00:00,  3.40it/s]\n",
      "                 Class     Images  Instances      Box(P          R      mAP50  mAP50-95): 100%|██████████| 2/2 [00:00<00:00,  5.96it/s]\n",
      "                   all         73        967      0.854       0.93      0.923      0.647\n",
      "\n",
      "      Epoch    GPU_mem   box_loss   cls_loss   dfl_loss  Instances       Size\n",
      "      39/50      13.5G      0.913     0.5476      1.108        681        640: 100%|██████████| 8/8 [00:02<00:00,  3.40it/s]\n",
      "                 Class     Images  Instances      Box(P          R      mAP50  mAP50-95): 100%|██████████| 2/2 [00:00<00:00,  5.96it/s]\n",
      "                   all         73        967      0.832      0.925       0.93      0.657\n",
      "\n",
      "      Epoch    GPU_mem   box_loss   cls_loss   dfl_loss  Instances       Size\n",
      "      40/50      13.4G      0.916     0.5579      1.122        663        640: 100%|██████████| 8/8 [00:02<00:00,  3.39it/s]\n",
      "                 Class     Images  Instances      Box(P          R      mAP50  mAP50-95): 100%|██████████| 2/2 [00:00<00:00,  5.96it/s]\n",
      "                   all         73        967      0.864      0.889      0.929      0.664\n",
      "Closing dataloader mosaic\n",
      "\n",
      "      Epoch    GPU_mem   box_loss   cls_loss   dfl_loss  Instances       Size\n",
      "      41/50        14G     0.9145     0.5675      1.161        419        640: 100%|██████████| 8/8 [00:03<00:00,  2.37it/s]\n",
      "                 Class     Images  Instances      Box(P          R      mAP50  mAP50-95): 100%|██████████| 2/2 [00:00<00:00,  5.30it/s]\n",
      "                   all         73        967      0.854      0.864      0.916      0.647\n",
      "\n",
      "      Epoch    GPU_mem   box_loss   cls_loss   dfl_loss  Instances       Size\n",
      "      42/50        14G     0.9019     0.5258      1.163        426        640: 100%|██████████| 8/8 [00:02<00:00,  3.37it/s]\n",
      "                 Class     Images  Instances      Box(P          R      mAP50  mAP50-95): 100%|██████████| 2/2 [00:00<00:00,  5.31it/s]\n",
      "                   all         73        967      0.851      0.895      0.915      0.653\n",
      "\n",
      "      Epoch    GPU_mem   box_loss   cls_loss   dfl_loss  Instances       Size\n",
      "      43/50        14G     0.8773     0.5119      1.145        447        640: 100%|██████████| 8/8 [00:02<00:00,  3.37it/s]\n",
      "                 Class     Images  Instances      Box(P          R      mAP50  mAP50-95): 100%|██████████| 2/2 [00:00<00:00,  5.30it/s]\n",
      "                   all         73        967      0.846      0.896      0.924       0.64\n",
      "\n",
      "      Epoch    GPU_mem   box_loss   cls_loss   dfl_loss  Instances       Size\n",
      "      44/50        14G     0.8733     0.4864      1.101        416        640: 100%|██████████| 8/8 [00:02<00:00,  3.41it/s]\n",
      "                 Class     Images  Instances      Box(P          R      mAP50  mAP50-95): 100%|██████████| 2/2 [00:00<00:00,  5.93it/s]\n",
      "                   all         73        967      0.852      0.905      0.924      0.642\n",
      "\n",
      "      Epoch    GPU_mem   box_loss   cls_loss   dfl_loss  Instances       Size\n",
      "      45/50        14G     0.8749      0.478      1.141        396        640: 100%|██████████| 8/8 [00:02<00:00,  3.43it/s]\n",
      "                 Class     Images  Instances      Box(P          R      mAP50  mAP50-95): 100%|██████████| 2/2 [00:00<00:00,  5.95it/s]\n",
      "                   all         73        967      0.862      0.902      0.925      0.653\n",
      "\n",
      "      Epoch    GPU_mem   box_loss   cls_loss   dfl_loss  Instances       Size\n",
      "      46/50        14G     0.8586     0.4759      1.122        370        640: 100%|██████████| 8/8 [00:02<00:00,  3.43it/s]\n",
      "                 Class     Images  Instances      Box(P          R      mAP50  mAP50-95): 100%|██████████| 2/2 [00:00<00:00,  5.95it/s]\n",
      "                   all         73        967      0.864      0.892      0.923      0.643\n",
      "\n",
      "      Epoch    GPU_mem   box_loss   cls_loss   dfl_loss  Instances       Size\n",
      "      47/50        14G     0.8405     0.4617      1.118        386        640: 100%|██████████| 8/8 [00:02<00:00,  3.43it/s]\n",
      "                 Class     Images  Instances      Box(P          R      mAP50  mAP50-95): 100%|██████████| 2/2 [00:00<00:00,  5.96it/s]\n",
      "                   all         73        967      0.853      0.878      0.914      0.651\n",
      "\n",
      "      Epoch    GPU_mem   box_loss   cls_loss   dfl_loss  Instances       Size\n",
      "      48/50        14G      0.836     0.4675      1.124        373        640: 100%|██████████| 8/8 [00:02<00:00,  3.43it/s]\n",
      "                 Class     Images  Instances      Box(P          R      mAP50  mAP50-95): 100%|██████████| 2/2 [00:00<00:00,  5.97it/s]\n",
      "                   all         73        967      0.853      0.918      0.922      0.649\n",
      "\n",
      "      Epoch    GPU_mem   box_loss   cls_loss   dfl_loss  Instances       Size\n",
      "      49/50        14G     0.8275     0.4466      1.118        387        640: 100%|██████████| 8/8 [00:02<00:00,  3.41it/s]\n",
      "                 Class     Images  Instances      Box(P          R      mAP50  mAP50-95): 100%|██████████| 2/2 [00:00<00:00,  5.78it/s]\n",
      "                   all         73        967      0.861      0.909      0.923       0.65\n",
      "\n",
      "      Epoch    GPU_mem   box_loss   cls_loss   dfl_loss  Instances       Size\n",
      "      50/50        14G      0.814     0.4412      1.116        399        640: 100%|██████████| 8/8 [00:02<00:00,  3.42it/s]\n",
      "                 Class     Images  Instances      Box(P          R      mAP50  mAP50-95): 100%|██████████| 2/2 [00:00<00:00,  5.96it/s]\n",
      "                   all         73        967      0.891      0.875      0.925      0.659\n",
      "\n",
      "50 epochs completed in 0.051 hours.\n",
      "Optimizer stripped from runs/detect/train7/weights/last.pt, 52.0MB\n",
      "Optimizer stripped from runs/detect/train7/weights/best.pt, 52.0MB\n",
      "\n",
      "Validating runs/detect/train7/weights/best.pt...\n",
      "Ultralytics YOLOv8.0.168 🚀 Python-3.10.6 torch-2.0.1+cu118 CUDA:0 (NVIDIA GeForce RTX 3090, 24260MiB)\n",
      "Model summary (fused): 218 layers, 25841497 parameters, 0 gradients\n",
      "                 Class     Images  Instances      Box(P          R      mAP50  mAP50-95): 100%|██████████| 2/2 [00:00<00:00,  6.27it/s]\n",
      "                   all         73        967       0.87      0.882      0.929      0.666\n",
      "             platelets         73         76      0.853      0.829      0.911      0.532\n",
      "                   rbc         73        819      0.796      0.816      0.887      0.636\n",
      "                   wbc         73         72       0.96          1      0.991       0.83\n",
      "Speed: 0.1ms preprocess, 2.8ms inference, 0.0ms loss, 0.2ms postprocess per image\n"
     ]
    }
   ],
   "source": [
    "# Use the model\n",
    "results = yolo_finetuned.train(data=dataset_yaml_path, epochs=50, batch=32)  # train the model"
   ]
  },
  {
   "cell_type": "markdown",
   "metadata": {},
   "source": [
    "## Evaluation"
   ]
  },
  {
   "cell_type": "markdown",
   "metadata": {},
   "source": [
    "### Validation Eval"
   ]
  },
  {
   "cell_type": "code",
   "execution_count": 9,
   "metadata": {},
   "outputs": [
    {
     "name": "stderr",
     "output_type": "stream",
     "text": [
      "\n",
      "0: 640x640 30 rbcs, 1 wbc, 1: 640x640 1 platelets, 15 rbcs, 1 wbc, 2: 640x640 2 plateletss, 29 rbcs, 1 wbc, 3: 640x640 1 platelets, 24 rbcs, 1 wbc, 4: 640x640 2 plateletss, 21 rbcs, 1 wbc, 5: 640x640 1 platelets, 29 rbcs, 1 wbc, 6: 640x640 15 rbcs, 1 wbc, 7: 640x640 2 plateletss, 14 rbcs, 1 wbc, 8: 640x640 17 rbcs, 1 wbc, 9: 640x640 3 plateletss, 23 rbcs, 1 wbc, 10: 640x640 1 platelets, 17 rbcs, 2 wbcs, 11: 640x640 1 platelets, 16 rbcs, 1 wbc, 12: 640x640 18 rbcs, 1 wbc, 13: 640x640 1 platelets, 20 rbcs, 1 wbc, 14: 640x640 5 plateletss, 23 rbcs, 1 wbc, 15: 640x640 1 platelets, 16 rbcs, 1 wbc, 16: 640x640 1 platelets, 18 rbcs, 1 wbc, 17: 640x640 1 platelets, 27 rbcs, 1 wbc, 18: 640x640 1 platelets, 27 rbcs, 1 wbc, 19: 640x640 1 platelets, 26 rbcs, 1 wbc, 20: 640x640 22 rbcs, 1 wbc, 21: 640x640 2 plateletss, 20 rbcs, 2 wbcs, 22: 640x640 23 rbcs, 1 wbc, 23: 640x640 23 rbcs, 1 wbc, 24: 640x640 1 platelets, 20 rbcs, 1 wbc, 25: 640x640 22 rbcs, 1 wbc, 26: 640x640 3 plateletss, 25 rbcs, 1 wbc, 27: 640x640 19 rbcs, 1 wbc, 28: 640x640 1 platelets, 20 rbcs, 1 wbc, 29: 640x640 1 platelets, 12 rbcs, 1 wbc, 30: 640x640 2 plateletss, 22 rbcs, 1 wbc, 31: 640x640 2 plateletss, 23 rbcs, 1 wbc, 32: 640x640 26 rbcs, 1 wbc, 33: 640x640 21 rbcs, 1 wbc, 34: 640x640 2 plateletss, 23 rbcs, 1 wbc, 35: 640x640 2 plateletss, 19 rbcs, 1 wbc, 36: 640x640 1 platelets, 22 rbcs, 1 wbc, 37: 640x640 1 platelets, 20 rbcs, 1 wbc, 38: 640x640 2 plateletss, 27 rbcs, 1 wbc, 39: 640x640 2 plateletss, 26 rbcs, 1 wbc, 40: 640x640 1 platelets, 22 rbcs, 1 wbc, 41: 640x640 2 plateletss, 27 rbcs, 1 wbc, 42: 640x640 3 plateletss, 24 rbcs, 1 wbc, 43: 640x640 4 plateletss, 25 rbcs, 1 wbc, 44: 640x640 2 plateletss, 24 rbcs, 1 wbc, 45: 640x640 2 plateletss, 19 rbcs, 1 wbc, 46: 640x640 19 rbcs, 1 wbc, 47: 640x640 1 platelets, 28 rbcs, 1 wbc, 48: 640x640 1 platelets, 23 rbcs, 1 wbc, 49: 640x640 2 plateletss, 31 rbcs, 1 wbc, 50: 640x640 3 plateletss, 20 rbcs, 1 wbc, 51: 640x640 1 platelets, 18 rbcs, 2 wbcs, 52: 640x640 3 plateletss, 21 rbcs, 1 wbc, 53: 640x640 2 plateletss, 22 rbcs, 1 wbc, 54: 640x640 1 platelets, 23 rbcs, 1 wbc, 55: 640x640 20 rbcs, 1 wbc, 56: 640x640 1 platelets, 18 rbcs, 1 wbc, 57: 640x640 1 platelets, 20 rbcs, 1 wbc, 58: 640x640 1 platelets, 19 rbcs, 1 wbc, 59: 640x640 1 platelets, 25 rbcs, 1 wbc, 60: 640x640 2 plateletss, 22 rbcs, 1 wbc, 61: 640x640 1 platelets, 22 rbcs, 1 wbc, 62: 640x640 26 rbcs, 1 wbc, 63: 640x640 3 plateletss, 27 rbcs, 1 wbc, 64: 640x640 1 platelets, 23 rbcs, 1 wbc, 65: 640x640 23 rbcs, 1 wbc, 66: 640x640 2 plateletss, 19 rbcs, 1 wbc, 67: 640x640 17 rbcs, 1 wbc, 68: 640x640 1 platelets, 17 rbcs, 1 wbc, 69: 640x640 1 platelets, 25 rbcs, 1 wbc, 70: 640x640 2 plateletss, 24 rbcs, 1 wbc, 71: 640x640 1 platelets, 23 rbcs, 1 wbc, 72: 640x640 4 plateletss, 26 rbcs, 1 wbc, 332.5ms\n",
      "Speed: 1.3ms preprocess, 4.6ms inference, 0.3ms postprocess per image at shape (1, 3, 640, 640)\n",
      "Results saved to \u001b[1mpreds/val\u001b[0m\n"
     ]
    }
   ],
   "source": [
    "!rm -rf /workspace/object-detection-balloons/preds/val\n",
    "preds = yolo_finetuned.predict(val_img_paths, save=True, project=\"preds\", name=\"val\") "
   ]
  },
  {
   "cell_type": "markdown",
   "metadata": {},
   "source": [
    "### Test Eval"
   ]
  },
  {
   "cell_type": "code",
   "execution_count": 10,
   "metadata": {},
   "outputs": [
    {
     "name": "stderr",
     "output_type": "stream",
     "text": [
      "\n",
      "0: 640x640 1 platelets, 25 rbcs, 1 wbc, 1: 640x640 3 plateletss, 24 rbcs, 2 wbcs, 2: 640x640 1 platelets, 22 rbcs, 1 wbc, 3: 640x640 4 plateletss, 16 rbcs, 1 wbc, 4: 640x640 2 plateletss, 25 rbcs, 1 wbc, 5: 640x640 2 plateletss, 27 rbcs, 1 wbc, 6: 640x640 1 platelets, 17 rbcs, 1 wbc, 7: 640x640 20 rbcs, 1 wbc, 8: 640x640 1 platelets, 23 rbcs, 1 wbc, 9: 640x640 3 plateletss, 16 rbcs, 2 wbcs, 10: 640x640 2 plateletss, 22 rbcs, 1 wbc, 11: 640x640 1 platelets, 16 rbcs, 1 wbc, 12: 640x640 1 platelets, 27 rbcs, 1 wbc, 13: 640x640 20 rbcs, 1 wbc, 14: 640x640 2 plateletss, 25 rbcs, 1 wbc, 15: 640x640 14 rbcs, 1 wbc, 16: 640x640 22 rbcs, 1 wbc, 17: 640x640 18 rbcs, 1 wbc, 18: 640x640 2 plateletss, 18 rbcs, 1 wbc, 19: 640x640 2 plateletss, 29 rbcs, 2 wbcs, 20: 640x640 1 platelets, 19 rbcs, 1 wbc, 21: 640x640 2 plateletss, 30 rbcs, 1 wbc, 22: 640x640 3 plateletss, 18 rbcs, 1 wbc, 23: 640x640 18 rbcs, 1 wbc, 24: 640x640 21 rbcs, 1 wbc, 25: 640x640 2 plateletss, 22 rbcs, 1 wbc, 26: 640x640 1 platelets, 23 rbcs, 1 wbc, 27: 640x640 2 plateletss, 21 rbcs, 1 wbc, 28: 640x640 21 rbcs, 1 wbc, 29: 640x640 26 rbcs, 1 wbc, 30: 640x640 29 rbcs, 1 wbc, 31: 640x640 11 rbcs, 1 wbc, 32: 640x640 1 platelets, 23 rbcs, 1 wbc, 33: 640x640 3 plateletss, 27 rbcs, 1 wbc, 34: 640x640 3 plateletss, 19 rbcs, 1 wbc, 35: 640x640 1 platelets, 17 rbcs, 1 wbc, 163.9ms\n",
      "Speed: 1.3ms preprocess, 4.6ms inference, 0.3ms postprocess per image at shape (1, 3, 640, 640)\n",
      "Results saved to \u001b[1mpreds/test\u001b[0m\n"
     ]
    }
   ],
   "source": [
    "!rm -rf /workspace/object-detection-balloons/preds/test\n",
    "preds = yolo_finetuned.predict(test_img_paths, save=True, project=\"preds\", name=\"test\") "
   ]
  },
  {
   "cell_type": "code",
   "execution_count": null,
   "metadata": {},
   "outputs": [],
   "source": []
  }
 ],
 "metadata": {
  "kernelspec": {
   "display_name": "Python 3",
   "language": "python",
   "name": "python3"
  },
  "language_info": {
   "codemirror_mode": {
    "name": "ipython",
    "version": 3
   },
   "file_extension": ".py",
   "mimetype": "text/x-python",
   "name": "python",
   "nbconvert_exporter": "python",
   "pygments_lexer": "ipython3",
   "version": "3.10.6"
  },
  "orig_nbformat": 4
 },
 "nbformat": 4,
 "nbformat_minor": 2
}
