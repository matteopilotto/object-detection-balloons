{
 "cells": [
  {
   "cell_type": "code",
   "execution_count": 28,
   "metadata": {},
   "outputs": [],
   "source": [
    "import os\n",
    "from getpass import getpass\n",
    "from kaggle.api.kaggle_api_extended import KaggleApi\n",
    "\n",
    "import pandas as pd\n",
    "import shutil\n",
    "from tqdm.auto import tqdm\n",
    "import ast\n",
    "import pybboxes as pbx\n",
    "\n",
    "import ultralytics\n",
    "from ultralytics import YOLO\n",
    "\n",
    "import random"
   ]
  },
  {
   "cell_type": "code",
   "execution_count": null,
   "metadata": {},
   "outputs": [],
   "source": [
    "os.environ['KAGGLE_USERNAME'] = input()\n",
    "os.environ['KAGGLE_KEY'] = getpass()\n",
    "\n",
    "api = KaggleApi()\n",
    "api.authenticate()"
   ]
  },
  {
   "cell_type": "code",
   "execution_count": 2,
   "metadata": {},
   "outputs": [],
   "source": [
    "!kaggle datasets download -d vbookshelf/v2-balloon-detection-dataset\n",
    "!unzip /workspace/object-detection-balloons/v2-balloon-detection-dataset.zip -d ./balloons\n",
    "!rm -rf /workspace/object-detection-balloons/v2-balloon-detection-dataset.zip"
   ]
  },
  {
   "cell_type": "code",
   "execution_count": 9,
   "metadata": {},
   "outputs": [
    {
     "name": "stdout",
     "output_type": "stream",
     "text": [
      "(74, 5)\n"
     ]
    },
    {
     "data": {
      "text/html": [
       "<div>\n",
       "<style scoped>\n",
       "    .dataframe tbody tr th:only-of-type {\n",
       "        vertical-align: middle;\n",
       "    }\n",
       "\n",
       "    .dataframe tbody tr th {\n",
       "        vertical-align: top;\n",
       "    }\n",
       "\n",
       "    .dataframe thead th {\n",
       "        text-align: right;\n",
       "    }\n",
       "</style>\n",
       "<table border=\"1\" class=\"dataframe\">\n",
       "  <thead>\n",
       "    <tr style=\"text-align: right;\">\n",
       "      <th></th>\n",
       "      <th>fname</th>\n",
       "      <th>height</th>\n",
       "      <th>width</th>\n",
       "      <th>bbox</th>\n",
       "      <th>num_balloons</th>\n",
       "    </tr>\n",
       "  </thead>\n",
       "  <tbody>\n",
       "    <tr>\n",
       "      <th>0</th>\n",
       "      <td>34020010494_e5cb88e1c4_k.jpg</td>\n",
       "      <td>1536</td>\n",
       "      <td>2048</td>\n",
       "      <td>[{'xmin': 994, 'ymin': 619, 'xmax': 1445, 'yma...</td>\n",
       "      <td>1</td>\n",
       "    </tr>\n",
       "    <tr>\n",
       "      <th>1</th>\n",
       "      <td>25899693952_7c8b8b9edc_k.jpg</td>\n",
       "      <td>1365</td>\n",
       "      <td>2048</td>\n",
       "      <td>[{'xmin': 135, 'ymin': 115, 'xmax': 811, 'ymax...</td>\n",
       "      <td>1</td>\n",
       "    </tr>\n",
       "    <tr>\n",
       "      <th>2</th>\n",
       "      <td>24362039530_b151b41a52_k.jpg</td>\n",
       "      <td>2048</td>\n",
       "      <td>1536</td>\n",
       "      <td>[{'xmin': 579, 'ymin': 487, 'xmax': 920, 'ymax...</td>\n",
       "      <td>1</td>\n",
       "    </tr>\n",
       "    <tr>\n",
       "      <th>3</th>\n",
       "      <td>18849792632_aad23ad513_k.jpg</td>\n",
       "      <td>2048</td>\n",
       "      <td>1536</td>\n",
       "      <td>[{'xmin': 534, 'ymin': 365, 'xmax': 871, 'ymax...</td>\n",
       "      <td>10</td>\n",
       "    </tr>\n",
       "    <tr>\n",
       "      <th>4</th>\n",
       "      <td>17178818589_16e58fc1e5_k.jpg</td>\n",
       "      <td>1536</td>\n",
       "      <td>2048</td>\n",
       "      <td>[{'xmin': 748, 'ymin': 195, 'xmax': 1425, 'yma...</td>\n",
       "      <td>7</td>\n",
       "    </tr>\n",
       "  </tbody>\n",
       "</table>\n",
       "</div>"
      ],
      "text/plain": [
       "                          fname  height  width  \\\n",
       "0  34020010494_e5cb88e1c4_k.jpg    1536   2048   \n",
       "1  25899693952_7c8b8b9edc_k.jpg    1365   2048   \n",
       "2  24362039530_b151b41a52_k.jpg    2048   1536   \n",
       "3  18849792632_aad23ad513_k.jpg    2048   1536   \n",
       "4  17178818589_16e58fc1e5_k.jpg    1536   2048   \n",
       "\n",
       "                                                bbox  num_balloons  \n",
       "0  [{'xmin': 994, 'ymin': 619, 'xmax': 1445, 'yma...             1  \n",
       "1  [{'xmin': 135, 'ymin': 115, 'xmax': 811, 'ymax...             1  \n",
       "2  [{'xmin': 579, 'ymin': 487, 'xmax': 920, 'ymax...             1  \n",
       "3  [{'xmin': 534, 'ymin': 365, 'xmax': 871, 'ymax...            10  \n",
       "4  [{'xmin': 748, 'ymin': 195, 'xmax': 1425, 'yma...             7  "
      ]
     },
     "execution_count": 9,
     "metadata": {},
     "output_type": "execute_result"
    }
   ],
   "source": [
    "csv_url = \"/workspace/object-detection-balloons/balloons/balloon-data.csv\"\n",
    "balloon_df = pd.read_csv(csv_url)\n",
    "print(balloon_df.shape)\n",
    "balloon_df.head()"
   ]
  },
  {
   "cell_type": "code",
   "execution_count": 45,
   "metadata": {},
   "outputs": [],
   "source": [
    "random.seed(2077)\n",
    "\n",
    "balloon_df[\"is_val\"] = [random.uniform(0, 1) <= 0.2 for _ in range(len(balloon_df))]"
   ]
  },
  {
   "cell_type": "code",
   "execution_count": 48,
   "metadata": {},
   "outputs": [
    {
     "data": {
      "text/plain": [
       "(16, 6)"
      ]
     },
     "execution_count": 48,
     "metadata": {},
     "output_type": "execute_result"
    }
   ],
   "source": [
    "balloon_df.loc[balloon_df[\"is_val\"] == True].shape"
   ]
  },
  {
   "cell_type": "code",
   "execution_count": 13,
   "metadata": {},
   "outputs": [],
   "source": [
    "# os.rename(\"/workspace/object-detection-balloons/balloons/images\", \"/workspace/object-detection-balloons/balloons/train\")\n",
    "# os.mkdir(\"/workspace/object-detection-balloons/balloons/images\")\n",
    "# shutil.move(\"/workspace/object-detection-balloons/balloons/train\", \"/workspace/object-detection-balloons/balloons/images/train\")\n",
    "\n",
    "os.makedirs(\"/workspace/object-detection-balloons/balloons/labels/train\", exist_ok=True)"
   ]
  },
  {
   "cell_type": "code",
   "execution_count": 51,
   "metadata": {},
   "outputs": [],
   "source": [
    "img_val_dir = \"/workspace/object-detection-balloons/balloons/images/val\"\n",
    "os.mkdir(img_val_dir)"
   ]
  },
  {
   "cell_type": "code",
   "execution_count": 56,
   "metadata": {},
   "outputs": [],
   "source": [
    "lbs_val_dir = \"/workspace/object-detection-balloons/balloons/labels/val\"\n",
    "os.mkdir(lbs_val_dir)"
   ]
  },
  {
   "cell_type": "code",
   "execution_count": 54,
   "metadata": {},
   "outputs": [],
   "source": [
    "for i, row in balloon_df.loc[balloon_df[\"is_val\"] == True].iterrows():\n",
    "    src_path = os.path.join(\"/workspace/object-detection-balloons/balloons/images/train\", row[\"fname\"])\n",
    "    dst_path = os.path.join(\"/workspace/object-detection-balloons/balloons/images/val\", row[\"fname\"])\n",
    "    shutil.move(src_path, dst_path)"
   ]
  },
  {
   "cell_type": "code",
   "execution_count": 58,
   "metadata": {},
   "outputs": [],
   "source": [
    "for i, row in balloon_df.loc[balloon_df[\"is_val\"] == True].iterrows():\n",
    "    src_path = os.path.join(\"/workspace/object-detection-balloons/balloons/labels/train\", row[\"fname\"].replace(\".jpg\", \".txt\"))\n",
    "    dst_path = os.path.join(\"/workspace/object-detection-balloons/balloons/labels/val\", row[\"fname\"].replace(\".jpg\", \".txt\"))\n",
    "    shutil.move(src_path, dst_path)"
   ]
  },
  {
   "cell_type": "code",
   "execution_count": 14,
   "metadata": {},
   "outputs": [],
   "source": [
    "def create_yolo_labels(row):\n",
    "    dir = \"/workspace/object-detection-balloons/balloons/labels/train/\"\n",
    "    bboxes = ast.literal_eval(row[\"bbox\"])\n",
    "    for bbox in bboxes:\n",
    "        bbox = bbox.values()\n",
    "        w, h = row[\"width\"], row[\"height\"]\n",
    "        bbox_yolo = pbx.convert_bbox(bbox, from_type=\"voc\", to_type=\"yolo\", image_size=(w, h))\n",
    "        bbox_yolo = \" \".join([str(bb) for bb in bbox_yolo])\n",
    "        file_path = dir + row[\"fname\"].replace(\".jpg\", \".txt\")\n",
    "        with open(file_path, \"a\") as f:\n",
    "            f.write(f\"0 {bbox_yolo}\\n\")\n",
    "\n",
    "# create_yolo_labels(balloon_df.iloc[0])"
   ]
  },
  {
   "cell_type": "code",
   "execution_count": 15,
   "metadata": {},
   "outputs": [
    {
     "data": {
      "application/vnd.jupyter.widget-view+json": {
       "model_id": "afd8844b9bc54ecc8983a732fa9bc516",
       "version_major": 2,
       "version_minor": 0
      },
      "text/plain": [
       "0it [00:00, ?it/s]"
      ]
     },
     "metadata": {},
     "output_type": "display_data"
    }
   ],
   "source": [
    "for i, row in tqdm(balloon_df.iterrows()):\n",
    "    create_yolo_labels(row)\n",
    "    "
   ]
  },
  {
   "cell_type": "code",
   "execution_count": 16,
   "metadata": {},
   "outputs": [
    {
     "name": "stderr",
     "output_type": "stream",
     "text": [
      "Ultralytics YOLOv8.0.164 🚀 Python-3.10.6 torch-2.0.1+cu118 CUDA:0 (NVIDIA GeForce RTX 3090, 24260MiB)\n",
      "Setup complete ✅ (48 CPUs, 125.7 GB RAM, 1.1/20.0 GB disk)\n"
     ]
    }
   ],
   "source": [
    "ultralytics.checks()"
   ]
  },
  {
   "cell_type": "code",
   "execution_count": 24,
   "metadata": {},
   "outputs": [],
   "source": [
    "yolo_base = YOLO('yolov8n.pt')  # load a pretrained model (recommended for training)"
   ]
  },
  {
   "cell_type": "code",
   "execution_count": 60,
   "metadata": {},
   "outputs": [
    {
     "name": "stderr",
     "output_type": "stream",
     "text": [
      "Ultralytics YOLOv8.0.164 🚀 Python-3.10.6 torch-2.0.1+cu118 CUDA:0 (NVIDIA GeForce RTX 3090, 24260MiB)\n",
      "\u001b[34m\u001b[1mengine/trainer: \u001b[0mtask=detect, mode=train, model=yolov8n.pt, data=/workspace/object-detection-balloons/balloons/balloons.yaml, epochs=50, patience=50, batch=16, imgsz=640, save=True, save_period=-1, cache=False, device=None, workers=8, project=None, name=None, exist_ok=False, pretrained=True, optimizer=auto, verbose=True, seed=0, deterministic=True, single_cls=False, rect=False, cos_lr=False, close_mosaic=10, resume=False, amp=True, fraction=1.0, profile=False, freeze=None, overlap_mask=True, mask_ratio=4, dropout=0.0, val=True, split=val, save_json=False, save_hybrid=False, conf=None, iou=0.7, max_det=300, half=False, dnn=False, plots=True, source=None, show=False, save_txt=False, save_conf=False, save_crop=False, show_labels=True, show_conf=True, vid_stride=1, stream_buffer=False, line_width=None, visualize=False, augment=False, agnostic_nms=False, classes=None, retina_masks=False, boxes=True, format=torchscript, keras=False, optimize=False, int8=False, dynamic=False, simplify=False, opset=None, workspace=4, nms=False, lr0=0.01, lrf=0.01, momentum=0.937, weight_decay=0.0005, warmup_epochs=3.0, warmup_momentum=0.8, warmup_bias_lr=0.1, box=7.5, cls=0.5, dfl=1.5, pose=12.0, kobj=1.0, label_smoothing=0.0, nbs=64, hsv_h=0.015, hsv_s=0.7, hsv_v=0.4, degrees=0.0, translate=0.1, scale=0.5, shear=0.0, perspective=0.0, flipud=0.0, fliplr=0.5, mosaic=1.0, mixup=0.0, copy_paste=0.0, cfg=None, tracker=botsort.yaml, save_dir=runs/detect/train11\n",
      "Overriding model.yaml nc=80 with nc=1\n",
      "\n",
      "                   from  n    params  module                                       arguments                     \n",
      "  0                  -1  1       464  ultralytics.nn.modules.conv.Conv             [3, 16, 3, 2]                 \n",
      "  1                  -1  1      4672  ultralytics.nn.modules.conv.Conv             [16, 32, 3, 2]                \n",
      "  2                  -1  1      7360  ultralytics.nn.modules.block.C2f             [32, 32, 1, True]             \n",
      "  3                  -1  1     18560  ultralytics.nn.modules.conv.Conv             [32, 64, 3, 2]                \n"
     ]
    },
    {
     "name": "stderr",
     "output_type": "stream",
     "text": [
      "  4                  -1  2     49664  ultralytics.nn.modules.block.C2f             [64, 64, 2, True]             \n",
      "  5                  -1  1     73984  ultralytics.nn.modules.conv.Conv             [64, 128, 3, 2]               \n",
      "  6                  -1  2    197632  ultralytics.nn.modules.block.C2f             [128, 128, 2, True]           \n",
      "  7                  -1  1    295424  ultralytics.nn.modules.conv.Conv             [128, 256, 3, 2]              \n",
      "  8                  -1  1    460288  ultralytics.nn.modules.block.C2f             [256, 256, 1, True]           \n",
      "  9                  -1  1    164608  ultralytics.nn.modules.block.SPPF            [256, 256, 5]                 \n",
      " 10                  -1  1         0  torch.nn.modules.upsampling.Upsample         [None, 2, 'nearest']          \n",
      " 11             [-1, 6]  1         0  ultralytics.nn.modules.conv.Concat           [1]                           \n",
      " 12                  -1  1    148224  ultralytics.nn.modules.block.C2f             [384, 128, 1]                 \n",
      " 13                  -1  1         0  torch.nn.modules.upsampling.Upsample         [None, 2, 'nearest']          \n",
      " 14             [-1, 4]  1         0  ultralytics.nn.modules.conv.Concat           [1]                           \n",
      " 15                  -1  1     37248  ultralytics.nn.modules.block.C2f             [192, 64, 1]                  \n",
      " 16                  -1  1     36992  ultralytics.nn.modules.conv.Conv             [64, 64, 3, 2]                \n",
      " 17            [-1, 12]  1         0  ultralytics.nn.modules.conv.Concat           [1]                           \n",
      " 18                  -1  1    123648  ultralytics.nn.modules.block.C2f             [192, 128, 1]                 \n",
      " 19                  -1  1    147712  ultralytics.nn.modules.conv.Conv             [128, 128, 3, 2]              \n",
      " 20             [-1, 9]  1         0  ultralytics.nn.modules.conv.Concat           [1]                           \n",
      " 21                  -1  1    493056  ultralytics.nn.modules.block.C2f             [384, 256, 1]                 \n",
      " 22        [15, 18, 21]  1    751507  ultralytics.nn.modules.head.Detect           [1, [64, 128, 256]]           \n",
      "Model summary: 225 layers, 3011043 parameters, 3011027 gradients\n",
      "\n",
      "Transferred 319/355 items from pretrained weights\n",
      "Freezing layer 'model.22.dfl.conv.weight'\n",
      "\u001b[34m\u001b[1mAMP: \u001b[0mrunning Automatic Mixed Precision (AMP) checks with YOLOv8n...\n",
      "\u001b[34m\u001b[1mAMP: \u001b[0mchecks passed ✅\n",
      "\u001b[34m\u001b[1mtrain: \u001b[0mScanning /workspace/object-detection-balloons/balloons/labels/train.cache... 58 images, 0 backgrounds, 0 corrupt: 100%|██████████| 58/58 [00:00<?, ?it/s]\n",
      "\u001b[34m\u001b[1mval: \u001b[0mScanning /workspace/object-detection-balloons/balloons/labels/val.cache... 16 images, 0 backgrounds, 0 corrupt: 100%|██████████| 16/16 [00:00<?, ?it/s]\n",
      "Plotting labels to runs/detect/train11/labels.jpg... \n"
     ]
    }
   ],
   "source": [
    "model = YOLO('yolov8n.pt')  # load a pretrained model (recommended for training)\n",
    "yaml_path = \"/workspace/object-detection-balloons/balloons/balloons.yaml\"\n",
    "\n",
    "# Use the model\n",
    "results = model.train(data=yaml_path, epochs=50)  # train the model"
   ]
  },
  {
   "cell_type": "code",
   "execution_count": 21,
   "metadata": {},
   "outputs": [
    {
     "data": {
      "text/plain": [
       "['/workspace/object-detection-balloons/balloons/images/train/10464445726_6f1e3bbe6a_k.jpg',\n",
       " '/workspace/object-detection-balloons/balloons/images/train/12037308314_e16fb3a0f7_k.jpg',\n",
       " '/workspace/object-detection-balloons/balloons/images/train/120853323_d4788431b9_b.jpg']"
      ]
     },
     "execution_count": 21,
     "metadata": {},
     "output_type": "execute_result"
    }
   ],
   "source": [
    "img_path_base = \"/workspace/object-detection-balloons/balloons/images/train\"\n",
    "img_paths = [os.path.join(img_path_base, fname) for fname in os.listdir(img_path_base)]\n",
    "img_paths[:3]"
   ]
  },
  {
   "cell_type": "code",
   "execution_count": 27,
   "metadata": {},
   "outputs": [
    {
     "name": "stderr",
     "output_type": "stream",
     "text": [
      "\n",
      "0: 640x640 3 balloons, 1: 640x640 8 balloons, 2: 640x640 3 balloons, 3: 640x640 1 balloon, 4: 640x640 11 balloons, 5: 640x640 2 balloons, 6: 640x640 5 balloons, 7: 640x640 7 balloons, 8: 640x640 1 balloon, 9: 640x640 1 balloon, 11.3ms\n",
      "Speed: 1.5ms preprocess, 1.1ms inference, 0.8ms postprocess per image at shape (1, 3, 640, 640)\n",
      "Results saved to \u001b[1mruns/detect/predict4\u001b[0m\n"
     ]
    }
   ],
   "source": [
    "preds = model.predict(img_paths[10:20], save=True) "
   ]
  }
 ],
 "metadata": {
  "kernelspec": {
   "display_name": "Python 3",
   "language": "python",
   "name": "python3"
  },
  "language_info": {
   "codemirror_mode": {
    "name": "ipython",
    "version": 3
   },
   "file_extension": ".py",
   "mimetype": "text/x-python",
   "name": "python",
   "nbconvert_exporter": "python",
   "pygments_lexer": "ipython3",
   "version": "3.10.6"
  },
  "orig_nbformat": 4
 },
 "nbformat": 4,
 "nbformat_minor": 2
}
