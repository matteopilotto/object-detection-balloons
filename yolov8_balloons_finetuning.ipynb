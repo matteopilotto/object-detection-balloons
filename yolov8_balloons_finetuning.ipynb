{
 "cells": [
  {
   "cell_type": "code",
   "execution_count": 1,
   "metadata": {},
   "outputs": [
    {
     "name": "stdout",
     "output_type": "stream",
     "text": [
      "Requirement already satisfied: ultralytics in /usr/local/lib/python3.10/dist-packages (from -r requirements.txt (line 1)) (8.0.166)\n",
      "Requirement already satisfied: kaggle in /usr/local/lib/python3.10/dist-packages (from -r requirements.txt (line 2)) (1.5.16)\n",
      "Requirement already satisfied: pybboxes in /usr/local/lib/python3.10/dist-packages (from -r requirements.txt (line 3)) (0.1.6)\n",
      "Requirement already satisfied: matplotlib>=3.2.2 in /usr/local/lib/python3.10/dist-packages (from ultralytics->-r requirements.txt (line 1)) (3.7.2)\n",
      "Requirement already satisfied: numpy>=1.22.2 in /usr/local/lib/python3.10/dist-packages (from ultralytics->-r requirements.txt (line 1)) (1.24.1)\n",
      "Requirement already satisfied: opencv-python>=4.6.0 in /usr/local/lib/python3.10/dist-packages (from ultralytics->-r requirements.txt (line 1)) (4.8.0.76)\n",
      "Requirement already satisfied: pillow>=7.1.2 in /usr/local/lib/python3.10/dist-packages (from ultralytics->-r requirements.txt (line 1)) (9.3.0)\n",
      "Requirement already satisfied: pyyaml>=5.3.1 in /usr/local/lib/python3.10/dist-packages (from ultralytics->-r requirements.txt (line 1)) (6.0)\n",
      "Requirement already satisfied: requests>=2.23.0 in /usr/local/lib/python3.10/dist-packages (from ultralytics->-r requirements.txt (line 1)) (2.28.1)\n",
      "Requirement already satisfied: scipy>=1.4.1 in /usr/local/lib/python3.10/dist-packages (from ultralytics->-r requirements.txt (line 1)) (1.11.2)\n",
      "Requirement already satisfied: torch>=1.8.0 in /usr/local/lib/python3.10/dist-packages (from ultralytics->-r requirements.txt (line 1)) (2.0.1+cu118)\n",
      "Requirement already satisfied: torchvision>=0.9.0 in /usr/local/lib/python3.10/dist-packages (from ultralytics->-r requirements.txt (line 1)) (0.15.2+cu118)\n",
      "Requirement already satisfied: tqdm>=4.64.0 in /usr/local/lib/python3.10/dist-packages (from ultralytics->-r requirements.txt (line 1)) (4.66.1)\n",
      "Requirement already satisfied: pandas>=1.1.4 in /usr/local/lib/python3.10/dist-packages (from ultralytics->-r requirements.txt (line 1)) (2.0.3)\n",
      "Requirement already satisfied: seaborn>=0.11.0 in /usr/local/lib/python3.10/dist-packages (from ultralytics->-r requirements.txt (line 1)) (0.12.2)\n",
      "Requirement already satisfied: psutil in /usr/local/lib/python3.10/dist-packages (from ultralytics->-r requirements.txt (line 1)) (5.9.5)\n",
      "Requirement already satisfied: py-cpuinfo in /usr/local/lib/python3.10/dist-packages (from ultralytics->-r requirements.txt (line 1)) (9.0.0)\n",
      "Requirement already satisfied: six>=1.10 in /usr/lib/python3/dist-packages (from kaggle->-r requirements.txt (line 2)) (1.16.0)\n",
      "Requirement already satisfied: certifi in /usr/local/lib/python3.10/dist-packages (from kaggle->-r requirements.txt (line 2)) (2022.12.7)\n",
      "Requirement already satisfied: python-dateutil in /usr/local/lib/python3.10/dist-packages (from kaggle->-r requirements.txt (line 2)) (2.8.2)\n",
      "Requirement already satisfied: python-slugify in /usr/local/lib/python3.10/dist-packages (from kaggle->-r requirements.txt (line 2)) (8.0.1)\n",
      "Requirement already satisfied: urllib3 in /usr/local/lib/python3.10/dist-packages (from kaggle->-r requirements.txt (line 2)) (1.26.13)\n",
      "Requirement already satisfied: bleach in /usr/local/lib/python3.10/dist-packages (from kaggle->-r requirements.txt (line 2)) (6.0.0)\n",
      "Requirement already satisfied: contourpy>=1.0.1 in /usr/local/lib/python3.10/dist-packages (from matplotlib>=3.2.2->ultralytics->-r requirements.txt (line 1)) (1.1.0)\n",
      "Requirement already satisfied: cycler>=0.10 in /usr/local/lib/python3.10/dist-packages (from matplotlib>=3.2.2->ultralytics->-r requirements.txt (line 1)) (0.11.0)\n",
      "Requirement already satisfied: fonttools>=4.22.0 in /usr/local/lib/python3.10/dist-packages (from matplotlib>=3.2.2->ultralytics->-r requirements.txt (line 1)) (4.42.1)\n",
      "Requirement already satisfied: kiwisolver>=1.0.1 in /usr/local/lib/python3.10/dist-packages (from matplotlib>=3.2.2->ultralytics->-r requirements.txt (line 1)) (1.4.5)\n",
      "Requirement already satisfied: packaging>=20.0 in /usr/local/lib/python3.10/dist-packages (from matplotlib>=3.2.2->ultralytics->-r requirements.txt (line 1)) (23.1)\n",
      "Requirement already satisfied: pyparsing<3.1,>=2.3.1 in /usr/lib/python3/dist-packages (from matplotlib>=3.2.2->ultralytics->-r requirements.txt (line 1)) (2.4.7)\n",
      "Requirement already satisfied: pytz>=2020.1 in /usr/local/lib/python3.10/dist-packages (from pandas>=1.1.4->ultralytics->-r requirements.txt (line 1)) (2023.3)\n",
      "Requirement already satisfied: tzdata>=2022.1 in /usr/local/lib/python3.10/dist-packages (from pandas>=1.1.4->ultralytics->-r requirements.txt (line 1)) (2023.3)\n",
      "Requirement already satisfied: charset-normalizer<3,>=2 in /usr/local/lib/python3.10/dist-packages (from requests>=2.23.0->ultralytics->-r requirements.txt (line 1)) (2.1.1)\n",
      "Requirement already satisfied: idna<4,>=2.5 in /usr/local/lib/python3.10/dist-packages (from requests>=2.23.0->ultralytics->-r requirements.txt (line 1)) (3.4)\n",
      "Requirement already satisfied: filelock in /usr/local/lib/python3.10/dist-packages (from torch>=1.8.0->ultralytics->-r requirements.txt (line 1)) (3.9.0)\n",
      "Requirement already satisfied: typing-extensions in /usr/local/lib/python3.10/dist-packages (from torch>=1.8.0->ultralytics->-r requirements.txt (line 1)) (4.4.0)\n",
      "Requirement already satisfied: sympy in /usr/local/lib/python3.10/dist-packages (from torch>=1.8.0->ultralytics->-r requirements.txt (line 1)) (1.11.1)\n",
      "Requirement already satisfied: networkx in /usr/local/lib/python3.10/dist-packages (from torch>=1.8.0->ultralytics->-r requirements.txt (line 1)) (3.0)\n",
      "Requirement already satisfied: jinja2 in /usr/local/lib/python3.10/dist-packages (from torch>=1.8.0->ultralytics->-r requirements.txt (line 1)) (3.1.2)\n",
      "Requirement already satisfied: triton==2.0.0 in /usr/local/lib/python3.10/dist-packages (from torch>=1.8.0->ultralytics->-r requirements.txt (line 1)) (2.0.0)\n",
      "Requirement already satisfied: cmake in /usr/local/lib/python3.10/dist-packages (from triton==2.0.0->torch>=1.8.0->ultralytics->-r requirements.txt (line 1)) (3.25.0)\n",
      "Requirement already satisfied: lit in /usr/local/lib/python3.10/dist-packages (from triton==2.0.0->torch>=1.8.0->ultralytics->-r requirements.txt (line 1)) (15.0.7)\n",
      "Requirement already satisfied: webencodings in /usr/local/lib/python3.10/dist-packages (from bleach->kaggle->-r requirements.txt (line 2)) (0.5.1)\n",
      "Requirement already satisfied: text-unidecode>=1.3 in /usr/local/lib/python3.10/dist-packages (from python-slugify->kaggle->-r requirements.txt (line 2)) (1.3)\n",
      "Requirement already satisfied: MarkupSafe>=2.0 in /usr/local/lib/python3.10/dist-packages (from jinja2->torch>=1.8.0->ultralytics->-r requirements.txt (line 1)) (2.1.2)\n",
      "Requirement already satisfied: mpmath>=0.19 in /usr/local/lib/python3.10/dist-packages (from sympy->torch>=1.8.0->ultralytics->-r requirements.txt (line 1)) (1.2.1)\n",
      "\u001b[33mWARNING: Running pip as the 'root' user can result in broken permissions and conflicting behaviour with the system package manager. It is recommended to use a virtual environment instead: https://pip.pypa.io/warnings/venv\u001b[0m\u001b[33m\n",
      "\u001b[0m\n",
      "\u001b[1m[\u001b[0m\u001b[34;49mnotice\u001b[0m\u001b[1;39;49m]\u001b[0m\u001b[39;49m A new release of pip is available: \u001b[0m\u001b[31;49m23.1.2\u001b[0m\u001b[39;49m -> \u001b[0m\u001b[32;49m23.2.1\u001b[0m\n",
      "\u001b[1m[\u001b[0m\u001b[34;49mnotice\u001b[0m\u001b[1;39;49m]\u001b[0m\u001b[39;49m To update, run: \u001b[0m\u001b[32;49mpython -m pip install --upgrade pip\u001b[0m\n"
     ]
    }
   ],
   "source": [
    "!pip install -r requirements.txt"
   ]
  },
  {
   "cell_type": "code",
   "execution_count": 2,
   "metadata": {},
   "outputs": [
    {
     "name": "stdout",
     "output_type": "stream",
     "text": [
      "Hit:1 http://archive.ubuntu.com/ubuntu jammy InRelease\n",
      "Hit:2 http://archive.ubuntu.com/ubuntu jammy-updates InRelease                 \n",
      "Hit:3 http://archive.ubuntu.com/ubuntu jammy-backports InRelease               \n",
      "Hit:4 https://ppa.launchpadcontent.net/deadsnakes/ppa/ubuntu jammy InRelease   \n",
      "Hit:5 https://developer.download.nvidia.com/compute/cuda/repos/ubuntu2204/x86_64  InRelease\n",
      "Hit:6 http://security.ubuntu.com/ubuntu jammy-security InRelease           \n",
      "Reading package lists... Done\n",
      "Reading package lists... Done\n",
      "Building dependency tree... Done\n",
      "Reading state information... Done\n",
      "unzip is already the newest version (6.0-26ubuntu3.1).\n",
      "0 upgraded, 0 newly installed, 0 to remove and 59 not upgraded.\n"
     ]
    }
   ],
   "source": [
    "!apt-get update\n",
    "!apt-get install unzip"
   ]
  },
  {
   "cell_type": "code",
   "execution_count": 4,
   "metadata": {},
   "outputs": [],
   "source": [
    "import os\n",
    "from getpass import getpass\n",
    "from kaggle.api.kaggle_api_extended import KaggleApi\n",
    "\n",
    "import pandas as pd\n",
    "import shutil\n",
    "from tqdm.auto import tqdm\n",
    "import ast\n",
    "import pybboxes as pbx\n",
    "\n",
    "import ultralytics\n",
    "from ultralytics import YOLO\n",
    "\n",
    "import random"
   ]
  },
  {
   "cell_type": "code",
   "execution_count": 5,
   "metadata": {},
   "outputs": [],
   "source": [
    "os.environ['KAGGLE_USERNAME'] = input()\n",
    "os.environ['KAGGLE_KEY'] = getpass()"
   ]
  },
  {
   "cell_type": "code",
   "execution_count": 6,
   "metadata": {},
   "outputs": [],
   "source": [
    "api = KaggleApi()\n",
    "api.authenticate()"
   ]
  },
  {
   "cell_type": "code",
   "execution_count": 34,
   "metadata": {},
   "outputs": [
    {
     "name": "stdout",
     "output_type": "stream",
     "text": [
      "Downloading v2-balloon-detection-dataset.zip to /workspace/object-detection-balloons\n",
      " 95%|████████████████████████████████████  | 45.0M/47.5M [00:01<00:00, 43.7MB/s]\n",
      "100%|██████████████████████████████████████| 47.5M/47.5M [00:01<00:00, 29.2MB/s]\n",
      "Archive:  /workspace/object-detection-balloons/v2-balloon-detection-dataset.zip\n",
      "  inflating: ./datasets/balloons/Arial.ttf  \n",
      "  inflating: ./datasets/balloons/balloon-data.csv  \n",
      "  inflating: ./datasets/balloons/images/10464445726_6f1e3bbe6a_k.jpg  \n",
      "  inflating: ./datasets/balloons/images/12037308314_e16fb3a0f7_k.jpg  \n",
      "  inflating: ./datasets/balloons/images/120853323_d4788431b9_b.jpg  \n",
      "  inflating: ./datasets/balloons/images/12288043903_fe1ea17a4e_k.jpg  \n",
      "  inflating: ./datasets/balloons/images/12288355124_5e340d3de3_k.jpg  \n",
      "  inflating: ./datasets/balloons/images/12288446656_2c6a90e6f5_k.jpg  \n",
      "  inflating: ./datasets/balloons/images/126700562_8e27720147_b.jpg  \n",
      "  inflating: ./datasets/balloons/images/1297451346_5b92bdac08_b.jpg  \n",
      "  inflating: ./datasets/balloons/images/14321263043_b76ef054d3_k.jpg  \n",
      "  inflating: ./datasets/balloons/images/145053828_e0e748717c_b.jpg  \n",
      "  inflating: ./datasets/balloons/images/14666848163_8be8e37562_k.jpg  \n",
      "  inflating: ./datasets/balloons/images/14898532020_ba6199dd22_k.jpg  \n",
      "  inflating: ./datasets/balloons/images/15290896925_884ab33fd3_k.jpg  \n",
      "  inflating: ./datasets/balloons/images/15331928994_d5b82eb368_k.jpg  \n",
      "  inflating: ./datasets/balloons/images/154446334_5d41cd1375_b.jpg  \n",
      "  inflating: ./datasets/balloons/images/155815494_800fc9aa32_b.jpg  \n",
      "  inflating: ./datasets/balloons/images/15717689633_5f7f78c28e_k.jpg  \n",
      "  inflating: ./datasets/balloons/images/16335852991_f55de7958d_k.jpg  \n",
      "  inflating: ./datasets/balloons/images/16435593892_2aa8118f4a_k.jpg  \n",
      "  inflating: ./datasets/balloons/images/17156759330_5af4f5a5b8_k.jpg  \n",
      "  inflating: ./datasets/balloons/images/17178818589_16e58fc1e5_k.jpg  \n",
      "  inflating: ./datasets/balloons/images/18849792632_aad23ad513_k.jpg  \n",
      "  inflating: ./datasets/balloons/images/2311771643_f46392fcc0_b.jpg  \n",
      "  inflating: ./datasets/balloons/images/2354829160_3f65a6bf6f_b.jpg  \n",
      "  inflating: ./datasets/balloons/images/2385899600_94b68350af_b.jpg  \n",
      "  inflating: ./datasets/balloons/images/24362039530_b151b41a52_k.jpg  \n",
      "  inflating: ./datasets/balloons/images/24631331976_defa3bb61f_k.jpg  \n",
      "  inflating: ./datasets/balloons/images/25899693952_7c8b8b9edc_k.jpg  \n",
      "  inflating: ./datasets/balloons/images/2685563244_b0d5f7eb67_b.jpg  \n",
      "  inflating: ./datasets/balloons/images/2917282960_06beee649a_b.jpg  \n",
      "  inflating: ./datasets/balloons/images/2937599387_80e7d6e050_b.jpg  \n",
      "  inflating: ./datasets/balloons/images/321888854_3723b6f10b_b.jpg  \n",
      "  inflating: ./datasets/balloons/images/332344155_71be3a3b22_b.jpg  \n",
      "  inflating: ./datasets/balloons/images/3342804367_f43682bb80_b.jpg  \n",
      "  inflating: ./datasets/balloons/images/34020010494_e5cb88e1c4_k.jpg  \n",
      "  inflating: ./datasets/balloons/images/351678851_e2aeebdafd_b.jpg  \n",
      "  inflating: ./datasets/balloons/images/3646097131_e3e1215843_b.jpg  \n",
      "  inflating: ./datasets/balloons/images/3800636873_ace2c2795f_b.jpg  \n",
      "  inflating: ./datasets/balloons/images/3825919971_93fb1ec581_b.jpg  \n",
      "  inflating: ./datasets/balloons/images/3927754171_9011487133_b.jpg  \n",
      "  inflating: ./datasets/balloons/images/3945575930_ce99a7e98d_b.jpg  \n",
      "  inflating: ./datasets/balloons/images/4057490235_2ffdf7d68b_b.jpg  \n",
      "  inflating: ./datasets/balloons/images/410488422_5f8991f26e_b.jpg  \n",
      "  inflating: ./datasets/balloons/images/4543126482_92254ef046_b.jpg  \n",
      "  inflating: ./datasets/balloons/images/4552737035_3a0a4105fb_b.jpg  \n",
      "  inflating: ./datasets/balloons/images/4581425993_72b9b15fc0_b.jpg  \n",
      "  inflating: ./datasets/balloons/images/4838031651_3e7b5ea5c7_b.jpg  \n",
      "  inflating: ./datasets/balloons/images/485227412_e335662bb5_b.jpg  \n",
      "  inflating: ./datasets/balloons/images/4864857993_edb62f16ef_b.jpg  \n",
      "  inflating: ./datasets/balloons/images/4887227769_acd2e6127d_b.jpg  \n",
      "  inflating: ./datasets/balloons/images/489752654_777853a0ba_b.jpg  \n",
      "  inflating: ./datasets/balloons/images/4955354786_337a598e4a_b.jpg  \n",
      "  inflating: ./datasets/balloons/images/5013250607_26359229b6_b.jpg  \n",
      "  inflating: ./datasets/balloons/images/5178670692_63a4365c9c_b.jpg  \n",
      "  inflating: ./datasets/balloons/images/518678836_94d58e3839_b.jpg  \n",
      "  inflating: ./datasets/balloons/images/5253122239_38b1e7f61c_b.jpg  \n",
      "  inflating: ./datasets/balloons/images/53500107_d24b11b3c2_b.jpg  \n",
      "  inflating: ./datasets/balloons/images/5555705118_3390d70abe_b.jpg  \n",
      "  inflating: ./datasets/balloons/images/5560377994_cb597a4af5_b.jpg  \n",
      "  inflating: ./datasets/balloons/images/5603212091_2dfe16ea72_b.jpg  \n",
      "  inflating: ./datasets/balloons/images/5674044810_2d9e2243ff_b.jpg  \n",
      "  inflating: ./datasets/balloons/images/605521662_a470fef77f_b.jpg  \n",
      "  inflating: ./datasets/balloons/images/6483318883_21facf57cd_b.jpg  \n",
      "  inflating: ./datasets/balloons/images/6810773040_3d81036d05_k.jpg  \n",
      "  inflating: ./datasets/balloons/images/699765866_abaad7274d_b.jpg  \n",
      "  inflating: ./datasets/balloons/images/7178882742_f090f3ce56_k.jpg  \n",
      "  inflating: ./datasets/balloons/images/7308740338_591f27b631_k.jpg  \n",
      "  inflating: ./datasets/balloons/images/7488015492_0583857ca0_k.jpg  \n",
      "  inflating: ./datasets/balloons/images/8053085540_a72bd21a64_k.jpg  \n",
      "  inflating: ./datasets/balloons/images/8436015314_3a678c1005_k.jpg  \n",
      "  inflating: ./datasets/balloons/images/873768102_7d931e5fa3_b.jpg  \n",
      "  inflating: ./datasets/balloons/images/8758393087_76fcd56bd3_k.jpg  \n",
      "  inflating: ./datasets/balloons/images/9210739293_2b0e0d991e_k.jpg  \n",
      "  inflating: ./datasets/balloons/images/9330497995_4cf0438cb6_k.jpg  \n",
      "  inflating: ./datasets/balloons/yolov5/.dockerignore  \n",
      "  inflating: ./datasets/balloons/yolov5/.git/HEAD  \n",
      "  inflating: ./datasets/balloons/yolov5/.git/config  \n",
      "  inflating: ./datasets/balloons/yolov5/.git/description  \n",
      "  inflating: ./datasets/balloons/yolov5/.git/hooks/applypatch-msg.sample  \n",
      "  inflating: ./datasets/balloons/yolov5/.git/hooks/commit-msg.sample  \n",
      "  inflating: ./datasets/balloons/yolov5/.git/hooks/fsmonitor-watchman.sample  \n",
      "  inflating: ./datasets/balloons/yolov5/.git/hooks/post-update.sample  \n",
      "  inflating: ./datasets/balloons/yolov5/.git/hooks/pre-applypatch.sample  \n",
      "  inflating: ./datasets/balloons/yolov5/.git/hooks/pre-commit.sample  \n",
      "  inflating: ./datasets/balloons/yolov5/.git/hooks/pre-push.sample  \n",
      "  inflating: ./datasets/balloons/yolov5/.git/hooks/pre-rebase.sample  \n",
      "  inflating: ./datasets/balloons/yolov5/.git/hooks/pre-receive.sample  \n",
      "  inflating: ./datasets/balloons/yolov5/.git/hooks/prepare-commit-msg.sample  \n",
      "  inflating: ./datasets/balloons/yolov5/.git/hooks/update.sample  \n",
      "  inflating: ./datasets/balloons/yolov5/.git/index  \n",
      "  inflating: ./datasets/balloons/yolov5/.git/info/exclude  \n",
      "  inflating: ./datasets/balloons/yolov5/.git/logs/HEAD  \n",
      "  inflating: ./datasets/balloons/yolov5/.git/logs/refs/heads/master  \n",
      "  inflating: ./datasets/balloons/yolov5/.git/logs/refs/remotes/origin/HEAD  \n",
      "  inflating: ./datasets/balloons/yolov5/.git/objects/pack/pack-24b2b4c80f343696c57ebd27c063a261e7bc3f67.idx  \n",
      "  inflating: ./datasets/balloons/yolov5/.git/objects/pack/pack-24b2b4c80f343696c57ebd27c063a261e7bc3f67.pack  \n",
      "  inflating: ./datasets/balloons/yolov5/.git/packed-refs  \n",
      "  inflating: ./datasets/balloons/yolov5/.git/refs/heads/master  \n",
      "  inflating: ./datasets/balloons/yolov5/.git/refs/remotes/origin/HEAD  \n",
      "  inflating: ./datasets/balloons/yolov5/.gitattributes  \n",
      "  inflating: ./datasets/balloons/yolov5/.github/FUNDING.yml  \n",
      "  inflating: ./datasets/balloons/yolov5/.github/ISSUE_TEMPLATE/bug-report.md  \n",
      "  inflating: ./datasets/balloons/yolov5/.github/ISSUE_TEMPLATE/feature-request.md  \n",
      "  inflating: ./datasets/balloons/yolov5/.github/ISSUE_TEMPLATE/question.md  \n",
      "  inflating: ./datasets/balloons/yolov5/.github/dependabot.yml  \n",
      "  inflating: ./datasets/balloons/yolov5/.github/workflows/ci-testing.yml  \n",
      "  inflating: ./datasets/balloons/yolov5/.github/workflows/codeql-analysis.yml  \n",
      "  inflating: ./datasets/balloons/yolov5/.github/workflows/greetings.yml  \n",
      "  inflating: ./datasets/balloons/yolov5/.github/workflows/rebase.yml  \n",
      "  inflating: ./datasets/balloons/yolov5/.github/workflows/stale.yml  \n",
      "  inflating: ./datasets/balloons/yolov5/.gitignore  \n",
      "  inflating: ./datasets/balloons/yolov5/CONTRIBUTING.md  \n",
      "  inflating: ./datasets/balloons/yolov5/Dockerfile  \n",
      "  inflating: ./datasets/balloons/yolov5/LICENSE  \n",
      "  inflating: ./datasets/balloons/yolov5/README.md  \n",
      "  inflating: ./datasets/balloons/yolov5/data/Argoverse_HD.yaml  \n",
      "  inflating: ./datasets/balloons/yolov5/data/GlobalWheat2020.yaml  \n",
      "  inflating: ./datasets/balloons/yolov5/data/Objects365.yaml  \n",
      "  inflating: ./datasets/balloons/yolov5/data/SKU-110K.yaml  \n",
      "  inflating: ./datasets/balloons/yolov5/data/VOC.yaml  \n",
      "  inflating: ./datasets/balloons/yolov5/data/VisDrone.yaml  \n",
      "  inflating: ./datasets/balloons/yolov5/data/coco.yaml  \n",
      "  inflating: ./datasets/balloons/yolov5/data/coco128.yaml  \n",
      "  inflating: ./datasets/balloons/yolov5/data/hyps/hyp.finetune.yaml  \n",
      "  inflating: ./datasets/balloons/yolov5/data/hyps/hyp.finetune_objects365.yaml  \n",
      "  inflating: ./datasets/balloons/yolov5/data/hyps/hyp.scratch-p6.yaml  \n",
      "  inflating: ./datasets/balloons/yolov5/data/hyps/hyp.scratch.yaml  \n",
      "  inflating: ./datasets/balloons/yolov5/data/images/bus.jpg  \n",
      "  inflating: ./datasets/balloons/yolov5/data/images/zidane.jpg  \n",
      "  inflating: ./datasets/balloons/yolov5/data/scripts/download_weights.sh  \n",
      "  inflating: ./datasets/balloons/yolov5/data/scripts/get_coco.sh  \n",
      "  inflating: ./datasets/balloons/yolov5/data/scripts/get_coco128.sh  \n",
      "  inflating: ./datasets/balloons/yolov5/data/xView.yaml  \n",
      "  inflating: ./datasets/balloons/yolov5/detect.py  \n",
      "  inflating: ./datasets/balloons/yolov5/export.py  \n",
      "  inflating: ./datasets/balloons/yolov5/hubconf.py  \n",
      "  inflating: ./datasets/balloons/yolov5/models/__init__.py  \n",
      "  inflating: ./datasets/balloons/yolov5/models/common.py  \n",
      "  inflating: ./datasets/balloons/yolov5/models/experimental.py  \n",
      "  inflating: ./datasets/balloons/yolov5/models/hub/anchors.yaml  \n",
      "  inflating: ./datasets/balloons/yolov5/models/hub/yolov3-spp.yaml  \n",
      "  inflating: ./datasets/balloons/yolov5/models/hub/yolov3-tiny.yaml  \n",
      "  inflating: ./datasets/balloons/yolov5/models/hub/yolov3.yaml  \n",
      "  inflating: ./datasets/balloons/yolov5/models/hub/yolov5-fpn.yaml  \n",
      "  inflating: ./datasets/balloons/yolov5/models/hub/yolov5-p2.yaml  \n",
      "  inflating: ./datasets/balloons/yolov5/models/hub/yolov5-p6.yaml  \n",
      "  inflating: ./datasets/balloons/yolov5/models/hub/yolov5-p7.yaml  \n",
      "  inflating: ./datasets/balloons/yolov5/models/hub/yolov5-panet.yaml  \n",
      "  inflating: ./datasets/balloons/yolov5/models/hub/yolov5l6.yaml  \n",
      "  inflating: ./datasets/balloons/yolov5/models/hub/yolov5m6.yaml  \n",
      "  inflating: ./datasets/balloons/yolov5/models/hub/yolov5s-transformer.yaml  \n",
      "  inflating: ./datasets/balloons/yolov5/models/hub/yolov5s6.yaml  \n",
      "  inflating: ./datasets/balloons/yolov5/models/hub/yolov5x6.yaml  \n",
      "  inflating: ./datasets/balloons/yolov5/models/yolo.py  \n",
      "  inflating: ./datasets/balloons/yolov5/models/yolov5l.yaml  \n",
      "  inflating: ./datasets/balloons/yolov5/models/yolov5m.yaml  \n",
      "  inflating: ./datasets/balloons/yolov5/models/yolov5s.yaml  \n",
      "  inflating: ./datasets/balloons/yolov5/models/yolov5x.yaml  \n",
      "  inflating: ./datasets/balloons/yolov5/requirements.txt  \n",
      "  inflating: ./datasets/balloons/yolov5/test.py  \n",
      "  inflating: ./datasets/balloons/yolov5/train.py  \n",
      "  inflating: ./datasets/balloons/yolov5/tutorial.ipynb  \n",
      "  inflating: ./datasets/balloons/yolov5/utils/__init__.py  \n",
      "  inflating: ./datasets/balloons/yolov5/utils/activations.py  \n",
      "  inflating: ./datasets/balloons/yolov5/utils/autoanchor.py  \n",
      "  inflating: ./datasets/balloons/yolov5/utils/aws/__init__.py  \n",
      "  inflating: ./datasets/balloons/yolov5/utils/aws/mime.sh  \n",
      "  inflating: ./datasets/balloons/yolov5/utils/aws/resume.py  \n",
      "  inflating: ./datasets/balloons/yolov5/utils/aws/userdata.sh  \n",
      "  inflating: ./datasets/balloons/yolov5/utils/datasets.py  \n",
      "  inflating: ./datasets/balloons/yolov5/utils/flask_rest_api/README.md  \n",
      "  inflating: ./datasets/balloons/yolov5/utils/flask_rest_api/example_request.py  \n",
      "  inflating: ./datasets/balloons/yolov5/utils/flask_rest_api/restapi.py  \n",
      "  inflating: ./datasets/balloons/yolov5/utils/general.py  \n",
      "  inflating: ./datasets/balloons/yolov5/utils/google_app_engine/Dockerfile  \n",
      "  inflating: ./datasets/balloons/yolov5/utils/google_app_engine/additional_requirements.txt  \n",
      "  inflating: ./datasets/balloons/yolov5/utils/google_app_engine/app.yaml  \n",
      "  inflating: ./datasets/balloons/yolov5/utils/google_utils.py  \n",
      "  inflating: ./datasets/balloons/yolov5/utils/loss.py  \n",
      "  inflating: ./datasets/balloons/yolov5/utils/metrics.py  \n",
      "  inflating: ./datasets/balloons/yolov5/utils/plots.py  \n",
      "  inflating: ./datasets/balloons/yolov5/utils/torch_utils.py  \n",
      "  inflating: ./datasets/balloons/yolov5/utils/wandb_logging/__init__.py  \n",
      "  inflating: ./datasets/balloons/yolov5/utils/wandb_logging/log_dataset.py  \n",
      "  inflating: ./datasets/balloons/yolov5/utils/wandb_logging/wandb_utils.py  \n"
     ]
    }
   ],
   "source": [
    "!kaggle datasets download -d vbookshelf/v2-balloon-detection-dataset\n",
    "!mkdir ./datasets\n",
    "!unzip /workspace/object-detection-balloons/v2-balloon-detection-dataset.zip -d ./datasets/balloons\n",
    "!rm -rf /workspace/object-detection-balloons/v2-balloon-detection-dataset.zip"
   ]
  },
  {
   "cell_type": "code",
   "execution_count": 35,
   "metadata": {},
   "outputs": [
    {
     "name": "stdout",
     "output_type": "stream",
     "text": [
      "(74, 5)\n"
     ]
    },
    {
     "data": {
      "text/html": [
       "<div>\n",
       "<style scoped>\n",
       "    .dataframe tbody tr th:only-of-type {\n",
       "        vertical-align: middle;\n",
       "    }\n",
       "\n",
       "    .dataframe tbody tr th {\n",
       "        vertical-align: top;\n",
       "    }\n",
       "\n",
       "    .dataframe thead th {\n",
       "        text-align: right;\n",
       "    }\n",
       "</style>\n",
       "<table border=\"1\" class=\"dataframe\">\n",
       "  <thead>\n",
       "    <tr style=\"text-align: right;\">\n",
       "      <th></th>\n",
       "      <th>fname</th>\n",
       "      <th>height</th>\n",
       "      <th>width</th>\n",
       "      <th>bbox</th>\n",
       "      <th>num_balloons</th>\n",
       "    </tr>\n",
       "  </thead>\n",
       "  <tbody>\n",
       "    <tr>\n",
       "      <th>0</th>\n",
       "      <td>34020010494_e5cb88e1c4_k.jpg</td>\n",
       "      <td>1536</td>\n",
       "      <td>2048</td>\n",
       "      <td>[{'xmin': 994, 'ymin': 619, 'xmax': 1445, 'yma...</td>\n",
       "      <td>1</td>\n",
       "    </tr>\n",
       "    <tr>\n",
       "      <th>1</th>\n",
       "      <td>25899693952_7c8b8b9edc_k.jpg</td>\n",
       "      <td>1365</td>\n",
       "      <td>2048</td>\n",
       "      <td>[{'xmin': 135, 'ymin': 115, 'xmax': 811, 'ymax...</td>\n",
       "      <td>1</td>\n",
       "    </tr>\n",
       "    <tr>\n",
       "      <th>2</th>\n",
       "      <td>24362039530_b151b41a52_k.jpg</td>\n",
       "      <td>2048</td>\n",
       "      <td>1536</td>\n",
       "      <td>[{'xmin': 579, 'ymin': 487, 'xmax': 920, 'ymax...</td>\n",
       "      <td>1</td>\n",
       "    </tr>\n",
       "    <tr>\n",
       "      <th>3</th>\n",
       "      <td>18849792632_aad23ad513_k.jpg</td>\n",
       "      <td>2048</td>\n",
       "      <td>1536</td>\n",
       "      <td>[{'xmin': 534, 'ymin': 365, 'xmax': 871, 'ymax...</td>\n",
       "      <td>10</td>\n",
       "    </tr>\n",
       "    <tr>\n",
       "      <th>4</th>\n",
       "      <td>17178818589_16e58fc1e5_k.jpg</td>\n",
       "      <td>1536</td>\n",
       "      <td>2048</td>\n",
       "      <td>[{'xmin': 748, 'ymin': 195, 'xmax': 1425, 'yma...</td>\n",
       "      <td>7</td>\n",
       "    </tr>\n",
       "  </tbody>\n",
       "</table>\n",
       "</div>"
      ],
      "text/plain": [
       "                          fname  height  width  \\\n",
       "0  34020010494_e5cb88e1c4_k.jpg    1536   2048   \n",
       "1  25899693952_7c8b8b9edc_k.jpg    1365   2048   \n",
       "2  24362039530_b151b41a52_k.jpg    2048   1536   \n",
       "3  18849792632_aad23ad513_k.jpg    2048   1536   \n",
       "4  17178818589_16e58fc1e5_k.jpg    1536   2048   \n",
       "\n",
       "                                                bbox  num_balloons  \n",
       "0  [{'xmin': 994, 'ymin': 619, 'xmax': 1445, 'yma...             1  \n",
       "1  [{'xmin': 135, 'ymin': 115, 'xmax': 811, 'ymax...             1  \n",
       "2  [{'xmin': 579, 'ymin': 487, 'xmax': 920, 'ymax...             1  \n",
       "3  [{'xmin': 534, 'ymin': 365, 'xmax': 871, 'ymax...            10  \n",
       "4  [{'xmin': 748, 'ymin': 195, 'xmax': 1425, 'yma...             7  "
      ]
     },
     "execution_count": 35,
     "metadata": {},
     "output_type": "execute_result"
    }
   ],
   "source": [
    "csv_url = \"/workspace/object-detection-balloons/datasets/balloons/balloon-data.csv\"\n",
    "balloon_df = pd.read_csv(csv_url)\n",
    "print(balloon_df.shape)\n",
    "balloon_df.head()"
   ]
  },
  {
   "cell_type": "markdown",
   "metadata": {},
   "source": [
    "## Train-Test split"
   ]
  },
  {
   "cell_type": "code",
   "execution_count": 36,
   "metadata": {},
   "outputs": [],
   "source": [
    "random.seed(2077)\n",
    "\n",
    "balloon_df[\"is_val\"] = [random.uniform(0, 1) <= 0.2 for _ in range(len(balloon_df))]"
   ]
  },
  {
   "cell_type": "code",
   "execution_count": 37,
   "metadata": {},
   "outputs": [
    {
     "data": {
      "text/plain": [
       "(16, 6)"
      ]
     },
     "execution_count": 37,
     "metadata": {},
     "output_type": "execute_result"
    }
   ],
   "source": [
    "balloon_df.loc[balloon_df[\"is_val\"] == True].shape"
   ]
  },
  {
   "cell_type": "code",
   "execution_count": 38,
   "metadata": {},
   "outputs": [],
   "source": [
    "os.rename(\"/workspace/object-detection-balloons/datasets/balloons/images\", \"/workspace/object-detection-balloons/datasets/balloons/train\")\n",
    "os.makedirs(\"/workspace/object-detection-balloons/datasets/balloons/images\", exist_ok=True)\n",
    "shutil.move(\"/workspace/object-detection-balloons/datasets/balloons/train\", \"/workspace/object-detection-balloons/datasets/balloons/images/train\")\n",
    "\n",
    "os.makedirs(\"/workspace/object-detection-balloons/datasets/balloons/labels/train\", exist_ok=True)\n",
    "\n",
    "img_val_dir = \"/workspace/object-detection-balloons/datasets/balloons/images/val\"\n",
    "os.mkdir(img_val_dir)\n",
    "\n",
    "lbs_val_dir = \"/workspace/object-detection-balloons/datasets/balloons/labels/val\"\n",
    "os.mkdir(lbs_val_dir)"
   ]
  },
  {
   "cell_type": "code",
   "execution_count": 39,
   "metadata": {},
   "outputs": [],
   "source": [
    "for i, row in balloon_df.loc[balloon_df[\"is_val\"] == True].iterrows():\n",
    "    src_path = os.path.join(\"/workspace/object-detection-balloons/datasets/balloons/images/train\", row[\"fname\"])\n",
    "    dst_path = os.path.join(\"/workspace/object-detection-balloons/datasets/balloons/images/val\", row[\"fname\"])\n",
    "    shutil.move(src_path, dst_path)"
   ]
  },
  {
   "cell_type": "code",
   "execution_count": 40,
   "metadata": {},
   "outputs": [],
   "source": [
    "def create_yolo_labels(row):\n",
    "    dir = \"/workspace/object-detection-balloons/datasets/balloons/labels/train/\"\n",
    "    bboxes = ast.literal_eval(row[\"bbox\"])\n",
    "    for bbox in bboxes:\n",
    "        bbox = bbox.values()\n",
    "        w, h = row[\"width\"], row[\"height\"]\n",
    "        bbox_yolo = pbx.convert_bbox(bbox, from_type=\"voc\", to_type=\"yolo\", image_size=(w, h))\n",
    "        bbox_yolo = \" \".join([str(bb) for bb in bbox_yolo])\n",
    "        file_path = dir + row[\"fname\"].replace(\".jpg\", \".txt\")\n",
    "        with open(file_path, \"a\") as f:\n",
    "            f.write(f\"0 {bbox_yolo}\\n\")\n",
    "\n",
    "# create_yolo_labels(balloon_df.iloc[0])"
   ]
  },
  {
   "cell_type": "code",
   "execution_count": 41,
   "metadata": {},
   "outputs": [
    {
     "data": {
      "application/vnd.jupyter.widget-view+json": {
       "model_id": "4c699310c9fd49fb8a8fbc5bbb4cb816",
       "version_major": 2,
       "version_minor": 0
      },
      "text/plain": [
       "0it [00:00, ?it/s]"
      ]
     },
     "metadata": {},
     "output_type": "display_data"
    }
   ],
   "source": [
    "for i, row in tqdm(balloon_df.iterrows()):\n",
    "    create_yolo_labels(row)"
   ]
  },
  {
   "cell_type": "code",
   "execution_count": 42,
   "metadata": {},
   "outputs": [],
   "source": [
    "for i, row in balloon_df.loc[balloon_df[\"is_val\"] == True].iterrows():\n",
    "    src_path = os.path.join(\"/workspace/object-detection-balloons/datasets/balloons/labels/train\", row[\"fname\"].replace(\".jpg\", \".txt\"))\n",
    "    dst_path = os.path.join(\"/workspace/object-detection-balloons/datasets/balloons/labels/val\", row[\"fname\"].replace(\".jpg\", \".txt\"))\n",
    "    shutil.move(src_path, dst_path)"
   ]
  },
  {
   "cell_type": "code",
   "execution_count": 43,
   "metadata": {},
   "outputs": [
    {
     "name": "stderr",
     "output_type": "stream",
     "text": [
      "Ultralytics YOLOv8.0.166 🚀 Python-3.10.6 torch-2.0.1+cu118 CUDA:0 (NVIDIA GeForce RTX 3090, 24260MiB)\n",
      "Setup complete ✅ (64 CPUs, 251.6 GB RAM, 1.1/20.0 GB disk)\n"
     ]
    }
   ],
   "source": [
    "ultralytics.checks()"
   ]
  },
  {
   "cell_type": "markdown",
   "metadata": {},
   "source": [
    "## Baseline"
   ]
  },
  {
   "cell_type": "code",
   "execution_count": 44,
   "metadata": {},
   "outputs": [
    {
     "data": {
      "text/plain": [
       "['/workspace/object-detection-balloons/datasets/balloons/images/val/7178882742_f090f3ce56_k.jpg',\n",
       " '/workspace/object-detection-balloons/datasets/balloons/images/val/6483318883_21facf57cd_b.jpg',\n",
       " '/workspace/object-detection-balloons/datasets/balloons/images/val/5560377994_cb597a4af5_b.jpg']"
      ]
     },
     "execution_count": 44,
     "metadata": {},
     "output_type": "execute_result"
    }
   ],
   "source": [
    "img_path_base = \"/workspace/object-detection-balloons/datasets/balloons/images/val\"\n",
    "val_img_paths = [os.path.join(img_path_base, fname) for fname in os.listdir(img_path_base)]\n",
    "val_img_paths[:3]"
   ]
  },
  {
   "cell_type": "code",
   "execution_count": 45,
   "metadata": {},
   "outputs": [
    {
     "name": "stderr",
     "output_type": "stream",
     "text": [
      "\n"
     ]
    },
    {
     "name": "stderr",
     "output_type": "stream",
     "text": [
      "0: 640x640 9 persons, 1 bowl, 1 orange, 3 dining tables, 1: 640x640 6 persons, 1 bowl, 2: 640x640 6 persons, 1 bicycle, 3 kites, 3: 640x640 1 sports ball, 4: 640x640 2 apples, 5: 640x640 1 person, 1 frisbee, 1 bowl, 2 apples, 6: 640x640 2 kites, 7: 640x640 10 persons, 1 sports ball, 1 chair, 8: 640x640 2 kites, 9: 640x640 2 vases, 10: 640x640 1 person, 2 cars, 5 sports balls, 11: 640x640 2 sports balls, 12: 640x640 1 person, 1 traffic light, 13: 640x640 1 sports ball, 14: 640x640 5 persons, 1 motorcycle, 1 backpack, 15: 640x640 1 person, 2 sports balls, 1 kite, 34.5ms\n",
      "Speed: 2.3ms preprocess, 2.2ms inference, 0.9ms postprocess per image at shape (1, 3, 640, 640)\n",
      "Results saved to \u001b[1mpreds/baseline2\u001b[0m\n"
     ]
    }
   ],
   "source": [
    "yolo_base = YOLO('yolov8n.pt')\n",
    "preds = yolo_base.predict(val_img_paths, save=True, project=\"preds\", name=\"baseline\") "
   ]
  },
  {
   "cell_type": "markdown",
   "metadata": {},
   "source": [
    "## Finetuning"
   ]
  },
  {
   "cell_type": "code",
   "execution_count": 48,
   "metadata": {},
   "outputs": [
    {
     "name": "stderr",
     "output_type": "stream",
     "text": [
      "Ultralytics YOLOv8.0.166 🚀 Python-3.10.6 torch-2.0.1+cu118 CUDA:0 (NVIDIA GeForce RTX 3090, 24260MiB)\n",
      "\u001b[34m\u001b[1mengine/trainer: \u001b[0mtask=detect, mode=train, model=yolov8n.pt, data=/workspace/object-detection-balloons/balloons.yaml, epochs=25, patience=50, batch=16, imgsz=640, save=True, save_period=-1, cache=False, device=None, workers=8, project=None, name=None, exist_ok=False, pretrained=True, optimizer=auto, verbose=True, seed=0, deterministic=True, single_cls=False, rect=False, cos_lr=False, close_mosaic=10, resume=False, amp=True, fraction=1.0, profile=False, freeze=None, overlap_mask=True, mask_ratio=4, dropout=0.0, val=True, split=val, save_json=False, save_hybrid=False, conf=None, iou=0.7, max_det=300, half=False, dnn=False, plots=True, source=None, show=False, save_txt=False, save_conf=False, save_crop=False, show_labels=True, show_conf=True, vid_stride=1, stream_buffer=False, line_width=None, visualize=False, augment=False, agnostic_nms=False, classes=None, retina_masks=False, boxes=True, format=torchscript, keras=False, optimize=False, int8=False, dynamic=False, simplify=False, opset=None, workspace=4, nms=False, lr0=0.01, lrf=0.01, momentum=0.937, weight_decay=0.0005, warmup_epochs=3.0, warmup_momentum=0.8, warmup_bias_lr=0.1, box=7.5, cls=0.5, dfl=1.5, pose=12.0, kobj=1.0, label_smoothing=0.0, nbs=64, hsv_h=0.015, hsv_s=0.7, hsv_v=0.4, degrees=0.0, translate=0.1, scale=0.5, shear=0.0, perspective=0.0, flipud=0.0, fliplr=0.5, mosaic=1.0, mixup=0.0, copy_paste=0.0, cfg=None, tracker=botsort.yaml, save_dir=runs/detect/train6\n",
      "Overriding model.yaml nc=80 with nc=1\n",
      "\n",
      "                   from  n    params  module                                       arguments                     \n",
      "  0                  -1  1       464  ultralytics.nn.modules.conv.Conv             [3, 16, 3, 2]                 \n",
      "  1                  -1  1      4672  ultralytics.nn.modules.conv.Conv             [16, 32, 3, 2]                \n",
      "  2                  -1  1      7360  ultralytics.nn.modules.block.C2f             [32, 32, 1, True]             \n",
      "  3                  -1  1     18560  ultralytics.nn.modules.conv.Conv             [32, 64, 3, 2]                \n",
      "  4                  -1  2     49664  ultralytics.nn.modules.block.C2f             [64, 64, 2, True]             \n",
      "  5                  -1  1     73984  ultralytics.nn.modules.conv.Conv             [64, 128, 3, 2]               \n",
      "  6                  -1  2    197632  ultralytics.nn.modules.block.C2f             [128, 128, 2, True]           \n",
      "  7                  -1  1    295424  ultralytics.nn.modules.conv.Conv             [128, 256, 3, 2]              \n",
      "  8                  -1  1    460288  ultralytics.nn.modules.block.C2f             [256, 256, 1, True]           \n",
      "  9                  -1  1    164608  ultralytics.nn.modules.block.SPPF            [256, 256, 5]                 \n",
      " 10                  -1  1         0  torch.nn.modules.upsampling.Upsample         [None, 2, 'nearest']          \n",
      " 11             [-1, 6]  1         0  ultralytics.nn.modules.conv.Concat           [1]                           \n",
      " 12                  -1  1    148224  ultralytics.nn.modules.block.C2f             [384, 128, 1]                 \n",
      " 13                  -1  1         0  torch.nn.modules.upsampling.Upsample         [None, 2, 'nearest']          \n",
      " 14             [-1, 4]  1         0  ultralytics.nn.modules.conv.Concat           [1]                           \n",
      " 15                  -1  1     37248  ultralytics.nn.modules.block.C2f             [192, 64, 1]                  \n",
      " 16                  -1  1     36992  ultralytics.nn.modules.conv.Conv             [64, 64, 3, 2]                \n",
      " 17            [-1, 12]  1         0  ultralytics.nn.modules.conv.Concat           [1]                           \n",
      " 18                  -1  1    123648  ultralytics.nn.modules.block.C2f             [192, 128, 1]                 \n",
      " 19                  -1  1    147712  ultralytics.nn.modules.conv.Conv             [128, 128, 3, 2]              \n",
      " 20             [-1, 9]  1         0  ultralytics.nn.modules.conv.Concat           [1]                           \n",
      " 21                  -1  1    493056  ultralytics.nn.modules.block.C2f             [384, 256, 1]                 \n",
      " 22        [15, 18, 21]  1    751507  ultralytics.nn.modules.head.Detect           [1, [64, 128, 256]]           \n"
     ]
    },
    {
     "name": "stderr",
     "output_type": "stream",
     "text": [
      "Model summary: 225 layers, 3011043 parameters, 3011027 gradients\n",
      "\n",
      "Transferred 319/355 items from pretrained weights\n",
      "Freezing layer 'model.22.dfl.conv.weight'\n",
      "\u001b[34m\u001b[1mAMP: \u001b[0mrunning Automatic Mixed Precision (AMP) checks with YOLOv8n...\n",
      "\u001b[34m\u001b[1mAMP: \u001b[0mchecks passed ✅\n",
      "\u001b[34m\u001b[1mtrain: \u001b[0mScanning /workspace/object-detection-balloons/datasets/balloons/labels/train.cache... 58 images, 0 backgrounds, 0 corrupt: 100%|██████████| 58/58 [00:00<?, ?it/s]\n",
      "\u001b[34m\u001b[1mval: \u001b[0mScanning /workspace/object-detection-balloons/datasets/balloons/labels/train.cache... 58 images, 0 backgrounds, 0 corrupt: 100%|██████████| 58/58 [00:00<?, ?it/s]\n",
      "Plotting labels to runs/detect/train6/labels.jpg... \n",
      "\u001b[34m\u001b[1moptimizer:\u001b[0m AdamW(lr=0.002, momentum=0.9) with parameter groups 57 weight(decay=0.0), 64 weight(decay=0.0005), 63 bias(decay=0.0)\n",
      "Image sizes 640 train, 640 val\n",
      "Using 8 dataloader workers\n",
      "Logging results to \u001b[1mruns/detect/train6\u001b[0m\n",
      "Starting training for 25 epochs...\n",
      "\n",
      "      Epoch    GPU_mem   box_loss   cls_loss   dfl_loss  Instances       Size\n",
      "       1/25      2.44G     0.7754      3.194      1.123        150        640: 100%|██████████| 4/4 [00:00<00:00,  6.70it/s]\n",
      "                 Class     Images  Instances      Box(P          R      mAP50  mAP50-95): 100%|██████████| 2/2 [00:00<00:00,  6.94it/s]\n",
      "                   all         58        237     0.0111      0.819     0.0948      0.069\n",
      "\n",
      "      Epoch    GPU_mem   box_loss   cls_loss   dfl_loss  Instances       Size\n",
      "       2/25      2.35G     0.7253      2.841      1.084         61        640: 100%|██████████| 4/4 [00:00<00:00, 14.14it/s]\n",
      "                 Class     Images  Instances      Box(P          R      mAP50  mAP50-95): 100%|██████████| 2/2 [00:00<00:00,  6.70it/s]\n",
      "                   all         58        237     0.0123      0.903      0.281      0.244\n",
      "\n",
      "      Epoch    GPU_mem   box_loss   cls_loss   dfl_loss  Instances       Size\n",
      "       3/25      2.35G     0.6952      2.158       1.01         53        640: 100%|██████████| 4/4 [00:00<00:00, 13.68it/s]\n",
      "                 Class     Images  Instances      Box(P          R      mAP50  mAP50-95): 100%|██████████| 2/2 [00:00<00:00,  6.94it/s]\n",
      "                   all         58        237      0.945      0.144       0.36      0.312\n",
      "\n",
      "      Epoch    GPU_mem   box_loss   cls_loss   dfl_loss  Instances       Size\n",
      "       4/25      2.24G     0.7284      1.317      1.018         71        640: 100%|██████████| 4/4 [00:00<00:00, 14.34it/s]\n",
      "                 Class     Images  Instances      Box(P          R      mAP50  mAP50-95): 100%|██████████| 2/2 [00:00<00:00,  6.77it/s]\n",
      "                   all         58        237       0.83       0.35      0.522      0.427\n",
      "\n",
      "      Epoch    GPU_mem   box_loss   cls_loss   dfl_loss  Instances       Size\n",
      "       5/25      2.25G      0.699      1.185     0.9627         70        640: 100%|██████████| 4/4 [00:00<00:00,  9.38it/s]\n",
      "                 Class     Images  Instances      Box(P          R      mAP50  mAP50-95): 100%|██████████| 2/2 [00:00<00:00,  6.73it/s]\n",
      "                   all         58        237      0.745      0.407      0.585      0.487\n",
      "\n",
      "      Epoch    GPU_mem   box_loss   cls_loss   dfl_loss  Instances       Size\n",
      "       6/25      2.26G     0.6533      1.141     0.9768         35        640: 100%|██████████| 4/4 [00:00<00:00, 16.20it/s]\n",
      "                 Class     Images  Instances      Box(P          R      mAP50  mAP50-95): 100%|██████████| 2/2 [00:00<00:00,  6.96it/s]\n",
      "                   all         58        237      0.798      0.401      0.578      0.493\n",
      "\n",
      "      Epoch    GPU_mem   box_loss   cls_loss   dfl_loss  Instances       Size\n",
      "       7/25      2.29G     0.6425      1.046     0.9821         73        640: 100%|██████████| 4/4 [00:00<00:00, 16.13it/s]\n",
      "                 Class     Images  Instances      Box(P          R      mAP50  mAP50-95): 100%|██████████| 2/2 [00:00<00:00,  6.88it/s]\n",
      "                   all         58        237      0.816      0.359      0.542       0.47\n",
      "\n",
      "      Epoch    GPU_mem   box_loss   cls_loss   dfl_loss  Instances       Size\n",
      "       8/25       2.3G     0.6894       1.05     0.9707         88        640: 100%|██████████| 4/4 [00:00<00:00, 16.00it/s]\n",
      "                 Class     Images  Instances      Box(P          R      mAP50  mAP50-95): 100%|██████████| 2/2 [00:00<00:00,  6.90it/s]\n",
      "                   all         58        237      0.787      0.443      0.633      0.553\n",
      "\n",
      "      Epoch    GPU_mem   box_loss   cls_loss   dfl_loss  Instances       Size\n",
      "       9/25      2.28G      0.634      1.015     0.9611         36        640: 100%|██████████| 4/4 [00:00<00:00, 15.86it/s]\n",
      "                 Class     Images  Instances      Box(P          R      mAP50  mAP50-95): 100%|██████████| 2/2 [00:00<00:00,  7.02it/s]\n",
      "                   all         58        237      0.837      0.475      0.715      0.623\n",
      "\n",
      "      Epoch    GPU_mem   box_loss   cls_loss   dfl_loss  Instances       Size\n",
      "      10/25      2.21G     0.6465      1.007     0.9808         72        640: 100%|██████████| 4/4 [00:00<00:00, 15.95it/s]\n",
      "                 Class     Images  Instances      Box(P          R      mAP50  mAP50-95): 100%|██████████| 2/2 [00:00<00:00,  6.92it/s]\n",
      "                   all         58        237      0.865      0.477      0.707      0.617\n",
      "\n",
      "      Epoch    GPU_mem   box_loss   cls_loss   dfl_loss  Instances       Size\n",
      "      11/25      2.21G     0.6466     0.9107     0.9782         57        640: 100%|██████████| 4/4 [00:00<00:00, 16.53it/s]\n",
      "                 Class     Images  Instances      Box(P          R      mAP50  mAP50-95): 100%|██████████| 2/2 [00:00<00:00,  6.94it/s]\n",
      "                   all         58        237      0.947      0.456      0.726      0.644\n",
      "\n",
      "      Epoch    GPU_mem   box_loss   cls_loss   dfl_loss  Instances       Size\n",
      "      12/25      2.27G     0.6076     0.8702     0.9225         64        640: 100%|██████████| 4/4 [00:00<00:00, 16.20it/s]\n",
      "                 Class     Images  Instances      Box(P          R      mAP50  mAP50-95): 100%|██████████| 2/2 [00:00<00:00,  6.68it/s]\n",
      "                   all         58        237      0.947      0.601       0.79        0.7\n",
      "\n",
      "      Epoch    GPU_mem   box_loss   cls_loss   dfl_loss  Instances       Size\n",
      "      13/25      2.21G     0.7108      0.922     0.9788         61        640: 100%|██████████| 4/4 [00:00<00:00, 15.42it/s]\n",
      "                 Class     Images  Instances      Box(P          R      mAP50  mAP50-95): 100%|██████████| 2/2 [00:00<00:00,  6.78it/s]\n",
      "                   all         58        237      0.957      0.657      0.829      0.728\n",
      "\n",
      "      Epoch    GPU_mem   box_loss   cls_loss   dfl_loss  Instances       Size\n",
      "      14/25      2.22G     0.6001     0.8163     0.9656         63        640: 100%|██████████| 4/4 [00:00<00:00, 16.57it/s]\n",
      "                 Class     Images  Instances      Box(P          R      mAP50  mAP50-95): 100%|██████████| 2/2 [00:00<00:00,  6.97it/s]\n",
      "                   all         58        237      0.971      0.713      0.874      0.766\n",
      "\n",
      "      Epoch    GPU_mem   box_loss   cls_loss   dfl_loss  Instances       Size\n",
      "      15/25      2.26G     0.6044     0.7794     0.9077         81        640: 100%|██████████| 4/4 [00:00<00:00, 14.87it/s]\n",
      "                 Class     Images  Instances      Box(P          R      mAP50  mAP50-95): 100%|██████████| 2/2 [00:00<00:00,  6.82it/s]\n",
      "                   all         58        237      0.959      0.734      0.894      0.763\n",
      "Closing dataloader mosaic\n",
      "\n",
      "      Epoch    GPU_mem   box_loss   cls_loss   dfl_loss  Instances       Size\n",
      "      16/25      2.37G     0.6165       1.09     0.9368         41        640: 100%|██████████| 4/4 [00:01<00:00,  3.75it/s]\n",
      "                 Class     Images  Instances      Box(P          R      mAP50  mAP50-95): 100%|██████████| 2/2 [00:00<00:00,  5.64it/s]\n",
      "                   all         58        237      0.951      0.734       0.89      0.781\n",
      "\n",
      "      Epoch    GPU_mem   box_loss   cls_loss   dfl_loss  Instances       Size\n",
      "      17/25      2.27G     0.5556      1.019     0.9038         20        640: 100%|██████████| 4/4 [00:00<00:00, 16.20it/s]\n",
      "                 Class     Images  Instances      Box(P          R      mAP50  mAP50-95): 100%|██████████| 2/2 [00:00<00:00,  6.58it/s]\n",
      "                   all         58        237      0.946      0.666      0.888      0.792\n",
      "\n",
      "      Epoch    GPU_mem   box_loss   cls_loss   dfl_loss  Instances       Size\n",
      "      18/25      2.25G     0.6398      1.019     0.9113         49        640: 100%|██████████| 4/4 [00:00<00:00, 15.74it/s]\n",
      "                 Class     Images  Instances      Box(P          R      mAP50  mAP50-95): 100%|██████████| 2/2 [00:00<00:00,  6.85it/s]\n",
      "                   all         58        237      0.983      0.498      0.818      0.721\n",
      "\n",
      "      Epoch    GPU_mem   box_loss   cls_loss   dfl_loss  Instances       Size\n",
      "      19/25      2.27G     0.5998      1.001     0.9202         33        640: 100%|██████████| 4/4 [00:00<00:00, 15.73it/s]\n",
      "                 Class     Images  Instances      Box(P          R      mAP50  mAP50-95): 100%|██████████| 2/2 [00:00<00:00,  6.81it/s]\n",
      "                   all         58        237      0.977      0.529      0.823      0.733\n",
      "\n",
      "      Epoch    GPU_mem   box_loss   cls_loss   dfl_loss  Instances       Size\n",
      "      20/25      2.28G      0.568     0.9627      0.887         60        640: 100%|██████████| 4/4 [00:00<00:00, 16.41it/s]\n",
      "                 Class     Images  Instances      Box(P          R      mAP50  mAP50-95): 100%|██████████| 2/2 [00:00<00:00,  6.82it/s]\n",
      "                   all         58        237      0.986      0.605      0.849      0.759\n",
      "\n",
      "      Epoch    GPU_mem   box_loss   cls_loss   dfl_loss  Instances       Size\n",
      "      21/25      2.25G     0.5327     0.8419     0.8873         46        640: 100%|██████████| 4/4 [00:00<00:00, 15.06it/s]\n",
      "                 Class     Images  Instances      Box(P          R      mAP50  mAP50-95): 100%|██████████| 2/2 [00:00<00:00,  6.60it/s]\n",
      "                   all         58        237      0.996      0.755       0.91      0.801\n",
      "\n",
      "      Epoch    GPU_mem   box_loss   cls_loss   dfl_loss  Instances       Size\n",
      "      22/25      2.27G     0.5021     0.8492     0.8538         25        640: 100%|██████████| 4/4 [00:00<00:00, 16.48it/s]\n",
      "                 Class     Images  Instances      Box(P          R      mAP50  mAP50-95): 100%|██████████| 2/2 [00:00<00:00,  7.01it/s]\n",
      "                   all         58        237      0.995      0.805      0.926      0.826\n",
      "\n",
      "      Epoch    GPU_mem   box_loss   cls_loss   dfl_loss  Instances       Size\n",
      "      23/25      2.27G     0.5201     0.8589     0.9065         20        640: 100%|██████████| 4/4 [00:00<00:00, 16.11it/s]\n",
      "                 Class     Images  Instances      Box(P          R      mAP50  mAP50-95): 100%|██████████| 2/2 [00:00<00:00,  6.78it/s]\n",
      "                   all         58        237       0.99      0.854      0.948      0.855\n",
      "\n",
      "      Epoch    GPU_mem   box_loss   cls_loss   dfl_loss  Instances       Size\n",
      "      24/25      2.25G     0.4826     0.7634     0.8576         54        640: 100%|██████████| 4/4 [00:00<00:00, 16.08it/s]\n",
      "                 Class     Images  Instances      Box(P          R      mAP50  mAP50-95): 100%|██████████| 2/2 [00:00<00:00,  6.72it/s]\n",
      "                   all         58        237      0.991      0.881      0.957      0.878\n",
      "\n",
      "      Epoch    GPU_mem   box_loss   cls_loss   dfl_loss  Instances       Size\n",
      "      25/25      2.25G     0.5014     0.7871     0.8726         49        640: 100%|██████████| 4/4 [00:00<00:00, 17.00it/s]\n",
      "                 Class     Images  Instances      Box(P          R      mAP50  mAP50-95): 100%|██████████| 2/2 [00:00<00:00,  2.39it/s]\n",
      "                   all         58        237      0.986      0.893      0.963      0.883\n",
      "\n",
      "25 epochs completed in 0.008 hours.\n",
      "Optimizer stripped from runs/detect/train6/weights/last.pt, 6.2MB\n",
      "Optimizer stripped from runs/detect/train6/weights/best.pt, 6.2MB\n",
      "\n",
      "Validating runs/detect/train6/weights/best.pt...\n",
      "Ultralytics YOLOv8.0.166 🚀 Python-3.10.6 torch-2.0.1+cu118 CUDA:0 (NVIDIA GeForce RTX 3090, 24260MiB)\n",
      "Model summary (fused): 168 layers, 3005843 parameters, 0 gradients\n",
      "                 Class     Images  Instances      Box(P          R      mAP50  mAP50-95): 100%|██████████| 2/2 [00:00<00:00,  2.45it/s]\n",
      "                   all         58        237      0.986      0.893      0.963      0.883\n",
      "Speed: 0.7ms preprocess, 0.6ms inference, 0.0ms loss, 0.7ms postprocess per image\n",
      "Results saved to \u001b[1mruns/detect/train6\u001b[0m\n"
     ]
    }
   ],
   "source": [
    "yolo_finetuned = YOLO('yolov8n.pt')  # load a pretrained model (recommended for training)\n",
    "dataset_yaml_path = \"/workspace/object-detection-balloons/balloons.yaml\"\n",
    "\n",
    "# Use the model\n",
    "results = yolo_finetuned.train(data=dataset_yaml_path, epochs=25)  # train the model"
   ]
  },
  {
   "cell_type": "code",
   "execution_count": 51,
   "metadata": {},
   "outputs": [
    {
     "name": "stderr",
     "output_type": "stream",
     "text": [
      "\n",
      "0: 640x640 2 balloons, 1: 640x640 1 balloon, 2: 640x640 4 balloons, 3: 640x640 1 balloon, 4: 640x640 3 balloons, 5: 640x640 3 balloons, 6: 640x640 (no detections), 7: 640x640 1 balloon, 8: 640x640 (no detections), 9: 640x640 2 balloons, 10: 640x640 6 balloons, 11: 640x640 1 balloon, 12: 640x640 5 balloons, 13: 640x640 1 balloon, 14: 640x640 (no detections), 15: 640x640 4 balloons, 14.8ms\n",
      "Speed: 2.3ms preprocess, 0.9ms inference, 1.1ms postprocess per image at shape (1, 3, 640, 640)\n",
      "Results saved to \u001b[1mpreds/finetuned\u001b[0m\n"
     ]
    }
   ],
   "source": [
    "!rm -rf /workspace/object-detection-balloons/preds/finetuned\n",
    "preds = yolo_finetuned.predict(val_img_paths, save=True, project=\"preds\", name=\"finetuned\") "
   ]
  },
  {
   "cell_type": "code",
   "execution_count": null,
   "metadata": {},
   "outputs": [],
   "source": []
  }
 ],
 "metadata": {
  "kernelspec": {
   "display_name": "Python 3",
   "language": "python",
   "name": "python3"
  },
  "language_info": {
   "codemirror_mode": {
    "name": "ipython",
    "version": 3
   },
   "file_extension": ".py",
   "mimetype": "text/x-python",
   "name": "python",
   "nbconvert_exporter": "python",
   "pygments_lexer": "ipython3",
   "version": "3.10.6"
  },
  "orig_nbformat": 4
 },
 "nbformat": 4,
 "nbformat_minor": 2
}
