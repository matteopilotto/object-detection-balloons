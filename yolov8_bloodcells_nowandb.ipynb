{
 "cells": [
  {
   "cell_type": "markdown",
   "metadata": {},
   "source": [
    "## Setup"
   ]
  },
  {
   "cell_type": "code",
   "execution_count": 1,
   "metadata": {},
   "outputs": [
    {
     "name": "stdout",
     "output_type": "stream",
     "text": [
      "\u001b[33mWARNING: Running pip as the 'root' user can result in broken permissions and conflicting behaviour with the system package manager. It is recommended to use a virtual environment instead: https://pip.pypa.io/warnings/venv\u001b[0m\u001b[33m\n",
      "\u001b[0m\n",
      "\u001b[1m[\u001b[0m\u001b[34;49mnotice\u001b[0m\u001b[1;39;49m]\u001b[0m\u001b[39;49m A new release of pip is available: \u001b[0m\u001b[31;49m23.1.2\u001b[0m\u001b[39;49m -> \u001b[0m\u001b[32;49m23.2.1\u001b[0m\n",
      "\u001b[1m[\u001b[0m\u001b[34;49mnotice\u001b[0m\u001b[1;39;49m]\u001b[0m\u001b[39;49m To update, run: \u001b[0m\u001b[32;49mpython -m pip install --upgrade pip\u001b[0m\n"
     ]
    }
   ],
   "source": [
    "!pip install -q -U -r requirements.txt"
   ]
  },
  {
   "cell_type": "code",
   "execution_count": 3,
   "metadata": {},
   "outputs": [],
   "source": [
    "import os\n",
    "from pathlib import Path\n",
    "from datasets import load_dataset\n",
    "\n",
    "import pandas as pd\n",
    "from tqdm.auto import tqdm\n",
    "import pybboxes as pbx\n",
    "\n",
    "import ultralytics\n",
    "from ultralytics import YOLO"
   ]
  },
  {
   "cell_type": "code",
   "execution_count": 5,
   "metadata": {},
   "outputs": [],
   "source": [
    "dataset = load_dataset(\"keremberke/blood-cell-object-detection\", \"full\")"
   ]
  },
  {
   "cell_type": "code",
   "execution_count": 6,
   "metadata": {},
   "outputs": [],
   "source": [
    "!rm -rf /workspace/object-detection-balloons/datasets/bloodcells\n",
    "dataset_dir = \"/workspace/object-detection-balloons/datasets/bloodcells\"\n",
    "os.makedirs(dataset_dir, exist_ok=True)"
   ]
  },
  {
   "cell_type": "code",
   "execution_count": 7,
   "metadata": {},
   "outputs": [],
   "source": [
    "for split in dataset:\n",
    "    for row in dataset[split]:\n",
    "        img_path = Path(os.path.join(dataset_dir, \"images\", split, str(row[\"image_id\"])) + \".jpg\")\n",
    "        os.makedirs(img_path.parent, exist_ok=True)\n",
    "        row[\"image\"].save(img_path)\n",
    "        for bbox, category in zip(row[\"objects\"][\"bbox\"], row[\"objects\"][\"category\"]):\n",
    "            bbox_yolo = pbx.convert_bbox(bbox, from_type=\"coco\", to_type=\"yolo\", image_size=(row[\"width\"], row[\"height\"]))\n",
    "            bbox_yolo = \" \".join([str(bb) for bb in bbox_yolo])\n",
    "            file_path = Path(os.path.join(dataset_dir, \"labels\", split, str(row[\"image_id\"])) + \".txt\")\n",
    "            os.makedirs(file_path.parent, exist_ok=True)\n",
    "            with open(file_path, \"a\") as f:\n",
    "                f.write(f\"{category} {bbox_yolo}\\n\")"
   ]
  },
  {
   "cell_type": "code",
   "execution_count": 8,
   "metadata": {},
   "outputs": [
    {
     "name": "stderr",
     "output_type": "stream",
     "text": [
      "Ultralytics YOLOv8.0.187 🚀 Python-3.10.6 torch-2.0.1+cu118 CUDA:0 (Tesla V100-FHHL-16GB, 16151MiB)\n",
      "Setup complete ✅ (32 CPUs, 94.3 GB RAM, 1.3/20.0 GB disk)\n"
     ]
    }
   ],
   "source": [
    "ultralytics.checks()"
   ]
  },
  {
   "cell_type": "code",
   "execution_count": 9,
   "metadata": {},
   "outputs": [
    {
     "name": "stdout",
     "output_type": "stream",
     "text": [
      "['/workspace/object-detection-balloons/datasets/bloodcells/images/train/3.jpg', '/workspace/object-detection-balloons/datasets/bloodcells/images/train/129.jpg', '/workspace/object-detection-balloons/datasets/bloodcells/images/train/153.jpg']\n",
      "['/workspace/object-detection-balloons/datasets/bloodcells/images/validation/51.jpg', '/workspace/object-detection-balloons/datasets/bloodcells/images/validation/14.jpg', '/workspace/object-detection-balloons/datasets/bloodcells/images/validation/48.jpg']\n",
      "['/workspace/object-detection-balloons/datasets/bloodcells/images/test/10.jpg', '/workspace/object-detection-balloons/datasets/bloodcells/images/test/32.jpg', '/workspace/object-detection-balloons/datasets/bloodcells/images/test/34.jpg']\n"
     ]
    }
   ],
   "source": [
    "train_img_base_path = \"/workspace/object-detection-balloons/datasets/bloodcells/images/train\"\n",
    "train_img_paths = [os.path.join(train_img_base_path, fname) for fname in os.listdir(train_img_base_path)]\n",
    "print(train_img_paths[:3])\n",
    "\n",
    "val_img_base_path = \"/workspace/object-detection-balloons/datasets/bloodcells/images/validation\"\n",
    "val_img_paths = [os.path.join(val_img_base_path, fname) for fname in os.listdir(val_img_base_path)]\n",
    "print(val_img_paths[:3])\n",
    "\n",
    "test_img_base_path = \"/workspace/object-detection-balloons/datasets/bloodcells/images/test\"\n",
    "test_img_paths = [os.path.join(test_img_base_path, fname) for fname in os.listdir(test_img_base_path)]\n",
    "print(test_img_paths[:3])"
   ]
  },
  {
   "cell_type": "markdown",
   "metadata": {},
   "source": [
    "## Baseline"
   ]
  },
  {
   "cell_type": "code",
   "execution_count": 10,
   "metadata": {},
   "outputs": [],
   "source": [
    "checkpoint = 'yolov8n.pt'"
   ]
  },
  {
   "cell_type": "code",
   "execution_count": 11,
   "metadata": {},
   "outputs": [
    {
     "name": "stderr",
     "output_type": "stream",
     "text": [
      "\n",
      "0: 640x640 1 toothbrush, 1: 640x640 (no detections), 2: 640x640 1 person, 3: 640x640 1 teddy bear, 4: 640x640 1 person, 5: 640x640 (no detections), 6: 640x640 2 persons, 7: 640x640 (no detections), 8: 640x640 (no detections), 9: 640x640 (no detections), 10: 640x640 1 person, 11: 640x640 1 person, 12: 640x640 2 persons, 13: 640x640 (no detections), 14: 640x640 (no detections), 15: 640x640 1 person, 16: 640x640 (no detections), 17: 640x640 (no detections), 18: 640x640 1 person, 1 sports ball, 19: 640x640 1 person, 20: 640x640 1 toothbrush, 21: 640x640 1 person, 22: 640x640 (no detections), 23: 640x640 1 toothbrush, 24: 640x640 1 person, 1 toothbrush, 25: 640x640 1 donut, 26: 640x640 2 persons, 27: 640x640 (no detections), 28: 640x640 (no detections), 29: 640x640 (no detections), 30: 640x640 2 sports balls, 1 toothbrush, 31: 640x640 1 donut, 32: 640x640 1 sports ball, 33: 640x640 1 person, 1 sports ball, 34: 640x640 (no detections), 35: 640x640 (no detections), 36: 640x640 (no detections), 37: 640x640 1 donut, 38: 640x640 1 cake, 39: 640x640 1 donut, 40: 640x640 (no detections), 41: 640x640 (no detections), 42: 640x640 1 donut, 43: 640x640 (no detections), 44: 640x640 1 toothbrush, 45: 640x640 (no detections), 46: 640x640 (no detections), 47: 640x640 (no detections), 48: 640x640 1 person, 1 sports ball, 49: 640x640 1 sports ball, 50: 640x640 2 sports balls, 51: 640x640 1 sports ball, 52: 640x640 (no detections), 53: 640x640 1 donut, 1 toothbrush, 54: 640x640 1 toothbrush, 55: 640x640 (no detections), 56: 640x640 2 toothbrushs, 57: 640x640 1 sports ball, 58: 640x640 (no detections), 59: 640x640 (no detections), 60: 640x640 1 toothbrush, 61: 640x640 2 sports balls, 62: 640x640 1 toothbrush, 63: 640x640 1 toothbrush, 64: 640x640 (no detections), 65: 640x640 (no detections), 66: 640x640 1 sports ball, 67: 640x640 (no detections), 68: 640x640 (no detections), 69: 640x640 (no detections), 70: 640x640 1 sports ball, 1 toothbrush, 71: 640x640 (no detections), 72: 640x640 1 sports ball, 104.4ms\n",
      "Speed: 2.3ms preprocess, 1.4ms inference, 0.6ms postprocess per image at shape (1, 3, 640, 640)\n",
      "Results saved to \u001b[1mpreds/baseline2\u001b[0m\n"
     ]
    }
   ],
   "source": [
    "yolo_base = YOLO(checkpoint)\n",
    "\n",
    "preds = yolo_base.predict(val_img_paths, save=True, project=\"preds\", name=\"baseline\")"
   ]
  },
  {
   "cell_type": "code",
   "execution_count": 14,
   "metadata": {},
   "outputs": [
    {
     "name": "stderr",
     "output_type": "stream",
     "text": [
      "Ultralytics YOLOv8.0.187 🚀 Python-3.10.6 torch-2.0.1+cu118 CUDA:0 (Tesla V100-FHHL-16GB, 16151MiB)\n",
      "\u001b[34m\u001b[1mval: \u001b[0mScanning /workspace/object-detection-balloons/datasets/bloodcells/labels/validation... 73 images, 0 backgrounds, 0 corrupt: 100%|██████████| 73/73 [00:00<00:00, 887.25it/s]\n",
      "\u001b[34m\u001b[1mval: \u001b[0mNew cache created: /workspace/object-detection-balloons/datasets/bloodcells/labels/validation.cache\n",
      "                 Class     Images  Instances      Box(P          R      mAP50  mAP50-95): 100%|██████████| 5/5 [00:01<00:00,  2.71it/s]\n",
      "                   all         73        967   0.000121    0.00439   6.62e-05   3.97e-05\n",
      "                person         73         76   0.000362     0.0132   0.000199   0.000119\n",
      "               bicycle         73        819          0          0          0          0\n",
      "                   car         73         72          0          0          0          0\n",
      "Speed: 1.6ms preprocess, 2.3ms inference, 0.0ms loss, 1.4ms postprocess per image\n",
      "Results saved to \u001b[1mruns/detect/val7\u001b[0m\n"
     ]
    }
   ],
   "source": [
    "metrics = yolo_base.val(data=\"/workspace/object-detection-balloons/bloodcells.yaml\", split=\"val\")"
   ]
  },
  {
   "cell_type": "code",
   "execution_count": 15,
   "metadata": {},
   "outputs": [
    {
     "name": "stderr",
     "output_type": "stream",
     "text": [
      "Ultralytics YOLOv8.0.187 🚀 Python-3.10.6 torch-2.0.1+cu118 CUDA:0 (Tesla V100-FHHL-16GB, 16151MiB)\n",
      "\u001b[34m\u001b[1mval: \u001b[0mScanning /workspace/object-detection-balloons/datasets/bloodcells/labels/test... 36 images, 0 backgrounds, 0 corrupt: 100%|██████████| 36/36 [00:00<00:00, 944.56it/s]\n",
      "\u001b[34m\u001b[1mval: \u001b[0mNew cache created: /workspace/object-detection-balloons/datasets/bloodcells/labels/test.cache\n",
      "                 Class     Images  Instances      Box(P          R      mAP50  mAP50-95): 100%|██████████| 3/3 [00:01<00:00,  2.55it/s]\n",
      "                   all         36        471   0.000248    0.00926   0.000136   8.15e-05\n",
      "                person         36         36   0.000745     0.0278   0.000408   0.000245\n",
      "               bicycle         36        398          0          0          0          0\n",
      "                   car         36         37          0          0          0          0\n",
      "Speed: 2.4ms preprocess, 3.8ms inference, 0.0ms loss, 3.1ms postprocess per image\n",
      "Results saved to \u001b[1mruns/detect/val8\u001b[0m\n"
     ]
    }
   ],
   "source": [
    "metrics = yolo_base.val(data=\"/workspace/object-detection-balloons/bloodcells.yaml\", split=\"test\")"
   ]
  },
  {
   "cell_type": "markdown",
   "metadata": {},
   "source": [
    "## Finetuning"
   ]
  },
  {
   "cell_type": "code",
   "execution_count": 17,
   "metadata": {},
   "outputs": [],
   "source": [
    "yolo_finetuned = YOLO(checkpoint)  # load a pretrained model (recommended for training)\n",
    "\n",
    "dataset_yaml_path = \"/workspace/object-detection-balloons/bloodcells.yaml\""
   ]
  },
  {
   "cell_type": "code",
   "execution_count": 18,
   "metadata": {},
   "outputs": [
    {
     "name": "stderr",
     "output_type": "stream",
     "text": [
      "Ultralytics YOLOv8.0.187 🚀 Python-3.10.6 torch-2.0.1+cu118 CUDA:0 (Tesla V100-FHHL-16GB, 16151MiB)\n",
      "\u001b[34m\u001b[1mengine/trainer: \u001b[0mtask=detect, mode=train, model=yolov8n.pt, data=/workspace/object-detection-balloons/bloodcells.yaml, epochs=50, patience=50, batch=32, imgsz=640, save=True, save_period=-1, cache=False, device=None, workers=8, project=None, name=None, exist_ok=False, pretrained=True, optimizer=auto, verbose=True, seed=0, deterministic=True, single_cls=False, rect=False, cos_lr=False, close_mosaic=10, resume=False, amp=True, fraction=1.0, profile=False, freeze=None, overlap_mask=True, mask_ratio=4, dropout=0.0, val=True, split=val, save_json=False, save_hybrid=False, conf=None, iou=0.7, max_det=300, half=False, dnn=False, plots=True, source=None, show=False, save_txt=False, save_conf=False, save_crop=False, show_labels=True, show_conf=True, vid_stride=1, stream_buffer=False, line_width=None, visualize=False, augment=False, agnostic_nms=False, classes=None, retina_masks=False, boxes=True, format=torchscript, keras=False, optimize=False, int8=False, dynamic=False, simplify=False, opset=None, workspace=4, nms=False, lr0=0.01, lrf=0.01, momentum=0.937, weight_decay=0.0005, warmup_epochs=3.0, warmup_momentum=0.8, warmup_bias_lr=0.1, box=7.5, cls=0.5, dfl=1.5, pose=12.0, kobj=1.0, label_smoothing=0.0, nbs=64, hsv_h=0.015, hsv_s=0.7, hsv_v=0.4, degrees=0.0, translate=0.1, scale=0.5, shear=0.0, perspective=0.0, flipud=0.0, fliplr=0.5, mosaic=1.0, mixup=0.0, copy_paste=0.0, cfg=None, tracker=botsort.yaml, save_dir=runs/detect/train3\n",
      "Overriding model.yaml nc=80 with nc=3\n",
      "\n",
      "                   from  n    params  module                                       arguments                     \n",
      "  0                  -1  1       464  ultralytics.nn.modules.conv.Conv             [3, 16, 3, 2]                 \n",
      "  1                  -1  1      4672  ultralytics.nn.modules.conv.Conv             [16, 32, 3, 2]                \n",
      "  2                  -1  1      7360  ultralytics.nn.modules.block.C2f             [32, 32, 1, True]             \n",
      "  3                  -1  1     18560  ultralytics.nn.modules.conv.Conv             [32, 64, 3, 2]                \n",
      "  4                  -1  2     49664  ultralytics.nn.modules.block.C2f             [64, 64, 2, True]             \n",
      "  5                  -1  1     73984  ultralytics.nn.modules.conv.Conv             [64, 128, 3, 2]               \n",
      "  6                  -1  2    197632  ultralytics.nn.modules.block.C2f             [128, 128, 2, True]           \n",
      "  7                  -1  1    295424  ultralytics.nn.modules.conv.Conv             [128, 256, 3, 2]              \n",
      "  8                  -1  1    460288  ultralytics.nn.modules.block.C2f             [256, 256, 1, True]           \n",
      "  9                  -1  1    164608  ultralytics.nn.modules.block.SPPF            [256, 256, 5]                 \n",
      " 10                  -1  1         0  torch.nn.modules.upsampling.Upsample         [None, 2, 'nearest']          \n",
      " 11             [-1, 6]  1         0  ultralytics.nn.modules.conv.Concat           [1]                           \n",
      " 12                  -1  1    148224  ultralytics.nn.modules.block.C2f             [384, 128, 1]                 \n",
      " 13                  -1  1         0  torch.nn.modules.upsampling.Upsample         [None, 2, 'nearest']          \n",
      " 14             [-1, 4]  1         0  ultralytics.nn.modules.conv.Concat           [1]                           \n"
     ]
    },
    {
     "name": "stderr",
     "output_type": "stream",
     "text": [
      " 15                  -1  1     37248  ultralytics.nn.modules.block.C2f             [192, 64, 1]                  \n",
      " 16                  -1  1     36992  ultralytics.nn.modules.conv.Conv             [64, 64, 3, 2]                \n",
      " 17            [-1, 12]  1         0  ultralytics.nn.modules.conv.Concat           [1]                           \n",
      " 18                  -1  1    123648  ultralytics.nn.modules.block.C2f             [192, 128, 1]                 \n",
      " 19                  -1  1    147712  ultralytics.nn.modules.conv.Conv             [128, 128, 3, 2]              \n",
      " 20             [-1, 9]  1         0  ultralytics.nn.modules.conv.Concat           [1]                           \n",
      " 21                  -1  1    493056  ultralytics.nn.modules.block.C2f             [384, 256, 1]                 \n",
      " 22        [15, 18, 21]  1    751897  ultralytics.nn.modules.head.Detect           [3, [64, 128, 256]]           \n",
      "Model summary: 225 layers, 3011433 parameters, 3011417 gradients\n",
      "\n",
      "Transferred 319/355 items from pretrained weights\n",
      "Freezing layer 'model.22.dfl.conv.weight'\n",
      "\u001b[34m\u001b[1mAMP: \u001b[0mrunning Automatic Mixed Precision (AMP) checks with YOLOv8n...\n",
      "\u001b[34m\u001b[1mAMP: \u001b[0mchecks passed ✅\n",
      "\u001b[34m\u001b[1mtrain: \u001b[0mScanning /workspace/object-detection-balloons/datasets/bloodcells/labels/train... 255 images, 0 backgrounds, 0 corrupt: 100%|██████████| 255/255 [00:00<00:00, 805.96it/s]\n",
      "\u001b[34m\u001b[1mtrain: \u001b[0mNew cache created: /workspace/object-detection-balloons/datasets/bloodcells/labels/train.cache\n",
      "\u001b[34m\u001b[1mval: \u001b[0mScanning /workspace/object-detection-balloons/datasets/bloodcells/labels/validation.cache... 73 images, 0 backgrounds, 0 corrupt: 100%|██████████| 73/73 [00:00<?, ?it/s]\n",
      "Plotting labels to runs/detect/train3/labels.jpg... \n",
      "\u001b[34m\u001b[1moptimizer:\u001b[0m 'optimizer=auto' found, ignoring 'lr0=0.01' and 'momentum=0.937' and determining best 'optimizer', 'lr0' and 'momentum' automatically... \n",
      "\u001b[34m\u001b[1moptimizer:\u001b[0m AdamW(lr=0.001429, momentum=0.9) with parameter groups 57 weight(decay=0.0), 64 weight(decay=0.0005), 63 bias(decay=0.0)\n",
      "Image sizes 640 train, 640 val\n",
      "Using 8 dataloader workers\n",
      "Logging results to \u001b[1mruns/detect/train3\u001b[0m\n",
      "Starting training for 50 epochs...\n",
      "\n",
      "      Epoch    GPU_mem   box_loss   cls_loss   dfl_loss  Instances       Size\n",
      "       1/50      4.37G      1.727      3.601      1.744        578        640: 100%|██████████| 8/8 [00:02<00:00,  3.59it/s]\n",
      "                 Class     Images  Instances      Box(P          R      mAP50  mAP50-95): 100%|██████████| 2/2 [00:00<00:00,  3.20it/s]\n",
      "                   all         73        967     0.0164      0.439     0.0917     0.0403\n",
      "\n",
      "      Epoch    GPU_mem   box_loss   cls_loss   dfl_loss  Instances       Size\n",
      "       2/50      4.47G      1.359      2.922      1.442        786        640: 100%|██████████| 8/8 [00:01<00:00,  6.66it/s]\n",
      "                 Class     Images  Instances      Box(P          R      mAP50  mAP50-95): 100%|██████████| 2/2 [00:00<00:00,  4.71it/s]\n",
      "                   all         73        967      0.046      0.647      0.243      0.147\n",
      "\n",
      "      Epoch    GPU_mem   box_loss   cls_loss   dfl_loss  Instances       Size\n",
      "       3/50      4.95G      1.315      1.843      1.369        717        640: 100%|██████████| 8/8 [00:01<00:00,  6.63it/s]\n",
      "                 Class     Images  Instances      Box(P          R      mAP50  mAP50-95): 100%|██████████| 2/2 [00:00<00:00,  4.91it/s]\n",
      "                   all         73        967      0.924      0.232      0.496      0.324\n",
      "\n",
      "      Epoch    GPU_mem   box_loss   cls_loss   dfl_loss  Instances       Size\n",
      "       4/50      4.71G       1.24      1.442      1.353        651        640: 100%|██████████| 8/8 [00:01<00:00,  6.68it/s]\n",
      "                 Class     Images  Instances      Box(P          R      mAP50  mAP50-95): 100%|██████████| 2/2 [00:00<00:00,  5.00it/s]\n",
      "                   all         73        967      0.882      0.601      0.591      0.412\n",
      "\n",
      "      Epoch    GPU_mem   box_loss   cls_loss   dfl_loss  Instances       Size\n",
      "       5/50       4.5G      1.208      1.212      1.344        672        640: 100%|██████████| 8/8 [00:01<00:00,  6.79it/s]\n",
      "                 Class     Images  Instances      Box(P          R      mAP50  mAP50-95): 100%|██████████| 2/2 [00:00<00:00,  5.15it/s]\n",
      "                   all         73        967       0.88      0.598      0.593      0.415\n",
      "\n",
      "      Epoch    GPU_mem   box_loss   cls_loss   dfl_loss  Instances       Size\n",
      "       6/50      4.93G      1.188       1.16      1.323        715        640: 100%|██████████| 8/8 [00:01<00:00,  6.68it/s]\n",
      "                 Class     Images  Instances      Box(P          R      mAP50  mAP50-95): 100%|██████████| 2/2 [00:00<00:00,  5.39it/s]\n",
      "                   all         73        967      0.883      0.592      0.589        0.4\n",
      "\n",
      "      Epoch    GPU_mem   box_loss   cls_loss   dfl_loss  Instances       Size\n",
      "       7/50      4.62G      1.156      1.109       1.28        637        640: 100%|██████████| 8/8 [00:01<00:00,  6.99it/s]\n",
      "                 Class     Images  Instances      Box(P          R      mAP50  mAP50-95): 100%|██████████| 2/2 [00:00<00:00,  5.67it/s]\n",
      "                   all         73        967       0.92      0.556      0.604      0.417\n",
      "\n",
      "      Epoch    GPU_mem   box_loss   cls_loss   dfl_loss  Instances       Size\n",
      "       8/50      5.22G      1.114      1.065      1.251        529        640: 100%|██████████| 8/8 [00:01<00:00,  7.16it/s]\n",
      "                 Class     Images  Instances      Box(P          R      mAP50  mAP50-95): 100%|██████████| 2/2 [00:00<00:00,  5.71it/s]\n",
      "                   all         73        967      0.891      0.538      0.637      0.425\n",
      "\n",
      "      Epoch    GPU_mem   box_loss   cls_loss   dfl_loss  Instances       Size\n",
      "       9/50      4.81G      1.113       1.05      1.248        679        640: 100%|██████████| 8/8 [00:01<00:00,  7.28it/s]\n",
      "                 Class     Images  Instances      Box(P          R      mAP50  mAP50-95): 100%|██████████| 2/2 [00:00<00:00,  5.65it/s]\n",
      "                   all         73        967      0.866      0.529      0.666      0.462\n",
      "\n",
      "      Epoch    GPU_mem   box_loss   cls_loss   dfl_loss  Instances       Size\n",
      "      10/50      4.76G      1.114       1.02      1.244        608        640: 100%|██████████| 8/8 [00:01<00:00,  7.23it/s]\n",
      "                 Class     Images  Instances      Box(P          R      mAP50  mAP50-95): 100%|██████████| 2/2 [00:00<00:00,  5.69it/s]\n",
      "                   all         73        967      0.871      0.543      0.727      0.471\n",
      "\n",
      "      Epoch    GPU_mem   box_loss   cls_loss   dfl_loss  Instances       Size\n",
      "      11/50      4.54G      1.093      1.017       1.24        656        640: 100%|██████████| 8/8 [00:01<00:00,  7.33it/s]\n",
      "                 Class     Images  Instances      Box(P          R      mAP50  mAP50-95): 100%|██████████| 2/2 [00:00<00:00,  5.76it/s]\n",
      "                   all         73        967      0.886      0.642      0.885      0.578\n",
      "\n",
      "      Epoch    GPU_mem   box_loss   cls_loss   dfl_loss  Instances       Size\n",
      "      12/50      5.11G      1.105     0.9784      1.222        749        640: 100%|██████████| 8/8 [00:01<00:00,  6.87it/s]\n",
      "                 Class     Images  Instances      Box(P          R      mAP50  mAP50-95): 100%|██████████| 2/2 [00:00<00:00,  5.44it/s]\n",
      "                   all         73        967      0.857      0.616      0.829      0.541\n",
      "\n",
      "      Epoch    GPU_mem   box_loss   cls_loss   dfl_loss  Instances       Size\n",
      "      13/50      4.77G        1.1     0.9685      1.225        685        640: 100%|██████████| 8/8 [00:01<00:00,  7.16it/s]\n",
      "                 Class     Images  Instances      Box(P          R      mAP50  mAP50-95): 100%|██████████| 2/2 [00:00<00:00,  5.49it/s]\n",
      "                   all         73        967      0.901      0.586      0.836       0.56\n",
      "\n",
      "      Epoch    GPU_mem   box_loss   cls_loss   dfl_loss  Instances       Size\n",
      "      14/50      4.95G      1.119     0.9638      1.238        614        640: 100%|██████████| 8/8 [00:01<00:00,  7.15it/s]\n",
      "                 Class     Images  Instances      Box(P          R      mAP50  mAP50-95): 100%|██████████| 2/2 [00:00<00:00,  5.53it/s]\n",
      "                   all         73        967      0.876      0.645      0.816      0.538\n",
      "\n",
      "      Epoch    GPU_mem   box_loss   cls_loss   dfl_loss  Instances       Size\n",
      "      15/50      5.09G      1.124     0.9602      1.232        556        640: 100%|██████████| 8/8 [00:01<00:00,  7.29it/s]\n",
      "                 Class     Images  Instances      Box(P          R      mAP50  mAP50-95): 100%|██████████| 2/2 [00:00<00:00,  5.43it/s]\n",
      "                   all         73        967      0.727      0.717      0.875      0.593\n",
      "\n",
      "      Epoch    GPU_mem   box_loss   cls_loss   dfl_loss  Instances       Size\n",
      "      16/50      4.87G      1.074     0.9122      1.196        683        640: 100%|██████████| 8/8 [00:01<00:00,  7.23it/s]\n",
      "                 Class     Images  Instances      Box(P          R      mAP50  mAP50-95): 100%|██████████| 2/2 [00:00<00:00,  5.49it/s]\n",
      "                   all         73        967      0.749      0.797      0.896      0.593\n",
      "\n",
      "      Epoch    GPU_mem   box_loss   cls_loss   dfl_loss  Instances       Size\n",
      "      17/50      4.77G      1.105     0.9246      1.211        584        640: 100%|██████████| 8/8 [00:01<00:00,  7.28it/s]\n",
      "                 Class     Images  Instances      Box(P          R      mAP50  mAP50-95): 100%|██████████| 2/2 [00:00<00:00,  5.40it/s]\n",
      "                   all         73        967       0.78      0.901      0.902       0.59\n",
      "\n",
      "      Epoch    GPU_mem   box_loss   cls_loss   dfl_loss  Instances       Size\n",
      "      18/50      4.57G      1.059     0.8868      1.189        583        640: 100%|██████████| 8/8 [00:01<00:00,  7.18it/s]\n",
      "                 Class     Images  Instances      Box(P          R      mAP50  mAP50-95): 100%|██████████| 2/2 [00:00<00:00,  5.39it/s]\n",
      "                   all         73        967      0.766      0.939      0.905      0.611\n",
      "\n",
      "      Epoch    GPU_mem   box_loss   cls_loss   dfl_loss  Instances       Size\n",
      "      19/50      4.68G      1.084      0.901      1.201        514        640: 100%|██████████| 8/8 [00:01<00:00,  6.25it/s]\n",
      "                 Class     Images  Instances      Box(P          R      mAP50  mAP50-95): 100%|██████████| 2/2 [00:00<00:00,  5.65it/s]\n",
      "                   all         73        967      0.816      0.934      0.906      0.592\n",
      "\n",
      "      Epoch    GPU_mem   box_loss   cls_loss   dfl_loss  Instances       Size\n",
      "      20/50      4.92G      1.049     0.8869      1.166        689        640: 100%|██████████| 8/8 [00:01<00:00,  7.13it/s]\n",
      "                 Class     Images  Instances      Box(P          R      mAP50  mAP50-95): 100%|██████████| 2/2 [00:00<00:00,  5.59it/s]\n",
      "                   all         73        967      0.827      0.886      0.906      0.584\n",
      "\n",
      "      Epoch    GPU_mem   box_loss   cls_loss   dfl_loss  Instances       Size\n",
      "      21/50      4.57G      1.069     0.8655       1.18        655        640: 100%|██████████| 8/8 [00:01<00:00,  7.32it/s]\n",
      "                 Class     Images  Instances      Box(P          R      mAP50  mAP50-95): 100%|██████████| 2/2 [00:00<00:00,  5.57it/s]\n",
      "                   all         73        967      0.819      0.902      0.907      0.609\n",
      "\n",
      "      Epoch    GPU_mem   box_loss   cls_loss   dfl_loss  Instances       Size\n",
      "      22/50      4.61G      1.067     0.8643      1.183        677        640: 100%|██████████| 8/8 [00:01<00:00,  7.21it/s]\n",
      "                 Class     Images  Instances      Box(P          R      mAP50  mAP50-95): 100%|██████████| 2/2 [00:00<00:00,  5.18it/s]\n",
      "                   all         73        967      0.795      0.893      0.906      0.597\n",
      "\n",
      "      Epoch    GPU_mem   box_loss   cls_loss   dfl_loss  Instances       Size\n",
      "      23/50      4.59G      1.059     0.8404      1.165        786        640: 100%|██████████| 8/8 [00:01<00:00,  7.28it/s]\n",
      "                 Class     Images  Instances      Box(P          R      mAP50  mAP50-95): 100%|██████████| 2/2 [00:00<00:00,  5.67it/s]\n",
      "                   all         73        967       0.83      0.891      0.911       0.61\n",
      "\n",
      "      Epoch    GPU_mem   box_loss   cls_loss   dfl_loss  Instances       Size\n",
      "      24/50      4.79G      1.079     0.8559       1.19        878        640: 100%|██████████| 8/8 [00:01<00:00,  7.16it/s]\n",
      "                 Class     Images  Instances      Box(P          R      mAP50  mAP50-95): 100%|██████████| 2/2 [00:00<00:00,  5.35it/s]\n",
      "                   all         73        967      0.814      0.868      0.915      0.622\n",
      "\n",
      "      Epoch    GPU_mem   box_loss   cls_loss   dfl_loss  Instances       Size\n",
      "      25/50      4.82G      1.039     0.8417      1.173        687        640: 100%|██████████| 8/8 [00:01<00:00,  7.12it/s]\n",
      "                 Class     Images  Instances      Box(P          R      mAP50  mAP50-95): 100%|██████████| 2/2 [00:00<00:00,  5.49it/s]\n",
      "                   all         73        967      0.816      0.896      0.913      0.622\n",
      "\n",
      "      Epoch    GPU_mem   box_loss   cls_loss   dfl_loss  Instances       Size\n",
      "      26/50      4.83G      1.044     0.8384      1.164        714        640: 100%|██████████| 8/8 [00:01<00:00,  6.97it/s]\n",
      "                 Class     Images  Instances      Box(P          R      mAP50  mAP50-95): 100%|██████████| 2/2 [00:00<00:00,  5.42it/s]\n",
      "                   all         73        967      0.834      0.889      0.915      0.628\n",
      "\n",
      "      Epoch    GPU_mem   box_loss   cls_loss   dfl_loss  Instances       Size\n",
      "      27/50      4.84G      1.019      0.794      1.146        665        640: 100%|██████████| 8/8 [00:01<00:00,  7.13it/s]\n",
      "                 Class     Images  Instances      Box(P          R      mAP50  mAP50-95): 100%|██████████| 2/2 [00:00<00:00,  5.54it/s]\n",
      "                   all         73        967      0.827      0.887      0.912      0.609\n",
      "\n",
      "      Epoch    GPU_mem   box_loss   cls_loss   dfl_loss  Instances       Size\n",
      "      28/50      5.04G      1.025     0.8081       1.14        682        640: 100%|██████████| 8/8 [00:01<00:00,  7.18it/s]\n",
      "                 Class     Images  Instances      Box(P          R      mAP50  mAP50-95): 100%|██████████| 2/2 [00:00<00:00,  5.64it/s]\n",
      "                   all         73        967      0.849      0.847      0.903      0.608\n",
      "\n",
      "      Epoch    GPU_mem   box_loss   cls_loss   dfl_loss  Instances       Size\n",
      "      29/50      4.83G      1.007     0.7866      1.138        620        640: 100%|██████████| 8/8 [00:01<00:00,  7.28it/s]\n",
      "                 Class     Images  Instances      Box(P          R      mAP50  mAP50-95): 100%|██████████| 2/2 [00:00<00:00,  5.33it/s]\n",
      "                   all         73        967      0.841       0.89       0.91      0.621\n",
      "\n",
      "      Epoch    GPU_mem   box_loss   cls_loss   dfl_loss  Instances       Size\n",
      "      30/50      4.77G      1.025     0.8051      1.156        504        640: 100%|██████████| 8/8 [00:01<00:00,  7.23it/s]\n",
      "                 Class     Images  Instances      Box(P          R      mAP50  mAP50-95): 100%|██████████| 2/2 [00:00<00:00,  5.55it/s]\n",
      "                   all         73        967      0.833      0.894      0.911       0.61\n",
      "\n",
      "      Epoch    GPU_mem   box_loss   cls_loss   dfl_loss  Instances       Size\n",
      "      31/50      4.53G       1.01      0.801      1.135        736        640: 100%|██████████| 8/8 [00:01<00:00,  7.10it/s]\n",
      "                 Class     Images  Instances      Box(P          R      mAP50  mAP50-95): 100%|██████████| 2/2 [00:00<00:00,  5.69it/s]\n",
      "                   all         73        967       0.85      0.895      0.919      0.623\n",
      "\n",
      "      Epoch    GPU_mem   box_loss   cls_loss   dfl_loss  Instances       Size\n",
      "      32/50      4.72G      1.028     0.7728      1.149        690        640: 100%|██████████| 8/8 [00:01<00:00,  7.20it/s]\n",
      "                 Class     Images  Instances      Box(P          R      mAP50  mAP50-95): 100%|██████████| 2/2 [00:00<00:00,  5.42it/s]\n",
      "                   all         73        967      0.839      0.914      0.922      0.623\n",
      "\n",
      "      Epoch    GPU_mem   box_loss   cls_loss   dfl_loss  Instances       Size\n",
      "      33/50      5.09G      1.021     0.7818      1.137        616        640: 100%|██████████| 8/8 [00:01<00:00,  7.13it/s]\n",
      "                 Class     Images  Instances      Box(P          R      mAP50  mAP50-95): 100%|██████████| 2/2 [00:00<00:00,  5.46it/s]\n",
      "                   all         73        967      0.877      0.882      0.922      0.637\n",
      "\n",
      "      Epoch    GPU_mem   box_loss   cls_loss   dfl_loss  Instances       Size\n",
      "      34/50      4.96G      1.021     0.7771      1.143        669        640: 100%|██████████| 8/8 [00:01<00:00,  7.26it/s]\n",
      "                 Class     Images  Instances      Box(P          R      mAP50  mAP50-95): 100%|██████████| 2/2 [00:00<00:00,  5.68it/s]\n",
      "                   all         73        967      0.861       0.91       0.92      0.621\n",
      "\n",
      "      Epoch    GPU_mem   box_loss   cls_loss   dfl_loss  Instances       Size\n",
      "      35/50      4.78G      1.002     0.7618      1.134        690        640: 100%|██████████| 8/8 [00:01<00:00,  7.25it/s]\n",
      "                 Class     Images  Instances      Box(P          R      mAP50  mAP50-95): 100%|██████████| 2/2 [00:00<00:00,  5.63it/s]\n",
      "                   all         73        967      0.846      0.935      0.916       0.63\n",
      "\n",
      "      Epoch    GPU_mem   box_loss   cls_loss   dfl_loss  Instances       Size\n",
      "      36/50      4.54G     0.9693     0.7359      1.109        577        640: 100%|██████████| 8/8 [00:01<00:00,  7.14it/s]\n",
      "                 Class     Images  Instances      Box(P          R      mAP50  mAP50-95): 100%|██████████| 2/2 [00:00<00:00,  5.51it/s]\n",
      "                   all         73        967      0.854       0.91      0.922       0.64\n",
      "\n",
      "      Epoch    GPU_mem   box_loss   cls_loss   dfl_loss  Instances       Size\n",
      "      37/50      4.93G     0.9708     0.7414      1.113        642        640: 100%|██████████| 8/8 [00:01<00:00,  7.03it/s]\n",
      "                 Class     Images  Instances      Box(P          R      mAP50  mAP50-95): 100%|██████████| 2/2 [00:00<00:00,  5.40it/s]\n",
      "                   all         73        967      0.879      0.893       0.93      0.624\n",
      "\n",
      "      Epoch    GPU_mem   box_loss   cls_loss   dfl_loss  Instances       Size\n",
      "      38/50      4.75G     0.9705     0.7353      1.113        647        640: 100%|██████████| 8/8 [00:01<00:00,  7.27it/s]\n",
      "                 Class     Images  Instances      Box(P          R      mAP50  mAP50-95): 100%|██████████| 2/2 [00:00<00:00,  5.67it/s]\n",
      "                   all         73        967      0.871      0.917      0.935       0.64\n",
      "\n",
      "      Epoch    GPU_mem   box_loss   cls_loss   dfl_loss  Instances       Size\n",
      "      39/50      4.32G     0.9805     0.7205      1.114        681        640: 100%|██████████| 8/8 [00:01<00:00,  7.24it/s]\n",
      "                 Class     Images  Instances      Box(P          R      mAP50  mAP50-95): 100%|██████████| 2/2 [00:00<00:00,  5.71it/s]\n",
      "                   all         73        967      0.873       0.92       0.93      0.652\n",
      "\n",
      "      Epoch    GPU_mem   box_loss   cls_loss   dfl_loss  Instances       Size\n",
      "      40/50      4.47G     0.9729     0.7179      1.115        663        640: 100%|██████████| 8/8 [00:01<00:00,  7.22it/s]\n",
      "                 Class     Images  Instances      Box(P          R      mAP50  mAP50-95): 100%|██████████| 2/2 [00:00<00:00,  5.68it/s]\n",
      "                   all         73        967      0.864      0.923      0.927      0.645\n",
      "Closing dataloader mosaic\n",
      "\n",
      "      Epoch    GPU_mem   box_loss   cls_loss   dfl_loss  Instances       Size\n",
      "      41/50      4.57G     0.9951     0.7684      1.115        419        640: 100%|██████████| 8/8 [00:02<00:00,  3.96it/s]\n",
      "                 Class     Images  Instances      Box(P          R      mAP50  mAP50-95): 100%|██████████| 2/2 [00:00<00:00,  5.53it/s]\n",
      "                   all         73        967      0.873      0.894      0.914      0.633\n",
      "\n",
      "      Epoch    GPU_mem   box_loss   cls_loss   dfl_loss  Instances       Size\n",
      "      42/50      4.55G     0.9693     0.7186       1.11        426        640: 100%|██████████| 8/8 [00:01<00:00,  7.42it/s]\n",
      "                 Class     Images  Instances      Box(P          R      mAP50  mAP50-95): 100%|██████████| 2/2 [00:00<00:00,  5.65it/s]\n",
      "                   all         73        967      0.852      0.908      0.927      0.657\n",
      "\n",
      "      Epoch    GPU_mem   box_loss   cls_loss   dfl_loss  Instances       Size\n",
      "      43/50      4.57G     0.9374     0.6953      1.085        447        640: 100%|██████████| 8/8 [00:01<00:00,  7.36it/s]\n",
      "                 Class     Images  Instances      Box(P          R      mAP50  mAP50-95): 100%|██████████| 2/2 [00:00<00:00,  5.45it/s]\n",
      "                   all         73        967       0.84      0.936      0.926      0.656\n",
      "\n",
      "      Epoch    GPU_mem   box_loss   cls_loss   dfl_loss  Instances       Size\n",
      "      44/50      4.63G     0.9366     0.6714      1.072        416        640: 100%|██████████| 8/8 [00:01<00:00,  7.45it/s]\n",
      "                 Class     Images  Instances      Box(P          R      mAP50  mAP50-95): 100%|██████████| 2/2 [00:00<00:00,  5.34it/s]\n",
      "                   all         73        967       0.87      0.876      0.919      0.632\n",
      "\n",
      "      Epoch    GPU_mem   box_loss   cls_loss   dfl_loss  Instances       Size\n",
      "      45/50      4.57G     0.9324     0.6633      1.088        396        640: 100%|██████████| 8/8 [00:01<00:00,  7.51it/s]\n",
      "                 Class     Images  Instances      Box(P          R      mAP50  mAP50-95): 100%|██████████| 2/2 [00:00<00:00,  5.47it/s]\n",
      "                   all         73        967      0.865      0.911      0.923      0.644\n",
      "\n",
      "      Epoch    GPU_mem   box_loss   cls_loss   dfl_loss  Instances       Size\n",
      "      46/50      4.55G     0.9318     0.6644      1.082        370        640: 100%|██████████| 8/8 [00:01<00:00,  7.55it/s]\n",
      "                 Class     Images  Instances      Box(P          R      mAP50  mAP50-95): 100%|██████████| 2/2 [00:00<00:00,  5.70it/s]\n",
      "                   all         73        967      0.869      0.893      0.922      0.642\n",
      "\n",
      "      Epoch    GPU_mem   box_loss   cls_loss   dfl_loss  Instances       Size\n",
      "      47/50      4.56G     0.9189     0.6503      1.076        386        640: 100%|██████████| 8/8 [00:01<00:00,  7.46it/s]\n",
      "                 Class     Images  Instances      Box(P          R      mAP50  mAP50-95): 100%|██████████| 2/2 [00:00<00:00,  5.57it/s]\n",
      "                   all         73        967      0.849      0.912      0.922      0.645\n",
      "\n",
      "      Epoch    GPU_mem   box_loss   cls_loss   dfl_loss  Instances       Size\n",
      "      48/50      4.57G     0.9167     0.6547      1.075        373        640: 100%|██████████| 8/8 [00:01<00:00,  7.49it/s]\n",
      "                 Class     Images  Instances      Box(P          R      mAP50  mAP50-95): 100%|██████████| 2/2 [00:00<00:00,  5.76it/s]\n",
      "                   all         73        967      0.868      0.909      0.926      0.647\n",
      "\n",
      "      Epoch    GPU_mem   box_loss   cls_loss   dfl_loss  Instances       Size\n",
      "      49/50      4.57G     0.9107     0.6407      1.076        387        640: 100%|██████████| 8/8 [00:01<00:00,  7.48it/s]\n",
      "                 Class     Images  Instances      Box(P          R      mAP50  mAP50-95): 100%|██████████| 2/2 [00:00<00:00,  5.78it/s]\n",
      "                   all         73        967      0.858      0.914      0.926      0.641\n",
      "\n",
      "      Epoch    GPU_mem   box_loss   cls_loss   dfl_loss  Instances       Size\n",
      "      50/50      4.56G     0.9105     0.6445       1.08        399        640: 100%|██████████| 8/8 [00:01<00:00,  7.53it/s]\n",
      "                 Class     Images  Instances      Box(P          R      mAP50  mAP50-95): 100%|██████████| 2/2 [00:00<00:00,  5.77it/s]\n",
      "                   all         73        967      0.852      0.926      0.926      0.648\n",
      "\n",
      "50 epochs completed in 0.032 hours.\n",
      "Optimizer stripped from runs/detect/train3/weights/last.pt, 6.2MB\n",
      "Optimizer stripped from runs/detect/train3/weights/best.pt, 6.2MB\n",
      "\n",
      "Validating runs/detect/train3/weights/best.pt...\n",
      "Ultralytics YOLOv8.0.187 🚀 Python-3.10.6 torch-2.0.1+cu118 CUDA:0 (Tesla V100-FHHL-16GB, 16151MiB)\n",
      "Model summary (fused): 168 layers, 3006233 parameters, 0 gradients\n",
      "                 Class     Images  Instances      Box(P          R      mAP50  mAP50-95): 100%|██████████| 2/2 [00:00<00:00,  2.98it/s]\n",
      "                   all         73        967      0.851      0.909      0.927      0.658\n",
      "             platelets         73         76       0.79      0.893      0.916      0.536\n",
      "                   rbc         73        819      0.794      0.835      0.881      0.635\n",
      "                   wbc         73         72      0.969          1      0.984      0.803\n",
      "Speed: 1.2ms preprocess, 0.8ms inference, 0.0ms loss, 0.8ms postprocess per image\n",
      "Results saved to \u001b[1mruns/detect/train3\u001b[0m\n"
     ]
    }
   ],
   "source": [
    "# Use the model\n",
    "results = yolo_finetuned.train(data=dataset_yaml_path, epochs=50, batch=32)  # train the model"
   ]
  },
  {
   "cell_type": "markdown",
   "metadata": {},
   "source": [
    "## Evaluation"
   ]
  },
  {
   "cell_type": "markdown",
   "metadata": {},
   "source": [
    "### Validation Eval"
   ]
  },
  {
   "cell_type": "code",
   "execution_count": 19,
   "metadata": {},
   "outputs": [
    {
     "name": "stderr",
     "output_type": "stream",
     "text": [
      "\n",
      "0: 640x640 24 rbcs, 1 wbc, 1: 640x640 1 platelets, 10 rbcs, 1 wbc, 2: 640x640 2 plateletss, 24 rbcs, 1 wbc, 3: 640x640 1 platelets, 21 rbcs, 1 wbc, 4: 640x640 2 plateletss, 14 rbcs, 1 wbc, 5: 640x640 1 platelets, 22 rbcs, 1 wbc, 6: 640x640 15 rbcs, 1 wbc, 7: 640x640 2 plateletss, 12 rbcs, 1 wbc, 8: 640x640 15 rbcs, 1 wbc, 9: 640x640 3 plateletss, 17 rbcs, 1 wbc, 10: 640x640 1 platelets, 11 rbcs, 2 wbcs, 11: 640x640 1 platelets, 13 rbcs, 1 wbc, 12: 640x640 3 plateletss, 16 rbcs, 1 wbc, 13: 640x640 1 platelets, 13 rbcs, 1 wbc, 14: 640x640 4 plateletss, 13 rbcs, 1 wbc, 15: 640x640 3 plateletss, 13 rbcs, 1 wbc, 16: 640x640 1 platelets, 14 rbcs, 1 wbc, 17: 640x640 1 platelets, 22 rbcs, 1 wbc, 18: 640x640 1 platelets, 22 rbcs, 1 wbc, 19: 640x640 1 platelets, 22 rbcs, 1 wbc, 20: 640x640 1 platelets, 19 rbcs, 1 wbc, 21: 640x640 2 plateletss, 20 rbcs, 1 wbc, 22: 640x640 16 rbcs, 1 wbc, 23: 640x640 20 rbcs, 1 wbc, 24: 640x640 1 platelets, 18 rbcs, 1 wbc, 25: 640x640 18 rbcs, 1 wbc, 26: 640x640 3 plateletss, 20 rbcs, 1 wbc, 27: 640x640 16 rbcs, 1 wbc, 28: 640x640 1 platelets, 21 rbcs, 1 wbc, 29: 640x640 2 plateletss, 15 rbcs, 1 wbc, 30: 640x640 2 plateletss, 18 rbcs, 1 wbc, 31: 640x640 2 plateletss, 20 rbcs, 1 wbc, 32: 640x640 25 rbcs, 1 wbc, 33: 640x640 23 rbcs, 1 wbc, 34: 640x640 1 platelets, 21 rbcs, 1 wbc, 35: 640x640 2 plateletss, 16 rbcs, 1 wbc, 36: 640x640 1 platelets, 20 rbcs, 1 wbc, 37: 640x640 1 platelets, 18 rbcs, 1 wbc, 38: 640x640 2 plateletss, 26 rbcs, 1 wbc, 39: 640x640 2 plateletss, 22 rbcs, 1 wbc, 40: 640x640 1 platelets, 18 rbcs, 1 wbc, 41: 640x640 1 platelets, 23 rbcs, 1 wbc, 42: 640x640 3 plateletss, 19 rbcs, 1 wbc, 43: 640x640 5 plateletss, 21 rbcs, 1 wbc, 44: 640x640 2 plateletss, 19 rbcs, 1 wbc, 45: 640x640 2 plateletss, 18 rbcs, 1 wbc, 46: 640x640 17 rbcs, 1 wbc, 47: 640x640 2 plateletss, 20 rbcs, 1 wbc, 48: 640x640 1 platelets, 13 rbcs, 1 wbc, 49: 640x640 2 plateletss, 23 rbcs, 1 wbc, 50: 640x640 3 plateletss, 15 rbcs, 1 wbc, 51: 640x640 2 plateletss, 19 rbcs, 2 wbcs, 52: 640x640 3 plateletss, 19 rbcs, 1 wbc, 53: 640x640 2 plateletss, 21 rbcs, 1 wbc, 54: 640x640 3 plateletss, 20 rbcs, 1 wbc, 55: 640x640 2 plateletss, 20 rbcs, 1 wbc, 56: 640x640 1 platelets, 18 rbcs, 1 wbc, 57: 640x640 1 platelets, 18 rbcs, 1 wbc, 58: 640x640 2 plateletss, 19 rbcs, 1 wbc, 59: 640x640 1 platelets, 27 rbcs, 1 wbc, 60: 640x640 3 plateletss, 21 rbcs, 1 wbc, 61: 640x640 1 platelets, 22 rbcs, 1 wbc, 62: 640x640 24 rbcs, 1 wbc, 63: 640x640 4 plateletss, 23 rbcs, 1 wbc, 64: 640x640 1 platelets, 23 rbcs, 1 wbc, 65: 640x640 23 rbcs, 1 wbc, 66: 640x640 2 plateletss, 20 rbcs, 1 wbc, 67: 640x640 12 rbcs, 1 wbc, 68: 640x640 1 platelets, 15 rbcs, 1 wbc, 69: 640x640 1 platelets, 25 rbcs, 1 wbc, 70: 640x640 2 plateletss, 23 rbcs, 1 wbc, 71: 640x640 1 platelets, 19 rbcs, 1 wbc, 72: 640x640 4 plateletss, 21 rbcs, 1 wbc, 94.7ms\n",
      "Speed: 2.9ms preprocess, 1.3ms inference, 1.2ms postprocess per image at shape (1, 3, 640, 640)\n",
      "Results saved to \u001b[1mpreds/val\u001b[0m\n"
     ]
    }
   ],
   "source": [
    "!rm -rf /workspace/object-detection-balloons/preds/val\n",
    "preds = yolo_finetuned.predict(val_img_paths, save=True, project=\"preds\", name=\"val\") "
   ]
  },
  {
   "cell_type": "code",
   "execution_count": 20,
   "metadata": {},
   "outputs": [
    {
     "name": "stderr",
     "output_type": "stream",
     "text": [
      "Ultralytics YOLOv8.0.187 🚀 Python-3.10.6 torch-2.0.1+cu118 CUDA:0 (Tesla V100-FHHL-16GB, 16151MiB)\n",
      "\u001b[34m\u001b[1mval: \u001b[0mScanning /workspace/object-detection-balloons/datasets/bloodcells/labels/validation.cache... 73 images, 0 backgrounds, 0 corrupt: 100%|██████████| 73/73 [00:00<?, ?it/s]\n",
      "                 Class     Images  Instances      Box(P          R      mAP50  mAP50-95): 100%|██████████| 3/3 [00:02<00:00,  1.29it/s]\n",
      "                   all         73        967      0.852      0.907      0.927      0.656\n",
      "             platelets         73         76       0.79       0.89      0.916      0.532\n",
      "                   rbc         73        819      0.797      0.832      0.881      0.635\n",
      "                   wbc         73         72      0.969          1      0.984      0.803\n",
      "Speed: 2.0ms preprocess, 4.6ms inference, 0.0ms loss, 3.8ms postprocess per image\n",
      "Results saved to \u001b[1mruns/detect/val9\u001b[0m\n"
     ]
    }
   ],
   "source": [
    "metrics = yolo_finetuned.val(data=\"/workspace/object-detection-balloons/bloodcells.yaml\", split=\"val\")"
   ]
  },
  {
   "cell_type": "markdown",
   "metadata": {},
   "source": [
    "### Test Eval"
   ]
  },
  {
   "cell_type": "code",
   "execution_count": 37,
   "metadata": {},
   "outputs": [
    {
     "name": "stderr",
     "output_type": "stream",
     "text": [
      "\n",
      "0: 640x640 2 plateletss, 21 rbcs, 1 wbc, 1: 640x640 3 plateletss, 16 rbcs, 2 wbcs, 2: 640x640 1 platelets, 16 rbcs, 1 wbc, 3: 640x640 3 plateletss, 13 rbcs, 1 wbc, 4: 640x640 2 plateletss, 20 rbcs, 1 wbc, 5: 640x640 1 platelets, 21 rbcs, 1 wbc, 6: 640x640 1 platelets, 18 rbcs, 1 wbc, 7: 640x640 15 rbcs, 1 wbc, 8: 640x640 1 platelets, 17 rbcs, 1 wbc, 9: 640x640 3 plateletss, 13 rbcs, 2 wbcs, 10: 640x640 2 plateletss, 17 rbcs, 1 wbc, 11: 640x640 1 platelets, 18 rbcs, 1 wbc, 12: 640x640 1 platelets, 20 rbcs, 1 wbc, 13: 640x640 20 rbcs, 1 wbc, 14: 640x640 2 plateletss, 20 rbcs, 1 wbc, 15: 640x640 16 rbcs, 1 wbc, 16: 640x640 18 rbcs, 1 wbc, 17: 640x640 17 rbcs, 1 wbc, 18: 640x640 2 plateletss, 18 rbcs, 1 wbc, 19: 640x640 3 plateletss, 21 rbcs, 3 wbcs, 20: 640x640 1 platelets, 17 rbcs, 1 wbc, 21: 640x640 2 plateletss, 24 rbcs, 1 wbc, 22: 640x640 4 plateletss, 19 rbcs, 1 wbc, 23: 640x640 18 rbcs, 1 wbc, 24: 640x640 17 rbcs, 1 wbc, 25: 640x640 2 plateletss, 24 rbcs, 1 wbc, 26: 640x640 1 platelets, 16 rbcs, 1 wbc, 27: 640x640 2 plateletss, 23 rbcs, 1 wbc, 28: 640x640 20 rbcs, 1 wbc, 29: 640x640 22 rbcs, 1 wbc, 30: 640x640 28 rbcs, 1 wbc, 31: 640x640 7 rbcs, 1 wbc, 32: 640x640 1 platelets, 22 rbcs, 1 wbc, 33: 640x640 3 plateletss, 27 rbcs, 1 wbc, 34: 640x640 3 plateletss, 19 rbcs, 1 wbc, 35: 640x640 1 platelets, 17 rbcs, 1 wbc, 49.5ms\n",
      "Speed: 2.0ms preprocess, 1.4ms inference, 1.2ms postprocess per image at shape (1, 3, 640, 640)\n",
      "Results saved to \u001b[1mpreds/test\u001b[0m\n"
     ]
    }
   ],
   "source": [
    "!rm -rf /workspace/object-detection-balloons/preds/test\n",
    "preds = yolo_finetuned.predict(test_img_paths, save=True, project=\"preds\", name=\"test\") "
   ]
  },
  {
   "cell_type": "code",
   "execution_count": 38,
   "metadata": {},
   "outputs": [
    {
     "name": "stderr",
     "output_type": "stream",
     "text": [
      "Ultralytics YOLOv8.0.187 🚀 Python-3.10.6 torch-2.0.1+cu118 CUDA:0 (Tesla V100-FHHL-16GB, 16151MiB)\n",
      "\u001b[34m\u001b[1mval: \u001b[0mScanning /workspace/object-detection-balloons/datasets/bloodcells/labels/test.cache... 36 images, 0 backgrounds, 0 corrupt: 100%|██████████| 36/36 [00:00<?, ?it/s]\n",
      "                 Class     Images  Instances      Box(P          R      mAP50  mAP50-95): 100%|██████████| 2/2 [00:00<00:00,  2.06it/s]\n",
      "                   all         36        471      0.863      0.863      0.902       0.63\n",
      "             platelets         36         36       0.82      0.833       0.87      0.477\n",
      "                   rbc         36        398      0.803      0.781      0.866      0.626\n",
      "                   wbc         36         37      0.965      0.973      0.969      0.788\n",
      "Speed: 2.0ms preprocess, 1.7ms inference, 0.0ms loss, 2.3ms postprocess per image\n",
      "Results saved to \u001b[1mruns/detect/val11\u001b[0m\n"
     ]
    }
   ],
   "source": [
    "metrics = yolo_finetuned.val(data=\"/workspace/object-detection-balloons/bloodcells.yaml\", split=\"test\")"
   ]
  },
  {
   "cell_type": "code",
   "execution_count": null,
   "metadata": {},
   "outputs": [],
   "source": []
  }
 ],
 "metadata": {
  "kernelspec": {
   "display_name": "Python 3 (ipykernel)",
   "language": "python",
   "name": "python3"
  },
  "language_info": {
   "codemirror_mode": {
    "name": "ipython",
    "version": 3
   },
   "file_extension": ".py",
   "mimetype": "text/x-python",
   "name": "python",
   "nbconvert_exporter": "python",
   "pygments_lexer": "ipython3",
   "version": "3.10.6"
  }
 },
 "nbformat": 4,
 "nbformat_minor": 4
}
